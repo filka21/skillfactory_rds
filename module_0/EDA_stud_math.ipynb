{
 "cells": [
  {
   "cell_type": "markdown",
   "metadata": {},
   "source": [
    "Суть проекта — отследить влияние условий жизни учащихся в возрасте от 15 до 22 лет на их успеваемость по математике, чтобы на ранней стадии выявлять студентов, находящихся в группе риска.\n",
    "\n",
    "\n",
    "Ниже вы найдете пошаговую инструкцию по выполнению проекта.\n",
    "\n",
    "Описание датасета:\n",
    "\n",
    "1 school — аббревиатура школы, в которой учится ученик\n",
    "2 sex — пол ученика ('F' - женский, 'M' - мужской)\n",
    "3 age — возраст ученика (от 15 до 22)\n",
    "4 address — тип адреса ученика ('U' - городской, 'R' - за городом)\n",
    "5 famsize — размер семьи('LE3' <= 3, 'GT3' >3)\n",
    "6 Pstatus — статус совместного жилья родителей ('T' - живут вместе 'A' - раздельно)\n",
    "7 Medu — образование матери (0 - нет, 1 - 4 класса, 2 - 5-9 классы, 3 - среднее специальное или 11 классов, 4 - высшее)\n",
    "8 Fedu — образование отца (0 - нет, 1 - 4 класса, 2 - 5-9 классы, 3 - среднее специальное или 11 классов, 4 - высшее)\n",
    "9 Mjob — работа матери ('teacher' - учитель, 'health' - сфера здравоохранения, 'services' - гос служба, 'at_home' - не работает, 'other' - другое)\n",
    "10 Fjob — работа отца ('teacher' - учитель, 'health' - сфера здравоохранения, 'services' - гос служба, 'at_home' - не работает, 'other' - другое)\n",
    "11 reason — причина выбора школы ('home' - близость к дому, 'reputation' - репутация школы, 'course' - образовательная программа, 'other' - другое)\n",
    "12 guardian — опекун ('mother' - мать, 'father' - отец, 'other' - другое)\n",
    "13 traveltime — время в пути до школы (1 - <15 мин., 2 - 15-30 мин., 3 - 30-60 мин., 4 - >60 мин.)\n",
    "14 studytime — время на учёбу помимо школы в неделю (1 - <2 часов, 2 - 2-5 часов, 3 - 5-10 часов, 4 - >10 часов)\n",
    "15 failures — количество внеучебных неудач (n, если 1<=n<=3, иначе 0)\n",
    "16 schoolsup — дополнительная образовательная поддержка (yes или no)\n",
    "17 famsup — семейная образовательная поддержка (yes или no)\n",
    "18 paid — дополнительные платные занятия по математике (yes или no)\n",
    "19 activities — дополнительные внеучебные занятия (yes или no)\n",
    "20 nursery — посещал детский сад (yes или no)\n",
    "21 higher — хочет получить высшее образование (yes или no)\n",
    "22 internet — наличие интернета дома (yes или no)\n",
    "23 romantic — в романтических отношениях (yes или no)\n",
    "24 famrel — семейные отношения (от 1 - очень плохо до 5 - очень хорошо)\n",
    "25 freetime — свободное время после школы (от 1 - очень мало до 5 - очень мого)\n",
    "26 goout — проведение времени с друзьями (от 1 - очень мало до 5 - очень много)\n",
    "27 health — текущее состояние здоровья (от 1 - очень плохо до 5 - очень хорошо)\n",
    "28 absences — количество пропущенных занятий\n",
    "29 score — баллы по госэкзамену по математике"
   ]
  },
  {
   "cell_type": "markdown",
   "metadata": {},
   "source": [
    "# Дата сет"
   ]
  },
  {
   "cell_type": "code",
   "execution_count": 1,
   "metadata": {},
   "outputs": [
    {
     "data": {
      "text/html": [
       "<div>\n",
       "<style scoped>\n",
       "    .dataframe tbody tr th:only-of-type {\n",
       "        vertical-align: middle;\n",
       "    }\n",
       "\n",
       "    .dataframe tbody tr th {\n",
       "        vertical-align: top;\n",
       "    }\n",
       "\n",
       "    .dataframe thead th {\n",
       "        text-align: right;\n",
       "    }\n",
       "</style>\n",
       "<table border=\"1\" class=\"dataframe\">\n",
       "  <thead>\n",
       "    <tr style=\"text-align: right;\">\n",
       "      <th></th>\n",
       "      <th>school</th>\n",
       "      <th>sex</th>\n",
       "      <th>age</th>\n",
       "      <th>address</th>\n",
       "      <th>famsize</th>\n",
       "      <th>Pstatus</th>\n",
       "      <th>Medu</th>\n",
       "      <th>Fedu</th>\n",
       "      <th>Mjob</th>\n",
       "      <th>Fjob</th>\n",
       "      <th>reason</th>\n",
       "      <th>guardian</th>\n",
       "      <th>traveltime</th>\n",
       "      <th>studytime</th>\n",
       "      <th>failures</th>\n",
       "      <th>schoolsup</th>\n",
       "      <th>famsup</th>\n",
       "      <th>paid</th>\n",
       "      <th>activities</th>\n",
       "      <th>nursery</th>\n",
       "      <th>studytime, granular</th>\n",
       "      <th>higher</th>\n",
       "      <th>internet</th>\n",
       "      <th>romantic</th>\n",
       "      <th>famrel</th>\n",
       "      <th>freetime</th>\n",
       "      <th>goout</th>\n",
       "      <th>health</th>\n",
       "      <th>absences</th>\n",
       "      <th>score</th>\n",
       "    </tr>\n",
       "  </thead>\n",
       "  <tbody>\n",
       "    <tr>\n",
       "      <th>0</th>\n",
       "      <td>GP</td>\n",
       "      <td>F</td>\n",
       "      <td>18</td>\n",
       "      <td>U</td>\n",
       "      <td>NaN</td>\n",
       "      <td>A</td>\n",
       "      <td>4.0</td>\n",
       "      <td>4.0</td>\n",
       "      <td>at_home</td>\n",
       "      <td>teacher</td>\n",
       "      <td>course</td>\n",
       "      <td>mother</td>\n",
       "      <td>2.0</td>\n",
       "      <td>2.0</td>\n",
       "      <td>0.0</td>\n",
       "      <td>yes</td>\n",
       "      <td>no</td>\n",
       "      <td>no</td>\n",
       "      <td>no</td>\n",
       "      <td>yes</td>\n",
       "      <td>-6.0</td>\n",
       "      <td>yes</td>\n",
       "      <td>NaN</td>\n",
       "      <td>no</td>\n",
       "      <td>4.0</td>\n",
       "      <td>3.0</td>\n",
       "      <td>4.0</td>\n",
       "      <td>3.0</td>\n",
       "      <td>6.0</td>\n",
       "      <td>30.0</td>\n",
       "    </tr>\n",
       "    <tr>\n",
       "      <th>1</th>\n",
       "      <td>GP</td>\n",
       "      <td>F</td>\n",
       "      <td>17</td>\n",
       "      <td>U</td>\n",
       "      <td>GT3</td>\n",
       "      <td>NaN</td>\n",
       "      <td>1.0</td>\n",
       "      <td>1.0</td>\n",
       "      <td>at_home</td>\n",
       "      <td>other</td>\n",
       "      <td>course</td>\n",
       "      <td>father</td>\n",
       "      <td>1.0</td>\n",
       "      <td>2.0</td>\n",
       "      <td>0.0</td>\n",
       "      <td>no</td>\n",
       "      <td>yes</td>\n",
       "      <td>no</td>\n",
       "      <td>no</td>\n",
       "      <td>no</td>\n",
       "      <td>-6.0</td>\n",
       "      <td>yes</td>\n",
       "      <td>yes</td>\n",
       "      <td>no</td>\n",
       "      <td>5.0</td>\n",
       "      <td>3.0</td>\n",
       "      <td>3.0</td>\n",
       "      <td>3.0</td>\n",
       "      <td>4.0</td>\n",
       "      <td>30.0</td>\n",
       "    </tr>\n",
       "    <tr>\n",
       "      <th>2</th>\n",
       "      <td>GP</td>\n",
       "      <td>F</td>\n",
       "      <td>15</td>\n",
       "      <td>U</td>\n",
       "      <td>LE3</td>\n",
       "      <td>T</td>\n",
       "      <td>1.0</td>\n",
       "      <td>1.0</td>\n",
       "      <td>at_home</td>\n",
       "      <td>other</td>\n",
       "      <td>other</td>\n",
       "      <td>mother</td>\n",
       "      <td>1.0</td>\n",
       "      <td>2.0</td>\n",
       "      <td>3.0</td>\n",
       "      <td>yes</td>\n",
       "      <td>no</td>\n",
       "      <td>NaN</td>\n",
       "      <td>no</td>\n",
       "      <td>yes</td>\n",
       "      <td>-6.0</td>\n",
       "      <td>yes</td>\n",
       "      <td>yes</td>\n",
       "      <td>NaN</td>\n",
       "      <td>4.0</td>\n",
       "      <td>3.0</td>\n",
       "      <td>2.0</td>\n",
       "      <td>3.0</td>\n",
       "      <td>10.0</td>\n",
       "      <td>50.0</td>\n",
       "    </tr>\n",
       "    <tr>\n",
       "      <th>3</th>\n",
       "      <td>GP</td>\n",
       "      <td>F</td>\n",
       "      <td>15</td>\n",
       "      <td>U</td>\n",
       "      <td>GT3</td>\n",
       "      <td>T</td>\n",
       "      <td>4.0</td>\n",
       "      <td>2.0</td>\n",
       "      <td>health</td>\n",
       "      <td>NaN</td>\n",
       "      <td>home</td>\n",
       "      <td>mother</td>\n",
       "      <td>1.0</td>\n",
       "      <td>3.0</td>\n",
       "      <td>0.0</td>\n",
       "      <td>no</td>\n",
       "      <td>yes</td>\n",
       "      <td>yes</td>\n",
       "      <td>yes</td>\n",
       "      <td>yes</td>\n",
       "      <td>-9.0</td>\n",
       "      <td>yes</td>\n",
       "      <td>yes</td>\n",
       "      <td>yes</td>\n",
       "      <td>3.0</td>\n",
       "      <td>2.0</td>\n",
       "      <td>2.0</td>\n",
       "      <td>5.0</td>\n",
       "      <td>2.0</td>\n",
       "      <td>75.0</td>\n",
       "    </tr>\n",
       "    <tr>\n",
       "      <th>4</th>\n",
       "      <td>GP</td>\n",
       "      <td>F</td>\n",
       "      <td>16</td>\n",
       "      <td>U</td>\n",
       "      <td>GT3</td>\n",
       "      <td>T</td>\n",
       "      <td>3.0</td>\n",
       "      <td>3.0</td>\n",
       "      <td>other</td>\n",
       "      <td>other</td>\n",
       "      <td>home</td>\n",
       "      <td>father</td>\n",
       "      <td>1.0</td>\n",
       "      <td>2.0</td>\n",
       "      <td>0.0</td>\n",
       "      <td>no</td>\n",
       "      <td>yes</td>\n",
       "      <td>yes</td>\n",
       "      <td>no</td>\n",
       "      <td>yes</td>\n",
       "      <td>-6.0</td>\n",
       "      <td>yes</td>\n",
       "      <td>no</td>\n",
       "      <td>no</td>\n",
       "      <td>4.0</td>\n",
       "      <td>3.0</td>\n",
       "      <td>2.0</td>\n",
       "      <td>5.0</td>\n",
       "      <td>4.0</td>\n",
       "      <td>50.0</td>\n",
       "    </tr>\n",
       "    <tr>\n",
       "      <th>5</th>\n",
       "      <td>GP</td>\n",
       "      <td>M</td>\n",
       "      <td>16</td>\n",
       "      <td>U</td>\n",
       "      <td>LE3</td>\n",
       "      <td>T</td>\n",
       "      <td>4.0</td>\n",
       "      <td>3.0</td>\n",
       "      <td>services</td>\n",
       "      <td>other</td>\n",
       "      <td>reputation</td>\n",
       "      <td>mother</td>\n",
       "      <td>1.0</td>\n",
       "      <td>2.0</td>\n",
       "      <td>0.0</td>\n",
       "      <td>no</td>\n",
       "      <td>yes</td>\n",
       "      <td>yes</td>\n",
       "      <td>yes</td>\n",
       "      <td>yes</td>\n",
       "      <td>-6.0</td>\n",
       "      <td>yes</td>\n",
       "      <td>yes</td>\n",
       "      <td>no</td>\n",
       "      <td>5.0</td>\n",
       "      <td>4.0</td>\n",
       "      <td>2.0</td>\n",
       "      <td>5.0</td>\n",
       "      <td>10.0</td>\n",
       "      <td>75.0</td>\n",
       "    </tr>\n",
       "    <tr>\n",
       "      <th>6</th>\n",
       "      <td>GP</td>\n",
       "      <td>M</td>\n",
       "      <td>16</td>\n",
       "      <td>NaN</td>\n",
       "      <td>LE3</td>\n",
       "      <td>T</td>\n",
       "      <td>2.0</td>\n",
       "      <td>2.0</td>\n",
       "      <td>other</td>\n",
       "      <td>other</td>\n",
       "      <td>home</td>\n",
       "      <td>mother</td>\n",
       "      <td>1.0</td>\n",
       "      <td>2.0</td>\n",
       "      <td>0.0</td>\n",
       "      <td>no</td>\n",
       "      <td>no</td>\n",
       "      <td>no</td>\n",
       "      <td>no</td>\n",
       "      <td>yes</td>\n",
       "      <td>-6.0</td>\n",
       "      <td>yes</td>\n",
       "      <td>yes</td>\n",
       "      <td>no</td>\n",
       "      <td>4.0</td>\n",
       "      <td>4.0</td>\n",
       "      <td>4.0</td>\n",
       "      <td>3.0</td>\n",
       "      <td>0.0</td>\n",
       "      <td>55.0</td>\n",
       "    </tr>\n",
       "    <tr>\n",
       "      <th>7</th>\n",
       "      <td>GP</td>\n",
       "      <td>F</td>\n",
       "      <td>17</td>\n",
       "      <td>U</td>\n",
       "      <td>GT3</td>\n",
       "      <td>A</td>\n",
       "      <td>4.0</td>\n",
       "      <td>4.0</td>\n",
       "      <td>other</td>\n",
       "      <td>teacher</td>\n",
       "      <td>home</td>\n",
       "      <td>mother</td>\n",
       "      <td>2.0</td>\n",
       "      <td>2.0</td>\n",
       "      <td>0.0</td>\n",
       "      <td>yes</td>\n",
       "      <td>yes</td>\n",
       "      <td>no</td>\n",
       "      <td>no</td>\n",
       "      <td>yes</td>\n",
       "      <td>-6.0</td>\n",
       "      <td>yes</td>\n",
       "      <td>no</td>\n",
       "      <td>no</td>\n",
       "      <td>4.0</td>\n",
       "      <td>1.0</td>\n",
       "      <td>4.0</td>\n",
       "      <td>1.0</td>\n",
       "      <td>6.0</td>\n",
       "      <td>30.0</td>\n",
       "    </tr>\n",
       "    <tr>\n",
       "      <th>8</th>\n",
       "      <td>GP</td>\n",
       "      <td>M</td>\n",
       "      <td>15</td>\n",
       "      <td>U</td>\n",
       "      <td>LE3</td>\n",
       "      <td>A</td>\n",
       "      <td>3.0</td>\n",
       "      <td>2.0</td>\n",
       "      <td>services</td>\n",
       "      <td>other</td>\n",
       "      <td>home</td>\n",
       "      <td>mother</td>\n",
       "      <td>1.0</td>\n",
       "      <td>2.0</td>\n",
       "      <td>0.0</td>\n",
       "      <td>no</td>\n",
       "      <td>yes</td>\n",
       "      <td>yes</td>\n",
       "      <td>no</td>\n",
       "      <td>yes</td>\n",
       "      <td>-6.0</td>\n",
       "      <td>yes</td>\n",
       "      <td>yes</td>\n",
       "      <td>no</td>\n",
       "      <td>NaN</td>\n",
       "      <td>2.0</td>\n",
       "      <td>2.0</td>\n",
       "      <td>1.0</td>\n",
       "      <td>0.0</td>\n",
       "      <td>95.0</td>\n",
       "    </tr>\n",
       "    <tr>\n",
       "      <th>9</th>\n",
       "      <td>GP</td>\n",
       "      <td>M</td>\n",
       "      <td>15</td>\n",
       "      <td>U</td>\n",
       "      <td>NaN</td>\n",
       "      <td>NaN</td>\n",
       "      <td>3.0</td>\n",
       "      <td>4.0</td>\n",
       "      <td>other</td>\n",
       "      <td>other</td>\n",
       "      <td>home</td>\n",
       "      <td>mother</td>\n",
       "      <td>1.0</td>\n",
       "      <td>2.0</td>\n",
       "      <td>0.0</td>\n",
       "      <td>no</td>\n",
       "      <td>yes</td>\n",
       "      <td>yes</td>\n",
       "      <td>yes</td>\n",
       "      <td>yes</td>\n",
       "      <td>-6.0</td>\n",
       "      <td>yes</td>\n",
       "      <td>yes</td>\n",
       "      <td>no</td>\n",
       "      <td>5.0</td>\n",
       "      <td>5.0</td>\n",
       "      <td>1.0</td>\n",
       "      <td>5.0</td>\n",
       "      <td>0.0</td>\n",
       "      <td>75.0</td>\n",
       "    </tr>\n",
       "  </tbody>\n",
       "</table>\n",
       "</div>"
      ],
      "text/plain": [
       "  school sex  age address famsize Pstatus  Medu  Fedu      Mjob     Fjob  \\\n",
       "0     GP   F   18       U     NaN       A   4.0   4.0   at_home  teacher   \n",
       "1     GP   F   17       U     GT3     NaN   1.0   1.0   at_home    other   \n",
       "2     GP   F   15       U     LE3       T   1.0   1.0   at_home    other   \n",
       "3     GP   F   15       U     GT3       T   4.0   2.0    health      NaN   \n",
       "4     GP   F   16       U     GT3       T   3.0   3.0     other    other   \n",
       "5     GP   M   16       U     LE3       T   4.0   3.0  services    other   \n",
       "6     GP   M   16     NaN     LE3       T   2.0   2.0     other    other   \n",
       "7     GP   F   17       U     GT3       A   4.0   4.0     other  teacher   \n",
       "8     GP   M   15       U     LE3       A   3.0   2.0  services    other   \n",
       "9     GP   M   15       U     NaN     NaN   3.0   4.0     other    other   \n",
       "\n",
       "       reason guardian  traveltime  studytime  failures schoolsup famsup paid  \\\n",
       "0      course   mother         2.0        2.0       0.0       yes     no   no   \n",
       "1      course   father         1.0        2.0       0.0        no    yes   no   \n",
       "2       other   mother         1.0        2.0       3.0       yes     no  NaN   \n",
       "3        home   mother         1.0        3.0       0.0        no    yes  yes   \n",
       "4        home   father         1.0        2.0       0.0        no    yes  yes   \n",
       "5  reputation   mother         1.0        2.0       0.0        no    yes  yes   \n",
       "6        home   mother         1.0        2.0       0.0        no     no   no   \n",
       "7        home   mother         2.0        2.0       0.0       yes    yes   no   \n",
       "8        home   mother         1.0        2.0       0.0        no    yes  yes   \n",
       "9        home   mother         1.0        2.0       0.0        no    yes  yes   \n",
       "\n",
       "  activities nursery  studytime, granular higher internet romantic  famrel  \\\n",
       "0         no     yes                 -6.0    yes      NaN       no     4.0   \n",
       "1         no      no                 -6.0    yes      yes       no     5.0   \n",
       "2         no     yes                 -6.0    yes      yes      NaN     4.0   \n",
       "3        yes     yes                 -9.0    yes      yes      yes     3.0   \n",
       "4         no     yes                 -6.0    yes       no       no     4.0   \n",
       "5        yes     yes                 -6.0    yes      yes       no     5.0   \n",
       "6         no     yes                 -6.0    yes      yes       no     4.0   \n",
       "7         no     yes                 -6.0    yes       no       no     4.0   \n",
       "8         no     yes                 -6.0    yes      yes       no     NaN   \n",
       "9        yes     yes                 -6.0    yes      yes       no     5.0   \n",
       "\n",
       "   freetime  goout  health  absences  score  \n",
       "0       3.0    4.0     3.0       6.0   30.0  \n",
       "1       3.0    3.0     3.0       4.0   30.0  \n",
       "2       3.0    2.0     3.0      10.0   50.0  \n",
       "3       2.0    2.0     5.0       2.0   75.0  \n",
       "4       3.0    2.0     5.0       4.0   50.0  \n",
       "5       4.0    2.0     5.0      10.0   75.0  \n",
       "6       4.0    4.0     3.0       0.0   55.0  \n",
       "7       1.0    4.0     1.0       6.0   30.0  \n",
       "8       2.0    2.0     1.0       0.0   95.0  \n",
       "9       5.0    1.0     5.0       0.0   75.0  "
      ]
     },
     "metadata": {},
     "output_type": "display_data"
    },
    {
     "name": "stdout",
     "output_type": "stream",
     "text": [
      "<class 'pandas.core.frame.DataFrame'>\n",
      "RangeIndex: 395 entries, 0 to 394\n",
      "Data columns (total 30 columns):\n",
      " #   Column               Non-Null Count  Dtype  \n",
      "---  ------               --------------  -----  \n",
      " 0   school               395 non-null    object \n",
      " 1   sex                  395 non-null    object \n",
      " 2   age                  395 non-null    int64  \n",
      " 3   address              378 non-null    object \n",
      " 4   famsize              368 non-null    object \n",
      " 5   Pstatus              350 non-null    object \n",
      " 6   Medu                 392 non-null    float64\n",
      " 7   Fedu                 371 non-null    float64\n",
      " 8   Mjob                 376 non-null    object \n",
      " 9   Fjob                 359 non-null    object \n",
      " 10  reason               378 non-null    object \n",
      " 11  guardian             364 non-null    object \n",
      " 12  traveltime           367 non-null    float64\n",
      " 13  studytime            388 non-null    float64\n",
      " 14  failures             373 non-null    float64\n",
      " 15  schoolsup            386 non-null    object \n",
      " 16  famsup               356 non-null    object \n",
      " 17  paid                 355 non-null    object \n",
      " 18  activities           381 non-null    object \n",
      " 19  nursery              379 non-null    object \n",
      " 20  studytime, granular  388 non-null    float64\n",
      " 21  higher               375 non-null    object \n",
      " 22  internet             361 non-null    object \n",
      " 23  romantic             364 non-null    object \n",
      " 24  famrel               368 non-null    float64\n",
      " 25  freetime             384 non-null    float64\n",
      " 26  goout                387 non-null    float64\n",
      " 27  health               380 non-null    float64\n",
      " 28  absences             383 non-null    float64\n",
      " 29  score                389 non-null    float64\n",
      "dtypes: float64(12), int64(1), object(17)\n",
      "memory usage: 92.7+ KB\n"
     ]
    }
   ],
   "source": [
    "import numpy as np\n",
    "import pandas as pd\n",
    "import seaborn as sns\n",
    "import matplotlib.pyplot as plt\n",
    "import os\n",
    "from collections import Counter\n",
    "import pandas as pd\n",
    "import matplotlib.pyplot as plt\n",
    "import seaborn as sns\n",
    "from itertools import combinations\n",
    "from scipy.stats import ttest_ind\n",
    "\n",
    "pd.set_option('display.max_rows', 50) # показывать больше строк\n",
    "pd.set_option('display.max_columns', 50) # показывать больше колонок\n",
    "\n",
    "stud_math = pd.read_csv('stud_math.xls')\n",
    "display(stud_math.head(10))\n",
    "stud_math.info() "
   ]
  },
  {
   "cell_type": "code",
   "execution_count": 3,
   "metadata": {},
   "outputs": [
    {
     "data": {
      "text/plain": [
       "(395, 30)"
      ]
     },
     "execution_count": 3,
     "metadata": {},
     "output_type": "execute_result"
    }
   ],
   "source": [
    "#размер датасета\n",
    "stud_math.shape"
   ]
  },
  {
   "cell_type": "markdown",
   "metadata": {},
   "source": [
    "Датасет содержит:\n",
    "\n",
    "395 строк (учеников);\n",
    "30 признаков, в т.ч. целевой признак - score - оценка по математике;\n",
    "из них 13 признаков числовых, 17 строковых."
   ]
  },
  {
   "cell_type": "markdown",
   "metadata": {},
   "source": [
    "# Функции"
   ]
  },
  {
   "cell_type": "code",
   "execution_count": 4,
   "metadata": {},
   "outputs": [],
   "source": [
    "def get_boxplot(data, column, score_column):\n",
    "    fig, ax = plt.subplots(figsize = (10, 4))\n",
    "    sns.boxplot(x=column, y=score_column, \n",
    "                data=data.loc[data.loc[:, column].isin(data.loc[:, column].value_counts().index[:10])],\n",
    "               ax=ax)\n",
    "    plt.xticks(rotation=45)\n",
    "    ax.set_title('Boxplot for ' + column)\n",
    "    plt.show()\n",
    "    \n",
    "def uniq_nan (df,c):\n",
    "# Уникальные значения, пропущенные значения \n",
    "    column_type_numeric = False\n",
    "    # тип колонки\n",
    "    if df[c].dtype == 'O':\n",
    "        print(\"Столбец:\", c, \"не является числовым\")\n",
    "    elif df[c].dtype == \"int64\" or df[c].dtype == \"float64\":\n",
    "        column_type_numeric = True        \n",
    "        print(\"Столбец:\", c, \"является числовым\")\n",
    "    else:\n",
    "        print('Признак', c, 'имеет тип', df[c].dtype)\n",
    "    #print(\"Столбец:\", c)    \n",
    "    print(pd.DataFrame(df[c].unique()))    \n",
    "    print(\"Пропущено значений:\", df[c].isna().sum())\n",
    "    print(\"Доля пропущенных значений:\", round(100*df[c].isna().sum()/df[c].shape[0]))\n",
    "    print(df[c].value_counts())\n",
    "\n",
    "def uniq_nan_all (df,c):\n",
    "    # Уникальные значения, пропущенные значения \n",
    "    column_type_numeric = False\n",
    "    # тип колонки\n",
    "    if df[c].dtype == 'O':\n",
    "        print(\"Столбец:\", c, \"не является числовым\")\n",
    "    elif df[c].dtype == \"int64\" or df[c].dtype == \"float64\":\n",
    "        column_type_numeric = True        \n",
    "        print(\"Столбец:\", c, \"является числовым\")\n",
    "    else:\n",
    "        print('Признак', c, 'имеет тип', df[c].dtype)\n",
    "    #print(\"Столбец:\", c)    \n",
    "     \n",
    "    print(pd.DataFrame(df[c].unique()))    \n",
    "    print(\"Пропущено значений:\", df[c].isna().sum())\n",
    "    print(\"Доля пропущенных значений:\", round(100*df[c].isna().sum()/df[c].shape[0]))\n",
    "            \n",
    "def get_stat_dif(df, c):\n",
    "    cols = df.loc[:, c].value_counts().index[:10]\n",
    "    combinations_all = list(combinations(cols, 2))\n",
    "    for comb in combinations_all:\n",
    "        if ttest_ind(df.loc[df.loc[:, c] == comb[0], 'score'], \n",
    "                        df.loc[df.loc[:, c] == comb[1], 'score']).pvalue \\\n",
    "            <= 0.05/len(combinations_all): # Учли поправку Бонферони\n",
    "            print('Найдены статистически значимые различия для колонки', c)\n",
    "            break        \n",
    "\n",
    "def get_boxplot(df, column):\n",
    "    fig, ax = plt.subplots(figsize = (10, 4))\n",
    "    sns.boxplot(x=column, y='score', data=df.loc[df.loc[:, column].isin(df.loc[:, column].value_counts().index[:10])], ax=ax)\n",
    "    plt.xticks(rotation=45)\n",
    "    ax.set_title('Boxplot for ' + column)\n",
    "    plt.show()\n",
    "    \n",
    "def int_hist (df, c):\n",
    "    print(df[c].hist())\n",
    "    print(df[c].describe())\n",
    "    print(df[c].value_counts().sort_values())"
   ]
  },
  {
   "cell_type": "markdown",
   "metadata": {},
   "source": [
    "# Предварительная оценка данных"
   ]
  },
  {
   "cell_type": "code",
   "execution_count": 5,
   "metadata": {},
   "outputs": [
    {
     "data": {
      "text/plain": [
       "Index(['school', 'sex', 'age', 'address', 'famsize', 'Pstatus', 'Medu', 'Fedu',\n",
       "       'Mjob', 'Fjob', 'reason', 'guardian', 'traveltime', 'studytime',\n",
       "       'failures', 'schoolsup', 'famsup', 'paid', 'activities', 'nursery',\n",
       "       'studytime, granular', 'higher', 'internet', 'romantic', 'famrel',\n",
       "       'freetime', 'goout', 'health', 'absences', 'score'],\n",
       "      dtype='object')"
      ]
     },
     "execution_count": 5,
     "metadata": {},
     "output_type": "execute_result"
    }
   ],
   "source": [
    "#Определяем корректность наименования столбцов. Принеобходимости их переименовываем\n",
    "stud_math.columns"
   ]
  },
  {
   "cell_type": "code",
   "execution_count": 6,
   "metadata": {},
   "outputs": [],
   "source": [
    "stud_math.rename(columns={'Pstatus': 'pstatus', 'Medu': 'medu', 'Fedu': 'fedu','Mjob': 'mjob','Fjob': 'fjob', \n",
    "                          'studytime, granular':'studytime_granular'}, inplace=True)"
   ]
  },
  {
   "cell_type": "code",
   "execution_count": 7,
   "metadata": {},
   "outputs": [
    {
     "data": {
      "text/plain": [
       "Index(['school', 'sex', 'age', 'address', 'famsize', 'pstatus', 'medu', 'fedu',\n",
       "       'mjob', 'fjob', 'reason', 'guardian', 'traveltime', 'studytime',\n",
       "       'failures', 'schoolsup', 'famsup', 'paid', 'activities', 'nursery',\n",
       "       'studytime_granular', 'higher', 'internet', 'romantic', 'famrel',\n",
       "       'freetime', 'goout', 'health', 'absences', 'score'],\n",
       "      dtype='object')"
      ]
     },
     "execution_count": 7,
     "metadata": {},
     "output_type": "execute_result"
    }
   ],
   "source": [
    "#Проверка\n",
    "stud_math.columns"
   ]
  },
  {
   "cell_type": "code",
   "execution_count": 8,
   "metadata": {},
   "outputs": [
    {
     "name": "stdout",
     "output_type": "stream",
     "text": [
      "['address', 'famsize', 'pstatus', 'medu', 'fedu', 'mjob', 'fjob', 'reason', 'guardian', 'traveltime', 'studytime', 'failures', 'schoolsup', 'famsup', 'paid', 'activities', 'nursery', 'studytime_granular', 'higher', 'internet', 'romantic', 'famrel', 'freetime', 'goout', 'health', 'absences', 'score']\n"
     ]
    }
   ],
   "source": [
    "# В данном блоке определяем в каких столбцах есть незаполненные данные.\n",
    "list_col = stud_math.columns\n",
    "list_view = []\n",
    "list_view.clear()\n",
    "for i in range(0,len(list_col)):    \n",
    "    if stud_math[list_col[i]].isna().sum() > 0:\n",
    "        list_view.append(list_col[i]) # наименование столбцов с пропущенными значениями\n",
    "print(list_view)"
   ]
  },
  {
   "cell_type": "code",
   "execution_count": 9,
   "metadata": {},
   "outputs": [
    {
     "name": "stdout",
     "output_type": "stream",
     "text": [
      "Столбец: address не является числовым\n",
      "     0\n",
      "0    U\n",
      "1  NaN\n",
      "2    R\n",
      "Пропущено значений: 17\n",
      "Доля пропущенных значений: 4.0\n",
      "Столбец: famsize не является числовым\n",
      "     0\n",
      "0  NaN\n",
      "1  GT3\n",
      "2  LE3\n",
      "Пропущено значений: 27\n",
      "Доля пропущенных значений: 7.0\n",
      "Столбец: pstatus не является числовым\n",
      "     0\n",
      "0    A\n",
      "1  NaN\n",
      "2    T\n",
      "Пропущено значений: 45\n",
      "Доля пропущенных значений: 11.0\n",
      "Столбец: medu является числовым\n",
      "     0\n",
      "0  4.0\n",
      "1  1.0\n",
      "2  3.0\n",
      "3  2.0\n",
      "4  NaN\n",
      "5  0.0\n",
      "Пропущено значений: 3\n",
      "Доля пропущенных значений: 1.0\n",
      "Столбец: fedu является числовым\n",
      "      0\n",
      "0   4.0\n",
      "1   1.0\n",
      "2   2.0\n",
      "3   3.0\n",
      "4  40.0\n",
      "5   NaN\n",
      "6   0.0\n",
      "Пропущено значений: 24\n",
      "Доля пропущенных значений: 6.0\n",
      "Столбец: mjob не является числовым\n",
      "          0\n",
      "0   at_home\n",
      "1    health\n",
      "2     other\n",
      "3  services\n",
      "4   teacher\n",
      "5       NaN\n",
      "Пропущено значений: 19\n",
      "Доля пропущенных значений: 5.0\n",
      "Столбец: fjob не является числовым\n",
      "          0\n",
      "0   teacher\n",
      "1     other\n",
      "2       NaN\n",
      "3    health\n",
      "4  services\n",
      "5   at_home\n",
      "Пропущено значений: 36\n",
      "Доля пропущенных значений: 9.0\n",
      "Столбец: reason не является числовым\n",
      "            0\n",
      "0      course\n",
      "1       other\n",
      "2        home\n",
      "3  reputation\n",
      "4         NaN\n",
      "Пропущено значений: 17\n",
      "Доля пропущенных значений: 4.0\n",
      "Столбец: guardian не является числовым\n",
      "        0\n",
      "0  mother\n",
      "1  father\n",
      "2   other\n",
      "3     NaN\n",
      "Пропущено значений: 31\n",
      "Доля пропущенных значений: 8.0\n",
      "Столбец: traveltime является числовым\n",
      "     0\n",
      "0  2.0\n",
      "1  1.0\n",
      "2  3.0\n",
      "3  NaN\n",
      "4  4.0\n",
      "Пропущено значений: 28\n",
      "Доля пропущенных значений: 7.0\n",
      "Столбец: studytime является числовым\n",
      "     0\n",
      "0  2.0\n",
      "1  3.0\n",
      "2  1.0\n",
      "3  NaN\n",
      "4  4.0\n",
      "Пропущено значений: 7\n",
      "Доля пропущенных значений: 2.0\n",
      "Столбец: failures является числовым\n",
      "     0\n",
      "0  0.0\n",
      "1  3.0\n",
      "2  NaN\n",
      "3  2.0\n",
      "4  1.0\n",
      "Пропущено значений: 22\n",
      "Доля пропущенных значений: 6.0\n",
      "Столбец: schoolsup не является числовым\n",
      "     0\n",
      "0  yes\n",
      "1   no\n",
      "2  NaN\n",
      "Пропущено значений: 9\n",
      "Доля пропущенных значений: 2.0\n",
      "Столбец: famsup не является числовым\n",
      "     0\n",
      "0   no\n",
      "1  yes\n",
      "2  NaN\n",
      "Пропущено значений: 39\n",
      "Доля пропущенных значений: 10.0\n",
      "Столбец: paid не является числовым\n",
      "     0\n",
      "0   no\n",
      "1  NaN\n",
      "2  yes\n",
      "Пропущено значений: 40\n",
      "Доля пропущенных значений: 10.0\n",
      "Столбец: activities не является числовым\n",
      "     0\n",
      "0   no\n",
      "1  yes\n",
      "2  NaN\n",
      "Пропущено значений: 14\n",
      "Доля пропущенных значений: 4.0\n",
      "Столбец: nursery не является числовым\n",
      "     0\n",
      "0  yes\n",
      "1   no\n",
      "2  NaN\n",
      "Пропущено значений: 16\n",
      "Доля пропущенных значений: 4.0\n",
      "Столбец: studytime_granular является числовым\n",
      "      0\n",
      "0  -6.0\n",
      "1  -9.0\n",
      "2  -3.0\n",
      "3   NaN\n",
      "4 -12.0\n",
      "Пропущено значений: 7\n",
      "Доля пропущенных значений: 2.0\n",
      "Столбец: higher не является числовым\n",
      "     0\n",
      "0  yes\n",
      "1  NaN\n",
      "2   no\n",
      "Пропущено значений: 20\n",
      "Доля пропущенных значений: 5.0\n",
      "Столбец: internet не является числовым\n",
      "     0\n",
      "0  NaN\n",
      "1  yes\n",
      "2   no\n",
      "Пропущено значений: 34\n",
      "Доля пропущенных значений: 9.0\n",
      "Столбец: romantic не является числовым\n",
      "     0\n",
      "0   no\n",
      "1  NaN\n",
      "2  yes\n",
      "Пропущено значений: 31\n",
      "Доля пропущенных значений: 8.0\n",
      "Столбец: famrel является числовым\n",
      "     0\n",
      "0  4.0\n",
      "1  5.0\n",
      "2  3.0\n",
      "3  NaN\n",
      "4 -1.0\n",
      "5  2.0\n",
      "6  1.0\n",
      "Пропущено значений: 27\n",
      "Доля пропущенных значений: 7.0\n",
      "Столбец: freetime является числовым\n",
      "     0\n",
      "0  3.0\n",
      "1  2.0\n",
      "2  4.0\n",
      "3  1.0\n",
      "4  5.0\n",
      "5  NaN\n",
      "Пропущено значений: 11\n",
      "Доля пропущенных значений: 3.0\n",
      "Столбец: goout является числовым\n",
      "     0\n",
      "0  4.0\n",
      "1  3.0\n",
      "2  2.0\n",
      "3  1.0\n",
      "4  5.0\n",
      "5  NaN\n",
      "Пропущено значений: 8\n",
      "Доля пропущенных значений: 2.0\n",
      "Столбец: health является числовым\n",
      "     0\n",
      "0  3.0\n",
      "1  5.0\n",
      "2  1.0\n",
      "3  2.0\n",
      "4  4.0\n",
      "5  NaN\n",
      "Пропущено значений: 15\n",
      "Доля пропущенных значений: 4.0\n",
      "Столбец: absences является числовым\n",
      "        0\n",
      "0     6.0\n",
      "1     4.0\n",
      "2    10.0\n",
      "3     2.0\n",
      "4     0.0\n",
      "5    16.0\n",
      "6     NaN\n",
      "7    14.0\n",
      "8     7.0\n",
      "9     8.0\n",
      "10   25.0\n",
      "11   12.0\n",
      "12   54.0\n",
      "13   18.0\n",
      "14   26.0\n",
      "15   20.0\n",
      "16   56.0\n",
      "17   24.0\n",
      "18   28.0\n",
      "19    5.0\n",
      "20   13.0\n",
      "21   15.0\n",
      "22   22.0\n",
      "23    3.0\n",
      "24  385.0\n",
      "25   21.0\n",
      "26    1.0\n",
      "27   75.0\n",
      "28   30.0\n",
      "29   19.0\n",
      "30    9.0\n",
      "31   11.0\n",
      "32   38.0\n",
      "33   40.0\n",
      "34   23.0\n",
      "35   17.0\n",
      "36  212.0\n",
      "Пропущено значений: 12\n",
      "Доля пропущенных значений: 3.0\n",
      "Столбец: score является числовым\n",
      "        0\n",
      "0    30.0\n",
      "1    50.0\n",
      "2    75.0\n",
      "3    55.0\n",
      "4    95.0\n",
      "5    45.0\n",
      "6    60.0\n",
      "7    70.0\n",
      "8    80.0\n",
      "9    25.0\n",
      "10   40.0\n",
      "11   85.0\n",
      "12   90.0\n",
      "13   65.0\n",
      "14  100.0\n",
      "15   35.0\n",
      "16    0.0\n",
      "17    NaN\n",
      "18   20.0\n",
      "Пропущено значений: 6\n",
      "Доля пропущенных значений: 2.0\n"
     ]
    }
   ],
   "source": [
    "# Смотрим более подробно на данные столбцы. Далее каждый столбец будет рассмотрен отдельно.\n",
    "\n",
    "list_col = list_view\n",
    "\n",
    "for i in range(0,len(list_col)):\n",
    "    uniq_nan_all (stud_math,list_col[i])"
   ]
  },
  {
   "cell_type": "code",
   "execution_count": 10,
   "metadata": {},
   "outputs": [
    {
     "name": "stdout",
     "output_type": "stream",
     "text": [
      "['address', 'famsize', 'pstatus', 'medu', 'fedu', 'mjob', 'fjob', 'reason', 'guardian', 'traveltime', 'studytime', 'failures', 'schoolsup', 'famsup', 'paid', 'activities', 'nursery', 'studytime_granular', 'higher', 'internet', 'romantic', 'famrel', 'freetime', 'goout', 'health', 'absences', 'score']\n"
     ]
    }
   ],
   "source": [
    "print(list_view)"
   ]
  },
  {
   "cell_type": "markdown",
   "metadata": {},
   "source": [
    "# Оценим корреляцию данных"
   ]
  },
  {
   "cell_type": "code",
   "execution_count": 11,
   "metadata": {},
   "outputs": [
    {
     "data": {
      "text/html": [
       "<div>\n",
       "<style scoped>\n",
       "    .dataframe tbody tr th:only-of-type {\n",
       "        vertical-align: middle;\n",
       "    }\n",
       "\n",
       "    .dataframe tbody tr th {\n",
       "        vertical-align: top;\n",
       "    }\n",
       "\n",
       "    .dataframe thead th {\n",
       "        text-align: right;\n",
       "    }\n",
       "</style>\n",
       "<table border=\"1\" class=\"dataframe\">\n",
       "  <thead>\n",
       "    <tr style=\"text-align: right;\">\n",
       "      <th></th>\n",
       "      <th>age</th>\n",
       "      <th>medu</th>\n",
       "      <th>fedu</th>\n",
       "      <th>traveltime</th>\n",
       "      <th>studytime</th>\n",
       "      <th>failures</th>\n",
       "      <th>studytime_granular</th>\n",
       "      <th>famrel</th>\n",
       "      <th>freetime</th>\n",
       "      <th>goout</th>\n",
       "      <th>health</th>\n",
       "      <th>absences</th>\n",
       "      <th>score</th>\n",
       "    </tr>\n",
       "  </thead>\n",
       "  <tbody>\n",
       "    <tr>\n",
       "      <th>age</th>\n",
       "      <td>1.000000</td>\n",
       "      <td>-0.161704</td>\n",
       "      <td>-0.138018</td>\n",
       "      <td>0.081508</td>\n",
       "      <td>-0.015556</td>\n",
       "      <td>0.228047</td>\n",
       "      <td>0.015556</td>\n",
       "      <td>0.068899</td>\n",
       "      <td>0.029023</td>\n",
       "      <td>0.135107</td>\n",
       "      <td>-0.065946</td>\n",
       "      <td>0.093592</td>\n",
       "      <td>-0.155726</td>\n",
       "    </tr>\n",
       "    <tr>\n",
       "      <th>medu</th>\n",
       "      <td>-0.161704</td>\n",
       "      <td>1.000000</td>\n",
       "      <td>0.275598</td>\n",
       "      <td>-0.173515</td>\n",
       "      <td>0.078589</td>\n",
       "      <td>-0.245463</td>\n",
       "      <td>-0.078589</td>\n",
       "      <td>-0.010050</td>\n",
       "      <td>0.025335</td>\n",
       "      <td>0.064164</td>\n",
       "      <td>-0.045051</td>\n",
       "      <td>-0.011944</td>\n",
       "      <td>0.213349</td>\n",
       "    </tr>\n",
       "    <tr>\n",
       "      <th>fedu</th>\n",
       "      <td>-0.138018</td>\n",
       "      <td>0.275598</td>\n",
       "      <td>1.000000</td>\n",
       "      <td>0.030646</td>\n",
       "      <td>0.057199</td>\n",
       "      <td>-0.150821</td>\n",
       "      <td>-0.057199</td>\n",
       "      <td>0.040577</td>\n",
       "      <td>-0.066556</td>\n",
       "      <td>-0.023282</td>\n",
       "      <td>0.027251</td>\n",
       "      <td>0.004695</td>\n",
       "      <td>0.078573</td>\n",
       "    </tr>\n",
       "    <tr>\n",
       "      <th>traveltime</th>\n",
       "      <td>0.081508</td>\n",
       "      <td>-0.173515</td>\n",
       "      <td>0.030646</td>\n",
       "      <td>1.000000</td>\n",
       "      <td>-0.102206</td>\n",
       "      <td>0.064699</td>\n",
       "      <td>0.102206</td>\n",
       "      <td>-0.016857</td>\n",
       "      <td>-0.021937</td>\n",
       "      <td>0.037636</td>\n",
       "      <td>-0.021531</td>\n",
       "      <td>-0.048215</td>\n",
       "      <td>-0.070559</td>\n",
       "    </tr>\n",
       "    <tr>\n",
       "      <th>studytime</th>\n",
       "      <td>-0.015556</td>\n",
       "      <td>0.078589</td>\n",
       "      <td>0.057199</td>\n",
       "      <td>-0.102206</td>\n",
       "      <td>1.000000</td>\n",
       "      <td>-0.178992</td>\n",
       "      <td>-1.000000</td>\n",
       "      <td>0.045894</td>\n",
       "      <td>-0.121969</td>\n",
       "      <td>-0.051280</td>\n",
       "      <td>-0.080016</td>\n",
       "      <td>-0.026544</td>\n",
       "      <td>0.115741</td>\n",
       "    </tr>\n",
       "    <tr>\n",
       "      <th>failures</th>\n",
       "      <td>0.228047</td>\n",
       "      <td>-0.245463</td>\n",
       "      <td>-0.150821</td>\n",
       "      <td>0.064699</td>\n",
       "      <td>-0.178992</td>\n",
       "      <td>1.000000</td>\n",
       "      <td>0.178992</td>\n",
       "      <td>-0.022655</td>\n",
       "      <td>0.098382</td>\n",
       "      <td>0.120914</td>\n",
       "      <td>0.081284</td>\n",
       "      <td>0.057391</td>\n",
       "      <td>-0.344338</td>\n",
       "    </tr>\n",
       "    <tr>\n",
       "      <th>studytime_granular</th>\n",
       "      <td>0.015556</td>\n",
       "      <td>-0.078589</td>\n",
       "      <td>-0.057199</td>\n",
       "      <td>0.102206</td>\n",
       "      <td>-1.000000</td>\n",
       "      <td>0.178992</td>\n",
       "      <td>1.000000</td>\n",
       "      <td>-0.045894</td>\n",
       "      <td>0.121969</td>\n",
       "      <td>0.051280</td>\n",
       "      <td>0.080016</td>\n",
       "      <td>0.026544</td>\n",
       "      <td>-0.115741</td>\n",
       "    </tr>\n",
       "    <tr>\n",
       "      <th>famrel</th>\n",
       "      <td>0.068899</td>\n",
       "      <td>-0.010050</td>\n",
       "      <td>0.040577</td>\n",
       "      <td>-0.016857</td>\n",
       "      <td>0.045894</td>\n",
       "      <td>-0.022655</td>\n",
       "      <td>-0.045894</td>\n",
       "      <td>1.000000</td>\n",
       "      <td>0.175743</td>\n",
       "      <td>0.081154</td>\n",
       "      <td>0.077474</td>\n",
       "      <td>-0.082609</td>\n",
       "      <td>0.057112</td>\n",
       "    </tr>\n",
       "    <tr>\n",
       "      <th>freetime</th>\n",
       "      <td>0.029023</td>\n",
       "      <td>0.025335</td>\n",
       "      <td>-0.066556</td>\n",
       "      <td>-0.021937</td>\n",
       "      <td>-0.121969</td>\n",
       "      <td>0.098382</td>\n",
       "      <td>0.121969</td>\n",
       "      <td>0.175743</td>\n",
       "      <td>1.000000</td>\n",
       "      <td>0.296437</td>\n",
       "      <td>0.061575</td>\n",
       "      <td>0.009292</td>\n",
       "      <td>0.019026</td>\n",
       "    </tr>\n",
       "    <tr>\n",
       "      <th>goout</th>\n",
       "      <td>0.135107</td>\n",
       "      <td>0.064164</td>\n",
       "      <td>-0.023282</td>\n",
       "      <td>0.037636</td>\n",
       "      <td>-0.051280</td>\n",
       "      <td>0.120914</td>\n",
       "      <td>0.051280</td>\n",
       "      <td>0.081154</td>\n",
       "      <td>0.296437</td>\n",
       "      <td>1.000000</td>\n",
       "      <td>-0.015608</td>\n",
       "      <td>-0.048738</td>\n",
       "      <td>-0.129685</td>\n",
       "    </tr>\n",
       "    <tr>\n",
       "      <th>health</th>\n",
       "      <td>-0.065946</td>\n",
       "      <td>-0.045051</td>\n",
       "      <td>0.027251</td>\n",
       "      <td>-0.021531</td>\n",
       "      <td>-0.080016</td>\n",
       "      <td>0.081284</td>\n",
       "      <td>0.080016</td>\n",
       "      <td>0.077474</td>\n",
       "      <td>0.061575</td>\n",
       "      <td>-0.015608</td>\n",
       "      <td>1.000000</td>\n",
       "      <td>-0.016222</td>\n",
       "      <td>-0.070460</td>\n",
       "    </tr>\n",
       "    <tr>\n",
       "      <th>absences</th>\n",
       "      <td>0.093592</td>\n",
       "      <td>-0.011944</td>\n",
       "      <td>0.004695</td>\n",
       "      <td>-0.048215</td>\n",
       "      <td>-0.026544</td>\n",
       "      <td>0.057391</td>\n",
       "      <td>0.026544</td>\n",
       "      <td>-0.082609</td>\n",
       "      <td>0.009292</td>\n",
       "      <td>-0.048738</td>\n",
       "      <td>-0.016222</td>\n",
       "      <td>1.000000</td>\n",
       "      <td>0.065283</td>\n",
       "    </tr>\n",
       "    <tr>\n",
       "      <th>score</th>\n",
       "      <td>-0.155726</td>\n",
       "      <td>0.213349</td>\n",
       "      <td>0.078573</td>\n",
       "      <td>-0.070559</td>\n",
       "      <td>0.115741</td>\n",
       "      <td>-0.344338</td>\n",
       "      <td>-0.115741</td>\n",
       "      <td>0.057112</td>\n",
       "      <td>0.019026</td>\n",
       "      <td>-0.129685</td>\n",
       "      <td>-0.070460</td>\n",
       "      <td>0.065283</td>\n",
       "      <td>1.000000</td>\n",
       "    </tr>\n",
       "  </tbody>\n",
       "</table>\n",
       "</div>"
      ],
      "text/plain": [
       "                         age      medu      fedu  traveltime  studytime  \\\n",
       "age                 1.000000 -0.161704 -0.138018    0.081508  -0.015556   \n",
       "medu               -0.161704  1.000000  0.275598   -0.173515   0.078589   \n",
       "fedu               -0.138018  0.275598  1.000000    0.030646   0.057199   \n",
       "traveltime          0.081508 -0.173515  0.030646    1.000000  -0.102206   \n",
       "studytime          -0.015556  0.078589  0.057199   -0.102206   1.000000   \n",
       "failures            0.228047 -0.245463 -0.150821    0.064699  -0.178992   \n",
       "studytime_granular  0.015556 -0.078589 -0.057199    0.102206  -1.000000   \n",
       "famrel              0.068899 -0.010050  0.040577   -0.016857   0.045894   \n",
       "freetime            0.029023  0.025335 -0.066556   -0.021937  -0.121969   \n",
       "goout               0.135107  0.064164 -0.023282    0.037636  -0.051280   \n",
       "health             -0.065946 -0.045051  0.027251   -0.021531  -0.080016   \n",
       "absences            0.093592 -0.011944  0.004695   -0.048215  -0.026544   \n",
       "score              -0.155726  0.213349  0.078573   -0.070559   0.115741   \n",
       "\n",
       "                    failures  studytime_granular    famrel  freetime  \\\n",
       "age                 0.228047            0.015556  0.068899  0.029023   \n",
       "medu               -0.245463           -0.078589 -0.010050  0.025335   \n",
       "fedu               -0.150821           -0.057199  0.040577 -0.066556   \n",
       "traveltime          0.064699            0.102206 -0.016857 -0.021937   \n",
       "studytime          -0.178992           -1.000000  0.045894 -0.121969   \n",
       "failures            1.000000            0.178992 -0.022655  0.098382   \n",
       "studytime_granular  0.178992            1.000000 -0.045894  0.121969   \n",
       "famrel             -0.022655           -0.045894  1.000000  0.175743   \n",
       "freetime            0.098382            0.121969  0.175743  1.000000   \n",
       "goout               0.120914            0.051280  0.081154  0.296437   \n",
       "health              0.081284            0.080016  0.077474  0.061575   \n",
       "absences            0.057391            0.026544 -0.082609  0.009292   \n",
       "score              -0.344338           -0.115741  0.057112  0.019026   \n",
       "\n",
       "                       goout    health  absences     score  \n",
       "age                 0.135107 -0.065946  0.093592 -0.155726  \n",
       "medu                0.064164 -0.045051 -0.011944  0.213349  \n",
       "fedu               -0.023282  0.027251  0.004695  0.078573  \n",
       "traveltime          0.037636 -0.021531 -0.048215 -0.070559  \n",
       "studytime          -0.051280 -0.080016 -0.026544  0.115741  \n",
       "failures            0.120914  0.081284  0.057391 -0.344338  \n",
       "studytime_granular  0.051280  0.080016  0.026544 -0.115741  \n",
       "famrel              0.081154  0.077474 -0.082609  0.057112  \n",
       "freetime            0.296437  0.061575  0.009292  0.019026  \n",
       "goout               1.000000 -0.015608 -0.048738 -0.129685  \n",
       "health             -0.015608  1.000000 -0.016222 -0.070460  \n",
       "absences           -0.048738 -0.016222  1.000000  0.065283  \n",
       "score              -0.129685 -0.070460  0.065283  1.000000  "
      ]
     },
     "execution_count": 11,
     "metadata": {},
     "output_type": "execute_result"
    }
   ],
   "source": [
    "stud_math.corr()"
   ]
  },
  {
   "cell_type": "code",
   "execution_count": 12,
   "metadata": {},
   "outputs": [
    {
     "data": {
      "text/plain": [
       "<matplotlib.axes._subplots.AxesSubplot at 0x25287ce7a88>"
      ]
     },
     "execution_count": 12,
     "metadata": {},
     "output_type": "execute_result"
    },
    {
     "data": {
      "image/png": "[encoded data removed]",
      "text/plain": [
       "<Figure size 720x720 with 2 Axes>"
      ]
     },
     "metadata": {
      "needs_background": "light"
     },
     "output_type": "display_data"
    }
   ],
   "source": [
    "fig, ax = plt.subplots(figsize=(10, 10))\n",
    "corr = stud_math.corr()\n",
    "matrix = np.triu(corr)\n",
    "sns.heatmap(corr, annot=True,  fmt='.2g', mask=matrix,\n",
    "            vmin=-1, vmax=0.4)"
   ]
  },
  {
   "cell_type": "markdown",
   "metadata": {},
   "source": [
    "Очевидна линейная корреляция между  'studytime_granular'\n",
    "и 'studytime'. \n",
    "Для дальнейшей работы столбец 'studytime_granular' необходимо удалить."
   ]
  },
  {
   "cell_type": "code",
   "execution_count": 13,
   "metadata": {},
   "outputs": [],
   "source": [
    "stud_math.drop('studytime_granular', axis=1, inplace=True)"
   ]
  },
  {
   "cell_type": "markdown",
   "metadata": {},
   "source": [
    "# Посмотрим на ключевой столбец score"
   ]
  },
  {
   "cell_type": "code",
   "execution_count": 14,
   "metadata": {},
   "outputs": [
    {
     "name": "stdout",
     "output_type": "stream",
     "text": [
      "Столбец: score является числовым\n",
      "        0\n",
      "0    30.0\n",
      "1    50.0\n",
      "2    75.0\n",
      "3    55.0\n",
      "4    95.0\n",
      "5    45.0\n",
      "6    60.0\n",
      "7    70.0\n",
      "8    80.0\n",
      "9    25.0\n",
      "10   40.0\n",
      "11   85.0\n",
      "12   90.0\n",
      "13   65.0\n",
      "14  100.0\n",
      "15   35.0\n",
      "16    0.0\n",
      "17    NaN\n",
      "18   20.0\n",
      "Пропущено значений: 6\n",
      "Доля пропущенных значений: 2.0\n",
      "50.0     54\n",
      "55.0     46\n",
      "0.0      37\n",
      "75.0     33\n",
      "65.0     31\n",
      "40.0     31\n",
      "60.0     31\n",
      "70.0     27\n",
      "45.0     27\n",
      "80.0     16\n",
      "30.0     15\n",
      "90.0     12\n",
      "35.0      9\n",
      "25.0      7\n",
      "85.0      6\n",
      "95.0      5\n",
      "100.0     1\n",
      "20.0      1\n",
      "Name: score, dtype: int64\n"
     ]
    }
   ],
   "source": [
    "uniq_nan(stud_math,'score')"
   ]
  },
  {
   "cell_type": "code",
   "execution_count": 15,
   "metadata": {},
   "outputs": [
    {
     "name": "stdout",
     "output_type": "stream",
     "text": [
      "AxesSubplot(0.125,0.125;0.775x0.755)\n",
      "count    389.000000\n",
      "mean      52.262211\n",
      "std       22.919022\n",
      "min        0.000000\n",
      "25%       40.000000\n",
      "50%       55.000000\n",
      "75%       70.000000\n",
      "max      100.000000\n",
      "Name: score, dtype: float64\n",
      "20.0      1\n",
      "100.0     1\n",
      "95.0      5\n",
      "85.0      6\n",
      "25.0      7\n",
      "35.0      9\n",
      "90.0     12\n",
      "30.0     15\n",
      "80.0     16\n",
      "45.0     27\n",
      "70.0     27\n",
      "60.0     31\n",
      "40.0     31\n",
      "65.0     31\n",
      "75.0     33\n",
      "0.0      37\n",
      "55.0     46\n",
      "50.0     54\n",
      "Name: score, dtype: int64\n"
     ]
    },
    {
     "data": {
      "image/png": "[encoded data removed]",
      "text/plain": [
       "<Figure size 432x288 with 1 Axes>"
      ]
     },
     "metadata": {
      "needs_background": "light"
     },
     "output_type": "display_data"
    }
   ],
   "source": [
    "int_hist (stud_math,'score')"
   ]
  },
  {
   "cell_type": "markdown",
   "metadata": {},
   "source": [
    "Видно, что часть значений пропущено, а часть равна нулю.\n",
    "Нулевой результат вряд ли возможен. Для дополнительной проверки посмотрим нулевые значения столбца 'score'  со значениями столбца 'higher'  "
   ]
  },
  {
   "cell_type": "code",
   "execution_count": 16,
   "metadata": {},
   "outputs": [
    {
     "data": {
      "text/html": [
       "<div>\n",
       "<style scoped>\n",
       "    .dataframe tbody tr th:only-of-type {\n",
       "        vertical-align: middle;\n",
       "    }\n",
       "\n",
       "    .dataframe tbody tr th {\n",
       "        vertical-align: top;\n",
       "    }\n",
       "\n",
       "    .dataframe thead th {\n",
       "        text-align: right;\n",
       "    }\n",
       "</style>\n",
       "<table border=\"1\" class=\"dataframe\">\n",
       "  <thead>\n",
       "    <tr style=\"text-align: right;\">\n",
       "      <th></th>\n",
       "      <th>higher</th>\n",
       "      <th>score</th>\n",
       "    </tr>\n",
       "  </thead>\n",
       "  <tbody>\n",
       "    <tr>\n",
       "      <th>128</th>\n",
       "      <td>yes</td>\n",
       "      <td>0.0</td>\n",
       "    </tr>\n",
       "    <tr>\n",
       "      <th>130</th>\n",
       "      <td>yes</td>\n",
       "      <td>0.0</td>\n",
       "    </tr>\n",
       "    <tr>\n",
       "      <th>131</th>\n",
       "      <td>yes</td>\n",
       "      <td>0.0</td>\n",
       "    </tr>\n",
       "    <tr>\n",
       "      <th>134</th>\n",
       "      <td>yes</td>\n",
       "      <td>0.0</td>\n",
       "    </tr>\n",
       "    <tr>\n",
       "      <th>135</th>\n",
       "      <td>yes</td>\n",
       "      <td>0.0</td>\n",
       "    </tr>\n",
       "  </tbody>\n",
       "</table>\n",
       "</div>"
      ],
      "text/plain": [
       "    higher  score\n",
       "128    yes    0.0\n",
       "130    yes    0.0\n",
       "131    yes    0.0\n",
       "134    yes    0.0\n",
       "135    yes    0.0"
      ]
     },
     "execution_count": 16,
     "metadata": {},
     "output_type": "execute_result"
    }
   ],
   "source": [
    "stud_math[stud_math.score == 0][['higher', 'score']].head()"
   ]
  },
  {
   "cell_type": "markdown",
   "metadata": {},
   "source": [
    "Неизвестно происхождение нулевых значений. для дальнейшей оценки пропущенные и нулевые значения будут удалены"
   ]
  },
  {
   "cell_type": "code",
   "execution_count": 16,
   "metadata": {},
   "outputs": [],
   "source": [
    "stud_math = stud_math[stud_math.score != 0]\n",
    "stud_math = stud_math.dropna(subset=['score'])"
   ]
  },
  {
   "cell_type": "code",
   "execution_count": 17,
   "metadata": {},
   "outputs": [],
   "source": [
    "# Разделим колонки по типам переменных, содержащихся в них.\n",
    "cat_cols = stud_math.columns[stud_math.dtypes == 'O'].to_list()\n",
    "num_cols_y = stud_math.columns[stud_math.dtypes != 'O'].to_list()\n",
    "num_cols = stud_math.columns[stud_math.dtypes != 'O'].to_list()\n",
    "num_cols.remove('score')"
   ]
  },
  {
   "cell_type": "code",
   "execution_count": 18,
   "metadata": {},
   "outputs": [
    {
     "data": {
      "text/html": [
       "<div>\n",
       "<style scoped>\n",
       "    .dataframe tbody tr th:only-of-type {\n",
       "        vertical-align: middle;\n",
       "    }\n",
       "\n",
       "    .dataframe tbody tr th {\n",
       "        vertical-align: top;\n",
       "    }\n",
       "\n",
       "    .dataframe thead th {\n",
       "        text-align: right;\n",
       "    }\n",
       "</style>\n",
       "<table border=\"1\" class=\"dataframe\">\n",
       "  <thead>\n",
       "    <tr style=\"text-align: right;\">\n",
       "      <th></th>\n",
       "      <th>school</th>\n",
       "      <th>sex</th>\n",
       "      <th>age</th>\n",
       "      <th>address</th>\n",
       "      <th>famsize</th>\n",
       "      <th>pstatus</th>\n",
       "      <th>medu</th>\n",
       "      <th>fedu</th>\n",
       "      <th>mjob</th>\n",
       "      <th>fjob</th>\n",
       "      <th>reason</th>\n",
       "      <th>guardian</th>\n",
       "      <th>traveltime</th>\n",
       "      <th>studytime</th>\n",
       "      <th>failures</th>\n",
       "      <th>schoolsup</th>\n",
       "      <th>famsup</th>\n",
       "      <th>paid</th>\n",
       "      <th>activities</th>\n",
       "      <th>nursery</th>\n",
       "      <th>higher</th>\n",
       "      <th>internet</th>\n",
       "      <th>romantic</th>\n",
       "      <th>famrel</th>\n",
       "      <th>freetime</th>\n",
       "      <th>goout</th>\n",
       "      <th>health</th>\n",
       "      <th>absences</th>\n",
       "      <th>score</th>\n",
       "    </tr>\n",
       "  </thead>\n",
       "  <tbody>\n",
       "    <tr>\n",
       "      <th>0</th>\n",
       "      <td>GP</td>\n",
       "      <td>F</td>\n",
       "      <td>18</td>\n",
       "      <td>U</td>\n",
       "      <td>NaN</td>\n",
       "      <td>A</td>\n",
       "      <td>4.0</td>\n",
       "      <td>4.0</td>\n",
       "      <td>at_home</td>\n",
       "      <td>teacher</td>\n",
       "      <td>course</td>\n",
       "      <td>mother</td>\n",
       "      <td>2.0</td>\n",
       "      <td>2.0</td>\n",
       "      <td>0.0</td>\n",
       "      <td>yes</td>\n",
       "      <td>no</td>\n",
       "      <td>no</td>\n",
       "      <td>no</td>\n",
       "      <td>yes</td>\n",
       "      <td>yes</td>\n",
       "      <td>NaN</td>\n",
       "      <td>no</td>\n",
       "      <td>4.0</td>\n",
       "      <td>3.0</td>\n",
       "      <td>4.0</td>\n",
       "      <td>3.0</td>\n",
       "      <td>6.0</td>\n",
       "      <td>30.0</td>\n",
       "    </tr>\n",
       "    <tr>\n",
       "      <th>1</th>\n",
       "      <td>GP</td>\n",
       "      <td>F</td>\n",
       "      <td>17</td>\n",
       "      <td>U</td>\n",
       "      <td>GT3</td>\n",
       "      <td>NaN</td>\n",
       "      <td>1.0</td>\n",
       "      <td>1.0</td>\n",
       "      <td>at_home</td>\n",
       "      <td>other</td>\n",
       "      <td>course</td>\n",
       "      <td>father</td>\n",
       "      <td>1.0</td>\n",
       "      <td>2.0</td>\n",
       "      <td>0.0</td>\n",
       "      <td>no</td>\n",
       "      <td>yes</td>\n",
       "      <td>no</td>\n",
       "      <td>no</td>\n",
       "      <td>no</td>\n",
       "      <td>yes</td>\n",
       "      <td>yes</td>\n",
       "      <td>no</td>\n",
       "      <td>5.0</td>\n",
       "      <td>3.0</td>\n",
       "      <td>3.0</td>\n",
       "      <td>3.0</td>\n",
       "      <td>4.0</td>\n",
       "      <td>30.0</td>\n",
       "    </tr>\n",
       "    <tr>\n",
       "      <th>2</th>\n",
       "      <td>GP</td>\n",
       "      <td>F</td>\n",
       "      <td>15</td>\n",
       "      <td>U</td>\n",
       "      <td>LE3</td>\n",
       "      <td>T</td>\n",
       "      <td>1.0</td>\n",
       "      <td>1.0</td>\n",
       "      <td>at_home</td>\n",
       "      <td>other</td>\n",
       "      <td>other</td>\n",
       "      <td>mother</td>\n",
       "      <td>1.0</td>\n",
       "      <td>2.0</td>\n",
       "      <td>3.0</td>\n",
       "      <td>yes</td>\n",
       "      <td>no</td>\n",
       "      <td>NaN</td>\n",
       "      <td>no</td>\n",
       "      <td>yes</td>\n",
       "      <td>yes</td>\n",
       "      <td>yes</td>\n",
       "      <td>NaN</td>\n",
       "      <td>4.0</td>\n",
       "      <td>3.0</td>\n",
       "      <td>2.0</td>\n",
       "      <td>3.0</td>\n",
       "      <td>10.0</td>\n",
       "      <td>50.0</td>\n",
       "    </tr>\n",
       "    <tr>\n",
       "      <th>3</th>\n",
       "      <td>GP</td>\n",
       "      <td>F</td>\n",
       "      <td>15</td>\n",
       "      <td>U</td>\n",
       "      <td>GT3</td>\n",
       "      <td>T</td>\n",
       "      <td>4.0</td>\n",
       "      <td>2.0</td>\n",
       "      <td>health</td>\n",
       "      <td>NaN</td>\n",
       "      <td>home</td>\n",
       "      <td>mother</td>\n",
       "      <td>1.0</td>\n",
       "      <td>3.0</td>\n",
       "      <td>0.0</td>\n",
       "      <td>no</td>\n",
       "      <td>yes</td>\n",
       "      <td>yes</td>\n",
       "      <td>yes</td>\n",
       "      <td>yes</td>\n",
       "      <td>yes</td>\n",
       "      <td>yes</td>\n",
       "      <td>yes</td>\n",
       "      <td>3.0</td>\n",
       "      <td>2.0</td>\n",
       "      <td>2.0</td>\n",
       "      <td>5.0</td>\n",
       "      <td>2.0</td>\n",
       "      <td>75.0</td>\n",
       "    </tr>\n",
       "    <tr>\n",
       "      <th>4</th>\n",
       "      <td>GP</td>\n",
       "      <td>F</td>\n",
       "      <td>16</td>\n",
       "      <td>U</td>\n",
       "      <td>GT3</td>\n",
       "      <td>T</td>\n",
       "      <td>3.0</td>\n",
       "      <td>3.0</td>\n",
       "      <td>other</td>\n",
       "      <td>other</td>\n",
       "      <td>home</td>\n",
       "      <td>father</td>\n",
       "      <td>1.0</td>\n",
       "      <td>2.0</td>\n",
       "      <td>0.0</td>\n",
       "      <td>no</td>\n",
       "      <td>yes</td>\n",
       "      <td>yes</td>\n",
       "      <td>no</td>\n",
       "      <td>yes</td>\n",
       "      <td>yes</td>\n",
       "      <td>no</td>\n",
       "      <td>no</td>\n",
       "      <td>4.0</td>\n",
       "      <td>3.0</td>\n",
       "      <td>2.0</td>\n",
       "      <td>5.0</td>\n",
       "      <td>4.0</td>\n",
       "      <td>50.0</td>\n",
       "    </tr>\n",
       "  </tbody>\n",
       "</table>\n",
       "</div>"
      ],
      "text/plain": [
       "  school sex  age address famsize pstatus  medu  fedu     mjob     fjob  \\\n",
       "0     GP   F   18       U     NaN       A   4.0   4.0  at_home  teacher   \n",
       "1     GP   F   17       U     GT3     NaN   1.0   1.0  at_home    other   \n",
       "2     GP   F   15       U     LE3       T   1.0   1.0  at_home    other   \n",
       "3     GP   F   15       U     GT3       T   4.0   2.0   health      NaN   \n",
       "4     GP   F   16       U     GT3       T   3.0   3.0    other    other   \n",
       "\n",
       "   reason guardian  traveltime  studytime  failures schoolsup famsup paid  \\\n",
       "0  course   mother         2.0        2.0       0.0       yes     no   no   \n",
       "1  course   father         1.0        2.0       0.0        no    yes   no   \n",
       "2   other   mother         1.0        2.0       3.0       yes     no  NaN   \n",
       "3    home   mother         1.0        3.0       0.0        no    yes  yes   \n",
       "4    home   father         1.0        2.0       0.0        no    yes  yes   \n",
       "\n",
       "  activities nursery higher internet romantic  famrel  freetime  goout  \\\n",
       "0         no     yes    yes      NaN       no     4.0       3.0    4.0   \n",
       "1         no      no    yes      yes       no     5.0       3.0    3.0   \n",
       "2         no     yes    yes      yes      NaN     4.0       3.0    2.0   \n",
       "3        yes     yes    yes      yes      yes     3.0       2.0    2.0   \n",
       "4         no     yes    yes       no       no     4.0       3.0    2.0   \n",
       "\n",
       "   health  absences  score  \n",
       "0     3.0       6.0   30.0  \n",
       "1     3.0       4.0   30.0  \n",
       "2     3.0      10.0   50.0  \n",
       "3     5.0       2.0   75.0  \n",
       "4     5.0       4.0   50.0  "
      ]
     },
     "execution_count": 18,
     "metadata": {},
     "output_type": "execute_result"
    }
   ],
   "source": [
    "stud_math.head()"
   ]
  },
  {
   "cell_type": "markdown",
   "metadata": {},
   "source": [
    "# Ниже рассматриваются столбцы с пропущенными данными.\n",
    "\n",
    "## В качестве инструментов работы с данными выбраны:\n",
    "### 1 - замена на неизвестное значение (\"\")\n",
    "### 2 - замена на медианный вариант\n",
    "### 3 - замена на наиболее встречающееся значение\n",
    "### 4 - удаление"
   ]
  },
  {
   "cell_type": "markdown",
   "metadata": {},
   "source": [
    "# address"
   ]
  },
  {
   "cell_type": "code",
   "execution_count": 19,
   "metadata": {},
   "outputs": [
    {
     "name": "stdout",
     "output_type": "stream",
     "text": [
      "Столбец: address не является числовым\n",
      "     0\n",
      "0    U\n",
      "1  NaN\n",
      "2    R\n",
      "Пропущено значений: 14\n",
      "Доля пропущенных значений: 4.0\n",
      "U    265\n",
      "R     73\n",
      "Name: address, dtype: int64\n"
     ]
    }
   ],
   "source": [
    "uniq_nan(stud_math,'address')"
   ]
  },
  {
   "cell_type": "code",
   "execution_count": 20,
   "metadata": {},
   "outputs": [],
   "source": [
    "# Для замены выбран 1 вариант (неизвестное)\n",
    "stud_math.address = stud_math.address.fillna('unknown')"
   ]
  },
  {
   "cell_type": "code",
   "execution_count": 21,
   "metadata": {},
   "outputs": [
    {
     "data": {
      "text/plain": [
       "0"
      ]
     },
     "execution_count": 21,
     "metadata": {},
     "output_type": "execute_result"
    }
   ],
   "source": [
    "#Проверка\n",
    "stud_math.address.isna().sum()"
   ]
  },
  {
   "cell_type": "markdown",
   "metadata": {},
   "source": [
    "# famsize"
   ]
  },
  {
   "cell_type": "code",
   "execution_count": 22,
   "metadata": {},
   "outputs": [
    {
     "name": "stdout",
     "output_type": "stream",
     "text": [
      "Столбец: famsize не является числовым\n",
      "     0\n",
      "0  NaN\n",
      "1  GT3\n",
      "2  LE3\n",
      "Пропущено значений: 24\n",
      "Доля пропущенных значений: 7.0\n",
      "GT3    228\n",
      "LE3    100\n",
      "Name: famsize, dtype: int64\n"
     ]
    }
   ],
   "source": [
    "uniq_nan(stud_math,'famsize')"
   ]
  },
  {
   "cell_type": "code",
   "execution_count": 23,
   "metadata": {},
   "outputs": [],
   "source": [
    "# Для замены выбран 3 вариант (часто встречающееся)\n",
    "stud_math.famsize = stud_math.famsize.fillna('GT3')"
   ]
  },
  {
   "cell_type": "code",
   "execution_count": 24,
   "metadata": {},
   "outputs": [
    {
     "name": "stdout",
     "output_type": "stream",
     "text": [
      "Столбец: famsize не является числовым\n",
      "     0\n",
      "0  GT3\n",
      "1  LE3\n",
      "Пропущено значений: 0\n",
      "Доля пропущенных значений: 0.0\n",
      "GT3    252\n",
      "LE3    100\n",
      "Name: famsize, dtype: int64\n"
     ]
    }
   ],
   "source": [
    "#Проверка\n",
    "uniq_nan(stud_math,'famsize')"
   ]
  },
  {
   "cell_type": "markdown",
   "metadata": {},
   "source": [
    "# pstatus"
   ]
  },
  {
   "cell_type": "code",
   "execution_count": 25,
   "metadata": {},
   "outputs": [
    {
     "name": "stdout",
     "output_type": "stream",
     "text": [
      "Столбец: pstatus не является числовым\n",
      "     0\n",
      "0    A\n",
      "1  NaN\n",
      "2    T\n",
      "Пропущено значений: 41\n",
      "Доля пропущенных значений: 12.0\n",
      "T    277\n",
      "A     34\n",
      "Name: pstatus, dtype: int64\n"
     ]
    }
   ],
   "source": [
    "uniq_nan(stud_math,'pstatus')"
   ]
  },
  {
   "cell_type": "code",
   "execution_count": 26,
   "metadata": {},
   "outputs": [],
   "source": [
    "# Для замены выбран 1 вариант (неизвестное)\n",
    "stud_math.pstatus = stud_math.pstatus.fillna('unknown')"
   ]
  },
  {
   "cell_type": "code",
   "execution_count": 27,
   "metadata": {},
   "outputs": [
    {
     "data": {
      "text/plain": [
       "0"
      ]
     },
     "execution_count": 27,
     "metadata": {},
     "output_type": "execute_result"
    }
   ],
   "source": [
    "#Проверка\n",
    "stud_math.pstatus.isna().sum()"
   ]
  },
  {
   "cell_type": "markdown",
   "metadata": {},
   "source": [
    "# medu"
   ]
  },
  {
   "cell_type": "code",
   "execution_count": 28,
   "metadata": {},
   "outputs": [
    {
     "name": "stdout",
     "output_type": "stream",
     "text": [
      "Столбец: medu является числовым\n",
      "     0\n",
      "0  4.0\n",
      "1  1.0\n",
      "2  3.0\n",
      "3  2.0\n",
      "4  NaN\n",
      "5  0.0\n",
      "Пропущено значений: 2\n",
      "Доля пропущенных значений: 1.0\n",
      "4.0    125\n",
      "2.0     88\n",
      "3.0     87\n",
      "1.0     47\n",
      "0.0      3\n",
      "Name: medu, dtype: int64\n"
     ]
    }
   ],
   "source": [
    "uniq_nan(stud_math,'medu')"
   ]
  },
  {
   "cell_type": "code",
   "execution_count": 29,
   "metadata": {},
   "outputs": [
    {
     "name": "stdout",
     "output_type": "stream",
     "text": [
      "AxesSubplot(0.125,0.125;0.775x0.755)\n",
      "count    350.000000\n",
      "mean       2.811429\n",
      "std        1.091192\n",
      "min        0.000000\n",
      "25%        2.000000\n",
      "50%        3.000000\n",
      "75%        4.000000\n",
      "max        4.000000\n",
      "Name: medu, dtype: float64\n",
      "0.0      3\n",
      "1.0     47\n",
      "3.0     87\n",
      "2.0     88\n",
      "4.0    125\n",
      "Name: medu, dtype: int64\n"
     ]
    },
    {
     "data": {
      "image/png": "[encoded data removed]",
      "text/plain": [
       "<Figure size 432x288 with 1 Axes>"
      ]
     },
     "metadata": {
      "needs_background": "light"
     },
     "output_type": "display_data"
    }
   ],
   "source": [
    "int_hist (stud_math,'medu')"
   ]
  },
  {
   "cell_type": "code",
   "execution_count": 30,
   "metadata": {},
   "outputs": [],
   "source": [
    "# для замены выбран 2 вариант\n",
    "stud_math.medu = stud_math.medu.fillna(stud_math.medu.median())"
   ]
  },
  {
   "cell_type": "code",
   "execution_count": 31,
   "metadata": {},
   "outputs": [
    {
     "data": {
      "text/plain": [
       "0"
      ]
     },
     "execution_count": 31,
     "metadata": {},
     "output_type": "execute_result"
    }
   ],
   "source": [
    "#Проверка\n",
    "stud_math.medu.isna().sum()"
   ]
  },
  {
   "cell_type": "code",
   "execution_count": 32,
   "metadata": {},
   "outputs": [
    {
     "name": "stdout",
     "output_type": "stream",
     "text": [
      "AxesSubplot(0.125,0.125;0.775x0.755)\n",
      "count    352.000000\n",
      "mean       2.812500\n",
      "std        1.088171\n",
      "min        0.000000\n",
      "25%        2.000000\n",
      "50%        3.000000\n",
      "75%        4.000000\n",
      "max        4.000000\n",
      "Name: medu, dtype: float64\n",
      "0.0      3\n",
      "1.0     47\n",
      "2.0     88\n",
      "3.0     89\n",
      "4.0    125\n",
      "Name: medu, dtype: int64\n"
     ]
    },
    {
     "data": {
      "image/png": "[encoded data removed]",
      "text/plain": [
       "<Figure size 432x288 with 1 Axes>"
      ]
     },
     "metadata": {
      "needs_background": "light"
     },
     "output_type": "display_data"
    }
   ],
   "source": [
    "int_hist (stud_math,'medu')"
   ]
  },
  {
   "cell_type": "markdown",
   "metadata": {},
   "source": [
    "# fedu"
   ]
  },
  {
   "cell_type": "code",
   "execution_count": 33,
   "metadata": {},
   "outputs": [
    {
     "name": "stdout",
     "output_type": "stream",
     "text": [
      "Столбец: fedu является числовым\n",
      "      0\n",
      "0   4.0\n",
      "1   1.0\n",
      "2   2.0\n",
      "3   3.0\n",
      "4  40.0\n",
      "5   NaN\n",
      "6   0.0\n",
      "Пропущено значений: 21\n",
      "Доля пропущенных значений: 6.0\n",
      "2.0     94\n",
      "3.0     89\n",
      "4.0     80\n",
      "1.0     65\n",
      "0.0      2\n",
      "40.0     1\n",
      "Name: fedu, dtype: int64\n"
     ]
    }
   ],
   "source": [
    "uniq_nan(stud_math,'fedu')"
   ]
  },
  {
   "cell_type": "code",
   "execution_count": 34,
   "metadata": {},
   "outputs": [],
   "source": [
    "# для замены выбран 2 вариант\n",
    "stud_math.fedu = stud_math.fedu.fillna(stud_math.fedu.median())"
   ]
  },
  {
   "cell_type": "code",
   "execution_count": 35,
   "metadata": {},
   "outputs": [
    {
     "name": "stdout",
     "output_type": "stream",
     "text": [
      "AxesSubplot(0.125,0.125;0.775x0.755)\n",
      "count    352.000000\n",
      "mean       2.678977\n",
      "std        2.254925\n",
      "min        0.000000\n",
      "25%        2.000000\n",
      "50%        3.000000\n",
      "75%        3.000000\n",
      "max       40.000000\n",
      "Name: fedu, dtype: float64\n",
      "40.0      1\n",
      "0.0       2\n",
      "1.0      65\n",
      "4.0      80\n",
      "2.0      94\n",
      "3.0     110\n",
      "Name: fedu, dtype: int64\n"
     ]
    },
    {
     "data": {
      "image/png": "[encoded data removed]",
      "text/plain": [
       "<Figure size 432x288 with 1 Axes>"
      ]
     },
     "metadata": {
      "needs_background": "light"
     },
     "output_type": "display_data"
    }
   ],
   "source": [
    "int_hist (stud_math,'fedu')"
   ]
  },
  {
   "cell_type": "markdown",
   "metadata": {},
   "source": [
    "Значение 40 явно выделяется из общей картины. Скорее всего это ошибка в заполнении. Данное значение предлагается изменить на 4"
   ]
  },
  {
   "cell_type": "code",
   "execution_count": 36,
   "metadata": {},
   "outputs": [],
   "source": [
    "stud_math.loc[stud_math.fedu == 40.0, 'fedu'] = 4.0"
   ]
  },
  {
   "cell_type": "code",
   "execution_count": 37,
   "metadata": {},
   "outputs": [
    {
     "name": "stdout",
     "output_type": "stream",
     "text": [
      "AxesSubplot(0.125,0.125;0.775x0.755)\n",
      "count    352.000000\n",
      "mean       2.576705\n",
      "std        1.053997\n",
      "min        0.000000\n",
      "25%        2.000000\n",
      "50%        3.000000\n",
      "75%        3.000000\n",
      "max        4.000000\n",
      "Name: fedu, dtype: float64\n",
      "0.0      2\n",
      "1.0     65\n",
      "4.0     81\n",
      "2.0     94\n",
      "3.0    110\n",
      "Name: fedu, dtype: int64\n"
     ]
    },
    {
     "data": {
      "image/png": "[encoded data removed]",
      "text/plain": [
       "<Figure size 432x288 with 1 Axes>"
      ]
     },
     "metadata": {
      "needs_background": "light"
     },
     "output_type": "display_data"
    }
   ],
   "source": [
    "int_hist (stud_math,'fedu')"
   ]
  },
  {
   "cell_type": "markdown",
   "metadata": {},
   "source": [
    "# mjob"
   ]
  },
  {
   "cell_type": "code",
   "execution_count": 39,
   "metadata": {},
   "outputs": [
    {
     "name": "stdout",
     "output_type": "stream",
     "text": [
      "Столбец: mjob не является числовым\n",
      "          0\n",
      "0   at_home\n",
      "1    health\n",
      "2     other\n",
      "3  services\n",
      "4   teacher\n",
      "5       NaN\n",
      "Пропущено значений: 17\n",
      "Доля пропущенных значений: 5.0\n",
      "other       115\n",
      "services     90\n",
      "teacher      51\n",
      "at_home      49\n",
      "health       30\n",
      "Name: mjob, dtype: int64\n"
     ]
    }
   ],
   "source": [
    "uniq_nan(stud_math,'mjob')"
   ]
  },
  {
   "cell_type": "code",
   "execution_count": 40,
   "metadata": {},
   "outputs": [
    {
     "data": {
      "text/plain": [
       "0"
      ]
     },
     "execution_count": 40,
     "metadata": {},
     "output_type": "execute_result"
    }
   ],
   "source": [
    "# Для замены выбран 1 вариант (неизвестное)\n",
    "stud_math.mjob = stud_math.mjob.fillna('unknown')\n",
    "#Проверка\n",
    "stud_math.mjob.isna().sum()"
   ]
  },
  {
   "cell_type": "markdown",
   "metadata": {},
   "source": [
    "# fjob"
   ]
  },
  {
   "cell_type": "code",
   "execution_count": 41,
   "metadata": {},
   "outputs": [
    {
     "name": "stdout",
     "output_type": "stream",
     "text": [
      "Столбец: fjob не является числовым\n",
      "          0\n",
      "0   teacher\n",
      "1     other\n",
      "2       NaN\n",
      "3    health\n",
      "4  services\n",
      "5   at_home\n",
      "Пропущено значений: 32\n",
      "Доля пропущенных значений: 9.0\n",
      "other       176\n",
      "services     89\n",
      "teacher      26\n",
      "health       15\n",
      "at_home      14\n",
      "Name: fjob, dtype: int64\n"
     ]
    }
   ],
   "source": [
    "uniq_nan(stud_math,'fjob')"
   ]
  },
  {
   "cell_type": "code",
   "execution_count": 42,
   "metadata": {},
   "outputs": [
    {
     "data": {
      "text/plain": [
       "0"
      ]
     },
     "execution_count": 42,
     "metadata": {},
     "output_type": "execute_result"
    }
   ],
   "source": [
    "# Для замены выбран 1 вариант (неизвестное)\n",
    "stud_math.fjob = stud_math.fjob.fillna('unknown')\n",
    "#Проверка\n",
    "stud_math.fjob.isna().sum()"
   ]
  },
  {
   "cell_type": "markdown",
   "metadata": {},
   "source": [
    "# reason"
   ]
  },
  {
   "cell_type": "code",
   "execution_count": 43,
   "metadata": {},
   "outputs": [
    {
     "name": "stdout",
     "output_type": "stream",
     "text": [
      "Столбец: reason не является числовым\n",
      "            0\n",
      "0      course\n",
      "1       other\n",
      "2        home\n",
      "3  reputation\n",
      "4         NaN\n",
      "Пропущено значений: 15\n",
      "Доля пропущенных значений: 4.0\n",
      "course        119\n",
      "reputation     96\n",
      "home           89\n",
      "other          33\n",
      "Name: reason, dtype: int64\n"
     ]
    }
   ],
   "source": [
    "uniq_nan(stud_math,'reason')"
   ]
  },
  {
   "cell_type": "code",
   "execution_count": 44,
   "metadata": {},
   "outputs": [
    {
     "data": {
      "text/plain": [
       "0"
      ]
     },
     "execution_count": 44,
     "metadata": {},
     "output_type": "execute_result"
    }
   ],
   "source": [
    "# Для замены выбран 1 вариант (неизвестное)\n",
    "stud_math.reason = stud_math.reason.fillna('unknown')\n",
    "#Проверка\n",
    "stud_math.reason.isna().sum()"
   ]
  },
  {
   "cell_type": "markdown",
   "metadata": {},
   "source": [
    "# guardian"
   ]
  },
  {
   "cell_type": "code",
   "execution_count": 45,
   "metadata": {},
   "outputs": [
    {
     "name": "stdout",
     "output_type": "stream",
     "text": [
      "Столбец: guardian не является числовым\n",
      "        0\n",
      "0  mother\n",
      "1  father\n",
      "2   other\n",
      "3     NaN\n",
      "Пропущено значений: 29\n",
      "Доля пропущенных значений: 8.0\n",
      "mother    225\n",
      "father     78\n",
      "other      20\n",
      "Name: guardian, dtype: int64\n"
     ]
    }
   ],
   "source": [
    "uniq_nan(stud_math,'guardian')"
   ]
  },
  {
   "cell_type": "code",
   "execution_count": 46,
   "metadata": {},
   "outputs": [
    {
     "data": {
      "text/plain": [
       "0"
      ]
     },
     "execution_count": 46,
     "metadata": {},
     "output_type": "execute_result"
    }
   ],
   "source": [
    "# Для замены выбран 1 вариант (неизвестное)\n",
    "stud_math.guardian = stud_math.guardian.fillna('unknown')\n",
    "#Проверка\n",
    "stud_math.guardian.isna().sum()"
   ]
  },
  {
   "cell_type": "markdown",
   "metadata": {},
   "source": [
    "# traveltime"
   ]
  },
  {
   "cell_type": "code",
   "execution_count": 47,
   "metadata": {},
   "outputs": [
    {
     "name": "stdout",
     "output_type": "stream",
     "text": [
      "Столбец: traveltime является числовым\n",
      "     0\n",
      "0  2.0\n",
      "1  1.0\n",
      "2  3.0\n",
      "3  NaN\n",
      "4  4.0\n",
      "Пропущено значений: 23\n",
      "Доля пропущенных значений: 7.0\n",
      "1.0    219\n",
      "2.0     86\n",
      "3.0     17\n",
      "4.0      7\n",
      "Name: traveltime, dtype: int64\n"
     ]
    }
   ],
   "source": [
    "uniq_nan(stud_math,'traveltime')"
   ]
  },
  {
   "cell_type": "code",
   "execution_count": 48,
   "metadata": {},
   "outputs": [],
   "source": [
    "# для замены выбран 2 вариант\n",
    "stud_math.traveltime = stud_math.traveltime.fillna(stud_math.traveltime.median())"
   ]
  },
  {
   "cell_type": "code",
   "execution_count": 49,
   "metadata": {},
   "outputs": [
    {
     "name": "stdout",
     "output_type": "stream",
     "text": [
      "AxesSubplot(0.125,0.125;0.775x0.755)\n",
      "count    352.000000\n",
      "mean       1.400568\n",
      "std        0.676256\n",
      "min        1.000000\n",
      "25%        1.000000\n",
      "50%        1.000000\n",
      "75%        2.000000\n",
      "max        4.000000\n",
      "Name: traveltime, dtype: float64\n",
      "4.0      7\n",
      "3.0     17\n",
      "2.0     86\n",
      "1.0    242\n",
      "Name: traveltime, dtype: int64\n"
     ]
    },
    {
     "data": {
      "image/png": "[encoded data removed]",
      "text/plain": [
       "<Figure size 432x288 with 1 Axes>"
      ]
     },
     "metadata": {
      "needs_background": "light"
     },
     "output_type": "display_data"
    }
   ],
   "source": [
    "int_hist (stud_math,'traveltime')"
   ]
  },
  {
   "cell_type": "markdown",
   "metadata": {},
   "source": [
    "# studytime"
   ]
  },
  {
   "cell_type": "code",
   "execution_count": 50,
   "metadata": {},
   "outputs": [
    {
     "name": "stdout",
     "output_type": "stream",
     "text": [
      "Столбец: studytime является числовым\n",
      "     0\n",
      "0  2.0\n",
      "1  3.0\n",
      "2  1.0\n",
      "3  NaN\n",
      "4  4.0\n",
      "Пропущено значений: 7\n",
      "Доля пропущенных значений: 2.0\n",
      "2.0    173\n",
      "1.0     90\n",
      "3.0     58\n",
      "4.0     24\n",
      "Name: studytime, dtype: int64\n"
     ]
    }
   ],
   "source": [
    "uniq_nan(stud_math,'studytime')"
   ]
  },
  {
   "cell_type": "code",
   "execution_count": 51,
   "metadata": {},
   "outputs": [],
   "source": [
    "# для замены выбран 2 вариант\n",
    "stud_math.studytime = stud_math.studytime.fillna(stud_math.studytime.median())"
   ]
  },
  {
   "cell_type": "code",
   "execution_count": 52,
   "metadata": {},
   "outputs": [
    {
     "name": "stdout",
     "output_type": "stream",
     "text": [
      "AxesSubplot(0.125,0.125;0.775x0.755)\n",
      "count    352.000000\n",
      "mean       2.045455\n",
      "std        0.832517\n",
      "min        1.000000\n",
      "25%        1.000000\n",
      "50%        2.000000\n",
      "75%        2.000000\n",
      "max        4.000000\n",
      "Name: studytime, dtype: float64\n",
      "4.0     24\n",
      "3.0     58\n",
      "1.0     90\n",
      "2.0    180\n",
      "Name: studytime, dtype: int64\n"
     ]
    },
    {
     "data": {
      "image/png": "[encoded data removed]",
      "text/plain": [
       "<Figure size 432x288 with 1 Axes>"
      ]
     },
     "metadata": {
      "needs_background": "light"
     },
     "output_type": "display_data"
    }
   ],
   "source": [
    "int_hist (stud_math,'studytime')"
   ]
  },
  {
   "cell_type": "markdown",
   "metadata": {},
   "source": [
    "# failures"
   ]
  },
  {
   "cell_type": "code",
   "execution_count": 53,
   "metadata": {},
   "outputs": [
    {
     "name": "stdout",
     "output_type": "stream",
     "text": [
      "Столбец: failures является числовым\n",
      "     0\n",
      "0  0.0\n",
      "1  3.0\n",
      "2  NaN\n",
      "3  2.0\n",
      "4  1.0\n",
      "Пропущено значений: 20\n",
      "Доля пропущенных значений: 6.0\n",
      "0.0    273\n",
      "1.0     38\n",
      "2.0     11\n",
      "3.0     10\n",
      "Name: failures, dtype: int64\n"
     ]
    }
   ],
   "source": [
    "uniq_nan(stud_math,'failures')"
   ]
  },
  {
   "cell_type": "code",
   "execution_count": 54,
   "metadata": {},
   "outputs": [],
   "source": [
    "# для замены выбран 2 вариант\n",
    "stud_math.failures = stud_math.failures.fillna(stud_math.failures.median())"
   ]
  },
  {
   "cell_type": "code",
   "execution_count": 55,
   "metadata": {},
   "outputs": [
    {
     "name": "stdout",
     "output_type": "stream",
     "text": [
      "AxesSubplot(0.125,0.125;0.775x0.755)\n",
      "count    352.000000\n",
      "mean       0.255682\n",
      "std        0.651513\n",
      "min        0.000000\n",
      "25%        0.000000\n",
      "50%        0.000000\n",
      "75%        0.000000\n",
      "max        3.000000\n",
      "Name: failures, dtype: float64\n",
      "3.0     10\n",
      "2.0     11\n",
      "1.0     38\n",
      "0.0    293\n",
      "Name: failures, dtype: int64\n"
     ]
    },
    {
     "data": {
      "image/png": "[encoded data removed]",
      "text/plain": [
       "<Figure size 432x288 with 1 Axes>"
      ]
     },
     "metadata": {
      "needs_background": "light"
     },
     "output_type": "display_data"
    }
   ],
   "source": [
    "int_hist (stud_math,'failures')"
   ]
  },
  {
   "cell_type": "markdown",
   "metadata": {},
   "source": [
    "# schoolsup"
   ]
  },
  {
   "cell_type": "code",
   "execution_count": 56,
   "metadata": {},
   "outputs": [
    {
     "name": "stdout",
     "output_type": "stream",
     "text": [
      "Столбец: schoolsup не является числовым\n",
      "     0\n",
      "0  yes\n",
      "1   no\n",
      "2  NaN\n",
      "Пропущено значений: 9\n",
      "Доля пропущенных значений: 3.0\n",
      "no     295\n",
      "yes     48\n",
      "Name: schoolsup, dtype: int64\n"
     ]
    }
   ],
   "source": [
    "uniq_nan(stud_math,'schoolsup')"
   ]
  },
  {
   "cell_type": "code",
   "execution_count": 57,
   "metadata": {},
   "outputs": [
    {
     "data": {
      "text/plain": [
       "0"
      ]
     },
     "execution_count": 57,
     "metadata": {},
     "output_type": "execute_result"
    }
   ],
   "source": [
    "# Для замены выбран 1 вариант (неизвестное)\n",
    "stud_math.schoolsup = stud_math.schoolsup.fillna('unknown')\n",
    "#Проверка\n",
    "stud_math.schoolsup.isna().sum()"
   ]
  },
  {
   "cell_type": "markdown",
   "metadata": {},
   "source": [
    "# paid"
   ]
  },
  {
   "cell_type": "code",
   "execution_count": 58,
   "metadata": {},
   "outputs": [
    {
     "name": "stdout",
     "output_type": "stream",
     "text": [
      "Столбец: paid не является числовым\n",
      "     0\n",
      "0   no\n",
      "1  NaN\n",
      "2  yes\n",
      "Пропущено значений: 36\n",
      "Доля пропущенных значений: 10.0\n",
      "no     170\n",
      "yes    146\n",
      "Name: paid, dtype: int64\n"
     ]
    }
   ],
   "source": [
    "uniq_nan(stud_math,'paid')"
   ]
  },
  {
   "cell_type": "code",
   "execution_count": 59,
   "metadata": {},
   "outputs": [
    {
     "data": {
      "text/plain": [
       "0"
      ]
     },
     "execution_count": 59,
     "metadata": {},
     "output_type": "execute_result"
    }
   ],
   "source": [
    "# Для замены выбран 1 вариант (неизвестное)\n",
    "stud_math.paid = stud_math.paid.fillna('unknown')\n",
    "#Проверка\n",
    "stud_math.paid.isna().sum()"
   ]
  },
  {
   "cell_type": "markdown",
   "metadata": {},
   "source": [
    "# activities"
   ]
  },
  {
   "cell_type": "code",
   "execution_count": 60,
   "metadata": {},
   "outputs": [
    {
     "name": "stdout",
     "output_type": "stream",
     "text": [
      "Столбец: activities не является числовым\n",
      "     0\n",
      "0   no\n",
      "1  yes\n",
      "2  NaN\n",
      "Пропущено значений: 12\n",
      "Доля пропущенных значений: 3.0\n",
      "yes    172\n",
      "no     168\n",
      "Name: activities, dtype: int64\n"
     ]
    }
   ],
   "source": [
    "uniq_nan(stud_math,'activities')"
   ]
  },
  {
   "cell_type": "code",
   "execution_count": 61,
   "metadata": {},
   "outputs": [
    {
     "data": {
      "text/plain": [
       "0"
      ]
     },
     "execution_count": 61,
     "metadata": {},
     "output_type": "execute_result"
    }
   ],
   "source": [
    "# Для замены выбран 1 вариант (неизвестное)\n",
    "stud_math.activities = stud_math.activities.fillna('unknown')\n",
    "#Проверка\n",
    "stud_math.activities.isna().sum()"
   ]
  },
  {
   "cell_type": "markdown",
   "metadata": {},
   "source": [
    "# nursery"
   ]
  },
  {
   "cell_type": "code",
   "execution_count": 62,
   "metadata": {},
   "outputs": [
    {
     "name": "stdout",
     "output_type": "stream",
     "text": [
      "Столбец: nursery не является числовым\n",
      "     0\n",
      "0  yes\n",
      "1   no\n",
      "2  NaN\n",
      "Пропущено значений: 12\n",
      "Доля пропущенных значений: 3.0\n",
      "yes    272\n",
      "no      68\n",
      "Name: nursery, dtype: int64\n"
     ]
    }
   ],
   "source": [
    "uniq_nan(stud_math,'nursery')"
   ]
  },
  {
   "cell_type": "code",
   "execution_count": 63,
   "metadata": {},
   "outputs": [
    {
     "data": {
      "text/plain": [
       "0"
      ]
     },
     "execution_count": 63,
     "metadata": {},
     "output_type": "execute_result"
    }
   ],
   "source": [
    "# Для замены выбран 1 вариант (неизвестное)\n",
    "stud_math.nursery = stud_math.nursery.fillna('unknown')\n",
    "#Проверка\n",
    "stud_math.nursery.isna().sum()"
   ]
  },
  {
   "cell_type": "markdown",
   "metadata": {},
   "source": [
    "# higher"
   ]
  },
  {
   "cell_type": "code",
   "execution_count": 64,
   "metadata": {},
   "outputs": [
    {
     "name": "stdout",
     "output_type": "stream",
     "text": [
      "Столбец: higher не является числовым\n",
      "     0\n",
      "0  yes\n",
      "1  NaN\n",
      "2   no\n",
      "Пропущено значений: 19\n",
      "Доля пропущенных значений: 5.0\n",
      "yes    320\n",
      "no      13\n",
      "Name: higher, dtype: int64\n"
     ]
    }
   ],
   "source": [
    "uniq_nan(stud_math,'higher')"
   ]
  },
  {
   "cell_type": "code",
   "execution_count": 65,
   "metadata": {},
   "outputs": [
    {
     "data": {
      "text/plain": [
       "0"
      ]
     },
     "execution_count": 65,
     "metadata": {},
     "output_type": "execute_result"
    }
   ],
   "source": [
    "# Для замены выбран 1 вариант (неизвестное)\n",
    "stud_math.higher = stud_math.higher.fillna('unknown')\n",
    "#Проверка\n",
    "stud_math.higher.isna().sum()"
   ]
  },
  {
   "cell_type": "markdown",
   "metadata": {},
   "source": [
    "# internet"
   ]
  },
  {
   "cell_type": "code",
   "execution_count": 66,
   "metadata": {},
   "outputs": [
    {
     "name": "stdout",
     "output_type": "stream",
     "text": [
      "Столбец: internet не является числовым\n",
      "     0\n",
      "0  NaN\n",
      "1  yes\n",
      "2   no\n",
      "Пропущено значений: 29\n",
      "Доля пропущенных значений: 8.0\n",
      "yes    274\n",
      "no      49\n",
      "Name: internet, dtype: int64\n"
     ]
    }
   ],
   "source": [
    "uniq_nan(stud_math,'internet')"
   ]
  },
  {
   "cell_type": "code",
   "execution_count": 67,
   "metadata": {},
   "outputs": [
    {
     "data": {
      "text/plain": [
       "0"
      ]
     },
     "execution_count": 67,
     "metadata": {},
     "output_type": "execute_result"
    }
   ],
   "source": [
    "# Для замены выбран 3 вариант (часто встречающееся)\n",
    "stud_math.internet = stud_math.internet.fillna('yes')\n",
    "#Проверка\n",
    "stud_math.higher.isna().sum()"
   ]
  },
  {
   "cell_type": "markdown",
   "metadata": {},
   "source": [
    "# romantic"
   ]
  },
  {
   "cell_type": "code",
   "execution_count": 68,
   "metadata": {},
   "outputs": [
    {
     "name": "stdout",
     "output_type": "stream",
     "text": [
      "Столбец: romantic не является числовым\n",
      "     0\n",
      "0   no\n",
      "1  NaN\n",
      "2  yes\n",
      "Пропущено значений: 29\n",
      "Доля пропущенных значений: 8.0\n",
      "no     219\n",
      "yes    104\n",
      "Name: romantic, dtype: int64\n"
     ]
    }
   ],
   "source": [
    "uniq_nan(stud_math,'romantic')"
   ]
  },
  {
   "cell_type": "code",
   "execution_count": 69,
   "metadata": {},
   "outputs": [
    {
     "data": {
      "text/plain": [
       "0"
      ]
     },
     "execution_count": 69,
     "metadata": {},
     "output_type": "execute_result"
    }
   ],
   "source": [
    "# Для замены выбран 1 вариант (неизвестное)\n",
    "stud_math.romantic = stud_math.romantic.fillna('unknown')\n",
    "#Проверка\n",
    "stud_math.romantic.isna().sum()"
   ]
  },
  {
   "cell_type": "markdown",
   "metadata": {},
   "source": [
    "# famrel"
   ]
  },
  {
   "cell_type": "code",
   "execution_count": 70,
   "metadata": {},
   "outputs": [
    {
     "name": "stdout",
     "output_type": "stream",
     "text": [
      "Столбец: famrel является числовым\n",
      "     0\n",
      "0  4.0\n",
      "1  5.0\n",
      "2  3.0\n",
      "3  NaN\n",
      "4 -1.0\n",
      "5  2.0\n",
      "6  1.0\n",
      "Пропущено значений: 24\n",
      "Доля пропущенных значений: 7.0\n",
      " 4.0    163\n",
      " 5.0     88\n",
      " 3.0     56\n",
      " 2.0     14\n",
      " 1.0      6\n",
      "-1.0      1\n",
      "Name: famrel, dtype: int64\n"
     ]
    }
   ],
   "source": [
    "uniq_nan(stud_math,'famrel')"
   ]
  },
  {
   "cell_type": "code",
   "execution_count": 71,
   "metadata": {},
   "outputs": [
    {
     "name": "stdout",
     "output_type": "stream",
     "text": [
      "AxesSubplot(0.125,0.125;0.775x0.755)\n",
      "count    352.000000\n",
      "mean       0.255682\n",
      "std        0.651513\n",
      "min        0.000000\n",
      "25%        0.000000\n",
      "50%        0.000000\n",
      "75%        0.000000\n",
      "max        3.000000\n",
      "Name: failures, dtype: float64\n",
      "3.0     10\n",
      "2.0     11\n",
      "1.0     38\n",
      "0.0    293\n",
      "Name: failures, dtype: int64\n"
     ]
    },
    {
     "data": {
      "image/png": "[encoded data removed]",
      "text/plain": [
       "<Figure size 432x288 with 1 Axes>"
      ]
     },
     "metadata": {
      "needs_background": "light"
     },
     "output_type": "display_data"
    }
   ],
   "source": [
    "int_hist (stud_math,'failures')"
   ]
  },
  {
   "cell_type": "code",
   "execution_count": 72,
   "metadata": {},
   "outputs": [
    {
     "data": {
      "text/plain": [
       "0"
      ]
     },
     "execution_count": 72,
     "metadata": {},
     "output_type": "execute_result"
    }
   ],
   "source": [
    "# для замены выбран 2 вариант\n",
    "stud_math.famrel = stud_math.failures.fillna(stud_math.famrel.median())\n",
    "#Проверка\n",
    "stud_math.failures.isna().sum()"
   ]
  },
  {
   "cell_type": "code",
   "execution_count": 73,
   "metadata": {},
   "outputs": [
    {
     "name": "stdout",
     "output_type": "stream",
     "text": [
      "AxesSubplot(0.125,0.125;0.775x0.755)\n",
      "count    352.000000\n",
      "mean       0.255682\n",
      "std        0.651513\n",
      "min        0.000000\n",
      "25%        0.000000\n",
      "50%        0.000000\n",
      "75%        0.000000\n",
      "max        3.000000\n",
      "Name: failures, dtype: float64\n",
      "3.0     10\n",
      "2.0     11\n",
      "1.0     38\n",
      "0.0    293\n",
      "Name: failures, dtype: int64\n"
     ]
    },
    {
     "data": {
      "image/png": "[encoded data removed]",
      "text/plain": [
       "<Figure size 432x288 with 1 Axes>"
      ]
     },
     "metadata": {
      "needs_background": "light"
     },
     "output_type": "display_data"
    }
   ],
   "source": [
    "int_hist (stud_math,'failures')"
   ]
  },
  {
   "cell_type": "markdown",
   "metadata": {},
   "source": [
    "# freetime"
   ]
  },
  {
   "cell_type": "code",
   "execution_count": 74,
   "metadata": {},
   "outputs": [
    {
     "name": "stdout",
     "output_type": "stream",
     "text": [
      "Столбец: freetime является числовым\n",
      "     0\n",
      "0  3.0\n",
      "1  2.0\n",
      "2  4.0\n",
      "3  1.0\n",
      "4  5.0\n",
      "5  NaN\n",
      "Пропущено значений: 8\n",
      "Доля пропущенных значений: 2.0\n",
      "3.0    132\n",
      "4.0    102\n",
      "2.0     59\n",
      "5.0     35\n",
      "1.0     16\n",
      "Name: freetime, dtype: int64\n"
     ]
    }
   ],
   "source": [
    "uniq_nan(stud_math,'freetime')"
   ]
  },
  {
   "cell_type": "code",
   "execution_count": 75,
   "metadata": {},
   "outputs": [
    {
     "data": {
      "text/plain": [
       "0"
      ]
     },
     "execution_count": 75,
     "metadata": {},
     "output_type": "execute_result"
    }
   ],
   "source": [
    "# для замены выбран 2 вариант\n",
    "stud_math.freetime = stud_math.freetime.fillna(stud_math.freetime.median())\n",
    "#Проверка\n",
    "stud_math.freetime.isna().sum()"
   ]
  },
  {
   "cell_type": "code",
   "execution_count": 76,
   "metadata": {},
   "outputs": [
    {
     "name": "stdout",
     "output_type": "stream",
     "text": [
      "AxesSubplot(0.125,0.125;0.775x0.755)\n",
      "count    352.000000\n",
      "mean       3.230114\n",
      "std        0.993369\n",
      "min        1.000000\n",
      "25%        3.000000\n",
      "50%        3.000000\n",
      "75%        4.000000\n",
      "max        5.000000\n",
      "Name: freetime, dtype: float64\n",
      "1.0     16\n",
      "5.0     35\n",
      "2.0     59\n",
      "4.0    102\n",
      "3.0    140\n",
      "Name: freetime, dtype: int64\n"
     ]
    },
    {
     "data": {
      "image/png": "[encoded data removed]",
      "text/plain": [
       "<Figure size 432x288 with 1 Axes>"
      ]
     },
     "metadata": {
      "needs_background": "light"
     },
     "output_type": "display_data"
    }
   ],
   "source": [
    "int_hist (stud_math,'freetime')"
   ]
  },
  {
   "cell_type": "markdown",
   "metadata": {},
   "source": [
    "# goout"
   ]
  },
  {
   "cell_type": "code",
   "execution_count": 77,
   "metadata": {},
   "outputs": [
    {
     "name": "stdout",
     "output_type": "stream",
     "text": [
      "Столбец: goout является числовым\n",
      "     0\n",
      "0  4.0\n",
      "1  3.0\n",
      "2  2.0\n",
      "3  1.0\n",
      "4  5.0\n",
      "5  NaN\n",
      "Пропущено значений: 6\n",
      "Доля пропущенных значений: 2.0\n",
      "3.0    118\n",
      "2.0     92\n",
      "4.0     74\n",
      "5.0     43\n",
      "1.0     19\n",
      "Name: goout, dtype: int64\n"
     ]
    }
   ],
   "source": [
    "uniq_nan(stud_math,'goout')"
   ]
  },
  {
   "cell_type": "code",
   "execution_count": 78,
   "metadata": {},
   "outputs": [
    {
     "name": "stdout",
     "output_type": "stream",
     "text": [
      "AxesSubplot(0.125,0.125;0.775x0.755)\n",
      "count    346.000000\n",
      "mean       3.086705\n",
      "std        1.091998\n",
      "min        1.000000\n",
      "25%        2.000000\n",
      "50%        3.000000\n",
      "75%        4.000000\n",
      "max        5.000000\n",
      "Name: goout, dtype: float64\n",
      "1.0     19\n",
      "5.0     43\n",
      "4.0     74\n",
      "2.0     92\n",
      "3.0    118\n",
      "Name: goout, dtype: int64\n"
     ]
    },
    {
     "data": {
      "image/png": "[encoded data removed]",
      "text/plain": [
       "<Figure size 432x288 with 1 Axes>"
      ]
     },
     "metadata": {
      "needs_background": "light"
     },
     "output_type": "display_data"
    }
   ],
   "source": [
    "int_hist (stud_math,'goout')"
   ]
  },
  {
   "cell_type": "code",
   "execution_count": 79,
   "metadata": {},
   "outputs": [
    {
     "data": {
      "text/plain": [
       "0"
      ]
     },
     "execution_count": 79,
     "metadata": {},
     "output_type": "execute_result"
    }
   ],
   "source": [
    "# для замены выбран 2 вариант\n",
    "stud_math.goout = stud_math.goout.fillna(stud_math.goout.median())\n",
    "#Проверка\n",
    "stud_math.goout.isna().sum()"
   ]
  },
  {
   "cell_type": "markdown",
   "metadata": {},
   "source": [
    "# health"
   ]
  },
  {
   "cell_type": "code",
   "execution_count": 80,
   "metadata": {},
   "outputs": [
    {
     "name": "stdout",
     "output_type": "stream",
     "text": [
      "Столбец: health является числовым\n",
      "     0\n",
      "0  3.0\n",
      "1  5.0\n",
      "2  1.0\n",
      "3  2.0\n",
      "4  4.0\n",
      "5  NaN\n",
      "Пропущено значений: 13\n",
      "Доля пропущенных значений: 4.0\n",
      "5.0    124\n",
      "3.0     81\n",
      "4.0     53\n",
      "1.0     45\n",
      "2.0     36\n",
      "Name: health, dtype: int64\n"
     ]
    }
   ],
   "source": [
    "uniq_nan(stud_math,'health')"
   ]
  },
  {
   "cell_type": "code",
   "execution_count": 81,
   "metadata": {},
   "outputs": [
    {
     "name": "stdout",
     "output_type": "stream",
     "text": [
      "AxesSubplot(0.125,0.125;0.775x0.755)\n",
      "count    339.000000\n",
      "mean       3.516224\n",
      "std        1.412812\n",
      "min        1.000000\n",
      "25%        3.000000\n",
      "50%        4.000000\n",
      "75%        5.000000\n",
      "max        5.000000\n",
      "Name: health, dtype: float64\n",
      "2.0     36\n",
      "1.0     45\n",
      "4.0     53\n",
      "3.0     81\n",
      "5.0    124\n",
      "Name: health, dtype: int64\n"
     ]
    },
    {
     "data": {
      "image/png": "[encoded data removed]",
      "text/plain": [
       "<Figure size 432x288 with 1 Axes>"
      ]
     },
     "metadata": {
      "needs_background": "light"
     },
     "output_type": "display_data"
    }
   ],
   "source": [
    "int_hist (stud_math,'health')"
   ]
  },
  {
   "cell_type": "code",
   "execution_count": 82,
   "metadata": {},
   "outputs": [
    {
     "data": {
      "text/plain": [
       "0"
      ]
     },
     "execution_count": 82,
     "metadata": {},
     "output_type": "execute_result"
    }
   ],
   "source": [
    "# для замены выбран 2 вариант\n",
    "stud_math.health = stud_math.health.fillna(stud_math.health.median())\n",
    "#Проверка\n",
    "stud_math.health.isna().sum()"
   ]
  },
  {
   "cell_type": "markdown",
   "metadata": {},
   "source": [
    "# absences"
   ]
  },
  {
   "cell_type": "code",
   "execution_count": 83,
   "metadata": {},
   "outputs": [
    {
     "name": "stdout",
     "output_type": "stream",
     "text": [
      "Столбец: absences является числовым\n",
      "        0\n",
      "0     6.0\n",
      "1     4.0\n",
      "2    10.0\n",
      "3     2.0\n",
      "4     0.0\n",
      "5    16.0\n",
      "6     NaN\n",
      "7    14.0\n",
      "8     7.0\n",
      "9     8.0\n",
      "10   25.0\n",
      "11   12.0\n",
      "12   54.0\n",
      "13   18.0\n",
      "14   26.0\n",
      "15   20.0\n",
      "16   56.0\n",
      "17   24.0\n",
      "18   28.0\n",
      "19    5.0\n",
      "20   13.0\n",
      "21   15.0\n",
      "22   22.0\n",
      "23    3.0\n",
      "24  385.0\n",
      "25   21.0\n",
      "26    1.0\n",
      "27   75.0\n",
      "28   30.0\n",
      "29   19.0\n",
      "30    9.0\n",
      "31   11.0\n",
      "32   38.0\n",
      "33   40.0\n",
      "34   23.0\n",
      "35   17.0\n",
      "36  212.0\n",
      "Пропущено значений: 10\n",
      "Доля пропущенных значений: 3.0\n",
      "0.0      74\n",
      "2.0      60\n",
      "4.0      52\n",
      "6.0      30\n",
      "8.0      20\n",
      "10.0     17\n",
      "12.0     12\n",
      "14.0     12\n",
      "3.0       7\n",
      "16.0      7\n",
      "7.0       6\n",
      "5.0       5\n",
      "18.0      5\n",
      "20.0      4\n",
      "22.0      3\n",
      "9.0       3\n",
      "1.0       3\n",
      "15.0      2\n",
      "13.0      2\n",
      "11.0      2\n",
      "25.0      1\n",
      "54.0      1\n",
      "385.0     1\n",
      "26.0      1\n",
      "56.0      1\n",
      "24.0      1\n",
      "212.0     1\n",
      "21.0      1\n",
      "75.0      1\n",
      "30.0      1\n",
      "19.0      1\n",
      "38.0      1\n",
      "40.0      1\n",
      "23.0      1\n",
      "17.0      1\n",
      "28.0      1\n",
      "Name: absences, dtype: int64\n"
     ]
    }
   ],
   "source": [
    "uniq_nan(stud_math,'absences')"
   ]
  },
  {
   "cell_type": "code",
   "execution_count": 84,
   "metadata": {},
   "outputs": [
    {
     "name": "stdout",
     "output_type": "stream",
     "text": [
      "AxesSubplot(0.125,0.125;0.775x0.755)\n",
      "count    342.000000\n",
      "mean       8.090643\n",
      "std       24.704600\n",
      "min        0.000000\n",
      "25%        2.000000\n",
      "50%        4.000000\n",
      "75%        8.000000\n",
      "max      385.000000\n",
      "Name: absences, dtype: float64\n",
      "28.0      1\n",
      "25.0      1\n",
      "54.0      1\n",
      "385.0     1\n",
      "26.0      1\n",
      "56.0      1\n",
      "24.0      1\n",
      "212.0     1\n",
      "75.0      1\n",
      "30.0      1\n",
      "19.0      1\n",
      "38.0      1\n",
      "40.0      1\n",
      "23.0      1\n",
      "21.0      1\n",
      "17.0      1\n",
      "13.0      2\n",
      "11.0      2\n",
      "15.0      2\n",
      "9.0       3\n",
      "22.0      3\n",
      "1.0       3\n",
      "20.0      4\n",
      "18.0      5\n",
      "5.0       5\n",
      "7.0       6\n",
      "16.0      7\n",
      "3.0       7\n",
      "14.0     12\n",
      "12.0     12\n",
      "10.0     17\n",
      "8.0      20\n",
      "6.0      30\n",
      "4.0      52\n",
      "2.0      60\n",
      "0.0      74\n",
      "Name: absences, dtype: int64\n"
     ]
    },
    {
     "data": {
      "image/png": "[encoded data removed]",
      "text/plain": [
       "<Figure size 432x288 with 1 Axes>"
      ]
     },
     "metadata": {
      "needs_background": "light"
     },
     "output_type": "display_data"
    }
   ],
   "source": [
    "int_hist (stud_math,'absences')"
   ]
  },
  {
   "cell_type": "code",
   "execution_count": 85,
   "metadata": {},
   "outputs": [
    {
     "name": "stdout",
     "output_type": "stream",
     "text": [
      "25-й перцентиль: 2.0, 75-й перцентиль: 8.0, IQR: 6.0,  Границы выбросов: [-7.0, 17.0].\n"
     ]
    },
    {
     "data": {
      "image/png": "[encoded data removed]",
      "text/plain": [
       "<Figure size 432x288 with 1 Axes>"
      ]
     },
     "metadata": {
      "needs_background": "light"
     },
     "output_type": "display_data"
    }
   ],
   "source": [
    "median = stud_math.absences.median()\n",
    "IQR = stud_math.absences.quantile(0.75) - stud_math.absences.quantile(0.25)\n",
    "perc25 = stud_math.absences.quantile(0.25)\n",
    "perc75 = stud_math.absences.quantile(0.75)\n",
    "print('25-й перцентиль: {},'.format(perc25),\n",
    "      '75-й перцентиль: {},'.format(perc75),\n",
    "      \"IQR: {}, \".format(IQR),\n",
    "      \"Границы выбросов: [{f}, {l}].\".format(f=perc25 - 1.5*IQR, l=perc75 + 1.5*IQR))\n",
    "\n",
    "\n",
    "stud_math_absences_plot = stud_math.absences[stud_math.absences.between(perc25 - 1.5*IQR, perc75 + 1.5*IQR)]\n",
    "stud_math_absences_plot.hist(bins = 10,label = 'IQR')\n",
    "plt.legend();"
   ]
  },
  {
   "cell_type": "code",
   "execution_count": 86,
   "metadata": {},
   "outputs": [],
   "source": [
    "# для замены выбран 2 вариант\n",
    "stud_math.absences = stud_math.absences.fillna(stud_math.absences.median())"
   ]
  },
  {
   "cell_type": "code",
   "execution_count": 87,
   "metadata": {},
   "outputs": [
    {
     "name": "stdout",
     "output_type": "stream",
     "text": [
      "AxesSubplot(0.125,0.125;0.775x0.755)\n",
      "count    352.000000\n",
      "mean       7.974432\n",
      "std       24.359649\n",
      "min        0.000000\n",
      "25%        2.000000\n",
      "50%        4.000000\n",
      "75%        8.000000\n",
      "max      385.000000\n",
      "Name: absences, dtype: float64\n",
      "28.0      1\n",
      "25.0      1\n",
      "54.0      1\n",
      "385.0     1\n",
      "26.0      1\n",
      "56.0      1\n",
      "24.0      1\n",
      "212.0     1\n",
      "75.0      1\n",
      "30.0      1\n",
      "19.0      1\n",
      "38.0      1\n",
      "40.0      1\n",
      "23.0      1\n",
      "21.0      1\n",
      "17.0      1\n",
      "13.0      2\n",
      "11.0      2\n",
      "15.0      2\n",
      "9.0       3\n",
      "22.0      3\n",
      "1.0       3\n",
      "20.0      4\n",
      "18.0      5\n",
      "5.0       5\n",
      "7.0       6\n",
      "16.0      7\n",
      "3.0       7\n",
      "14.0     12\n",
      "12.0     12\n",
      "10.0     17\n",
      "8.0      20\n",
      "6.0      30\n",
      "2.0      60\n",
      "4.0      62\n",
      "0.0      74\n",
      "Name: absences, dtype: int64\n"
     ]
    },
    {
     "data": {
      "image/png": "[encoded data removed]",
      "text/plain": [
       "<Figure size 432x288 with 1 Axes>"
      ]
     },
     "metadata": {
      "needs_background": "light"
     },
     "output_type": "display_data"
    }
   ],
   "source": [
    "int_hist (stud_math,'absences')"
   ]
  },
  {
   "cell_type": "markdown",
   "metadata": {},
   "source": [
    "# Проверка корреляции"
   ]
  },
  {
   "cell_type": "code",
   "execution_count": 88,
   "metadata": {},
   "outputs": [
    {
     "data": {
      "text/html": [
       "<div>\n",
       "<style scoped>\n",
       "    .dataframe tbody tr th:only-of-type {\n",
       "        vertical-align: middle;\n",
       "    }\n",
       "\n",
       "    .dataframe tbody tr th {\n",
       "        vertical-align: top;\n",
       "    }\n",
       "\n",
       "    .dataframe thead th {\n",
       "        text-align: right;\n",
       "    }\n",
       "</style>\n",
       "<table border=\"1\" class=\"dataframe\">\n",
       "  <thead>\n",
       "    <tr style=\"text-align: right;\">\n",
       "      <th></th>\n",
       "      <th>age</th>\n",
       "      <th>medu</th>\n",
       "      <th>fedu</th>\n",
       "      <th>traveltime</th>\n",
       "      <th>studytime</th>\n",
       "      <th>failures</th>\n",
       "      <th>famrel</th>\n",
       "      <th>freetime</th>\n",
       "      <th>goout</th>\n",
       "      <th>health</th>\n",
       "      <th>absences</th>\n",
       "      <th>score</th>\n",
       "    </tr>\n",
       "  </thead>\n",
       "  <tbody>\n",
       "    <tr>\n",
       "      <th>age</th>\n",
       "      <td>1.000000</td>\n",
       "      <td>-0.123376</td>\n",
       "      <td>-0.130428</td>\n",
       "      <td>0.099530</td>\n",
       "      <td>-0.011270</td>\n",
       "      <td>0.236688</td>\n",
       "      <td>0.236688</td>\n",
       "      <td>0.001563</td>\n",
       "      <td>0.123597</td>\n",
       "      <td>-0.055674</td>\n",
       "      <td>0.111619</td>\n",
       "      <td>-0.131542</td>\n",
       "    </tr>\n",
       "    <tr>\n",
       "      <th>medu</th>\n",
       "      <td>-0.123376</td>\n",
       "      <td>1.000000</td>\n",
       "      <td>0.591354</td>\n",
       "      <td>-0.157040</td>\n",
       "      <td>0.069187</td>\n",
       "      <td>-0.205450</td>\n",
       "      <td>-0.205450</td>\n",
       "      <td>0.018944</td>\n",
       "      <td>0.078894</td>\n",
       "      <td>-0.044754</td>\n",
       "      <td>-0.026084</td>\n",
       "      <td>0.184533</td>\n",
       "    </tr>\n",
       "    <tr>\n",
       "      <th>fedu</th>\n",
       "      <td>-0.130428</td>\n",
       "      <td>0.591354</td>\n",
       "      <td>1.000000</td>\n",
       "      <td>-0.141158</td>\n",
       "      <td>-0.007232</td>\n",
       "      <td>-0.256830</td>\n",
       "      <td>-0.256830</td>\n",
       "      <td>-0.020988</td>\n",
       "      <td>0.046684</td>\n",
       "      <td>0.016691</td>\n",
       "      <td>0.013781</td>\n",
       "      <td>0.131907</td>\n",
       "    </tr>\n",
       "    <tr>\n",
       "      <th>traveltime</th>\n",
       "      <td>0.099530</td>\n",
       "      <td>-0.157040</td>\n",
       "      <td>-0.141158</td>\n",
       "      <td>1.000000</td>\n",
       "      <td>-0.098219</td>\n",
       "      <td>0.083732</td>\n",
       "      <td>0.083732</td>\n",
       "      <td>-0.018856</td>\n",
       "      <td>0.038845</td>\n",
       "      <td>-0.019123</td>\n",
       "      <td>-0.039154</td>\n",
       "      <td>-0.072435</td>\n",
       "    </tr>\n",
       "    <tr>\n",
       "      <th>studytime</th>\n",
       "      <td>-0.011270</td>\n",
       "      <td>0.069187</td>\n",
       "      <td>-0.007232</td>\n",
       "      <td>-0.098219</td>\n",
       "      <td>1.000000</td>\n",
       "      <td>-0.147551</td>\n",
       "      <td>-0.147551</td>\n",
       "      <td>-0.126369</td>\n",
       "      <td>-0.029597</td>\n",
       "      <td>-0.080160</td>\n",
       "      <td>-0.029585</td>\n",
       "      <td>0.139605</td>\n",
       "    </tr>\n",
       "    <tr>\n",
       "      <th>failures</th>\n",
       "      <td>0.236688</td>\n",
       "      <td>-0.205450</td>\n",
       "      <td>-0.256830</td>\n",
       "      <td>0.083732</td>\n",
       "      <td>-0.147551</td>\n",
       "      <td>1.000000</td>\n",
       "      <td>1.000000</td>\n",
       "      <td>0.124534</td>\n",
       "      <td>0.122500</td>\n",
       "      <td>0.059584</td>\n",
       "      <td>0.090709</td>\n",
       "      <td>-0.286925</td>\n",
       "    </tr>\n",
       "    <tr>\n",
       "      <th>famrel</th>\n",
       "      <td>0.236688</td>\n",
       "      <td>-0.205450</td>\n",
       "      <td>-0.256830</td>\n",
       "      <td>0.083732</td>\n",
       "      <td>-0.147551</td>\n",
       "      <td>1.000000</td>\n",
       "      <td>1.000000</td>\n",
       "      <td>0.124534</td>\n",
       "      <td>0.122500</td>\n",
       "      <td>0.059584</td>\n",
       "      <td>0.090709</td>\n",
       "      <td>-0.286925</td>\n",
       "    </tr>\n",
       "    <tr>\n",
       "      <th>freetime</th>\n",
       "      <td>0.001563</td>\n",
       "      <td>0.018944</td>\n",
       "      <td>-0.020988</td>\n",
       "      <td>-0.018856</td>\n",
       "      <td>-0.126369</td>\n",
       "      <td>0.124534</td>\n",
       "      <td>0.124534</td>\n",
       "      <td>1.000000</td>\n",
       "      <td>0.294294</td>\n",
       "      <td>0.069643</td>\n",
       "      <td>0.004836</td>\n",
       "      <td>-0.014731</td>\n",
       "    </tr>\n",
       "    <tr>\n",
       "      <th>goout</th>\n",
       "      <td>0.123597</td>\n",
       "      <td>0.078894</td>\n",
       "      <td>0.046684</td>\n",
       "      <td>0.038845</td>\n",
       "      <td>-0.029597</td>\n",
       "      <td>0.122500</td>\n",
       "      <td>0.122500</td>\n",
       "      <td>0.294294</td>\n",
       "      <td>1.000000</td>\n",
       "      <td>-0.007619</td>\n",
       "      <td>-0.051121</td>\n",
       "      <td>-0.179913</td>\n",
       "    </tr>\n",
       "    <tr>\n",
       "      <th>health</th>\n",
       "      <td>-0.055674</td>\n",
       "      <td>-0.044754</td>\n",
       "      <td>0.016691</td>\n",
       "      <td>-0.019123</td>\n",
       "      <td>-0.080160</td>\n",
       "      <td>0.059584</td>\n",
       "      <td>0.059584</td>\n",
       "      <td>0.069643</td>\n",
       "      <td>-0.007619</td>\n",
       "      <td>1.000000</td>\n",
       "      <td>-0.014747</td>\n",
       "      <td>-0.078860</td>\n",
       "    </tr>\n",
       "    <tr>\n",
       "      <th>absences</th>\n",
       "      <td>0.111619</td>\n",
       "      <td>-0.026084</td>\n",
       "      <td>0.013781</td>\n",
       "      <td>-0.039154</td>\n",
       "      <td>-0.029585</td>\n",
       "      <td>0.090709</td>\n",
       "      <td>0.090709</td>\n",
       "      <td>0.004836</td>\n",
       "      <td>-0.051121</td>\n",
       "      <td>-0.014747</td>\n",
       "      <td>1.000000</td>\n",
       "      <td>-0.016172</td>\n",
       "    </tr>\n",
       "    <tr>\n",
       "      <th>score</th>\n",
       "      <td>-0.131542</td>\n",
       "      <td>0.184533</td>\n",
       "      <td>0.131907</td>\n",
       "      <td>-0.072435</td>\n",
       "      <td>0.139605</td>\n",
       "      <td>-0.286925</td>\n",
       "      <td>-0.286925</td>\n",
       "      <td>-0.014731</td>\n",
       "      <td>-0.179913</td>\n",
       "      <td>-0.078860</td>\n",
       "      <td>-0.016172</td>\n",
       "      <td>1.000000</td>\n",
       "    </tr>\n",
       "  </tbody>\n",
       "</table>\n",
       "</div>"
      ],
      "text/plain": [
       "                 age      medu      fedu  traveltime  studytime  failures  \\\n",
       "age         1.000000 -0.123376 -0.130428    0.099530  -0.011270  0.236688   \n",
       "medu       -0.123376  1.000000  0.591354   -0.157040   0.069187 -0.205450   \n",
       "fedu       -0.130428  0.591354  1.000000   -0.141158  -0.007232 -0.256830   \n",
       "traveltime  0.099530 -0.157040 -0.141158    1.000000  -0.098219  0.083732   \n",
       "studytime  -0.011270  0.069187 -0.007232   -0.098219   1.000000 -0.147551   \n",
       "failures    0.236688 -0.205450 -0.256830    0.083732  -0.147551  1.000000   \n",
       "famrel      0.236688 -0.205450 -0.256830    0.083732  -0.147551  1.000000   \n",
       "freetime    0.001563  0.018944 -0.020988   -0.018856  -0.126369  0.124534   \n",
       "goout       0.123597  0.078894  0.046684    0.038845  -0.029597  0.122500   \n",
       "health     -0.055674 -0.044754  0.016691   -0.019123  -0.080160  0.059584   \n",
       "absences    0.111619 -0.026084  0.013781   -0.039154  -0.029585  0.090709   \n",
       "score      -0.131542  0.184533  0.131907   -0.072435   0.139605 -0.286925   \n",
       "\n",
       "              famrel  freetime     goout    health  absences     score  \n",
       "age         0.236688  0.001563  0.123597 -0.055674  0.111619 -0.131542  \n",
       "medu       -0.205450  0.018944  0.078894 -0.044754 -0.026084  0.184533  \n",
       "fedu       -0.256830 -0.020988  0.046684  0.016691  0.013781  0.131907  \n",
       "traveltime  0.083732 -0.018856  0.038845 -0.019123 -0.039154 -0.072435  \n",
       "studytime  -0.147551 -0.126369 -0.029597 -0.080160 -0.029585  0.139605  \n",
       "failures    1.000000  0.124534  0.122500  0.059584  0.090709 -0.286925  \n",
       "famrel      1.000000  0.124534  0.122500  0.059584  0.090709 -0.286925  \n",
       "freetime    0.124534  1.000000  0.294294  0.069643  0.004836 -0.014731  \n",
       "goout       0.122500  0.294294  1.000000 -0.007619 -0.051121 -0.179913  \n",
       "health      0.059584  0.069643 -0.007619  1.000000 -0.014747 -0.078860  \n",
       "absences    0.090709  0.004836 -0.051121 -0.014747  1.000000 -0.016172  \n",
       "score      -0.286925 -0.014731 -0.179913 -0.078860 -0.016172  1.000000  "
      ]
     },
     "execution_count": 88,
     "metadata": {},
     "output_type": "execute_result"
    }
   ],
   "source": [
    "#проверка корреляции\n",
    "stud_math.corr()"
   ]
  },
  {
   "cell_type": "code",
   "execution_count": 89,
   "metadata": {},
   "outputs": [
    {
     "data": {
      "text/plain": [
       "<matplotlib.axes._subplots.AxesSubplot at 0x2528dd9bc88>"
      ]
     },
     "execution_count": 89,
     "metadata": {},
     "output_type": "execute_result"
    },
    {
     "data": {
      "image/png": "[encoded data removed]",
      "text/plain": [
       "<Figure size 720x720 with 2 Axes>"
      ]
     },
     "metadata": {
      "needs_background": "light"
     },
     "output_type": "display_data"
    }
   ],
   "source": [
    "fig, ax = plt.subplots(figsize=(10, 10))\n",
    "corr = stud_math.corr()\n",
    "matrix = np.triu(corr)\n",
    "sns.heatmap(corr, annot=True,  fmt='.2g', mask=matrix,\n",
    "            vmin=-1, vmax=0.4)"
   ]
  },
  {
   "cell_type": "markdown",
   "metadata": {},
   "source": [
    "У признаков критической корреляции нет"
   ]
  },
  {
   "cell_type": "code",
   "execution_count": 90,
   "metadata": {},
   "outputs": [
    {
     "data": {
      "text/plain": [
       "age          -0.131542\n",
       "medu          0.184533\n",
       "fedu          0.131907\n",
       "traveltime   -0.072435\n",
       "studytime     0.139605\n",
       "failures     -0.286925\n",
       "famrel       -0.286925\n",
       "freetime     -0.014731\n",
       "goout        -0.179913\n",
       "health       -0.078860\n",
       "absences     -0.016172\n",
       "score         1.000000\n",
       "Name: score, dtype: float64"
      ]
     },
     "execution_count": 90,
     "metadata": {},
     "output_type": "execute_result"
    }
   ],
   "source": [
    "# оценка корреляции с целевым показателем 'score'\n",
    "stud_math.corr().score"
   ]
  },
  {
   "cell_type": "markdown",
   "metadata": {},
   "source": [
    "Наибольшее значение коэффииента корреляции -0,29 по колонкам 'failures' (количество внеучебных неудач) и 'famrel'(семейные отношения).\n",
    "Наименьший коэффициент у показателя 'freetime'. Его значение составляет -0,014.  "
   ]
  },
  {
   "cell_type": "code",
   "execution_count": 91,
   "metadata": {},
   "outputs": [
    {
     "data": {
      "image/png": "[encoded data removed]",
      "text/plain": [
       "<Figure size 720x288 with 1 Axes>"
      ]
     },
     "metadata": {
      "needs_background": "light"
     },
     "output_type": "display_data"
    },
    {
     "data": {
      "image/png": "[encoded data removed]",
      "text/plain": [
       "<Figure size 720x288 with 1 Axes>"
      ]
     },
     "metadata": {
      "needs_background": "light"
     },
     "output_type": "display_data"
    },
    {
     "data": {
      "image/png": "[encoded data removed]",
      "text/plain": [
       "<Figure size 720x288 with 1 Axes>"
      ]
     },
     "metadata": {
      "needs_background": "light"
     },
     "output_type": "display_data"
    },
    {
     "data": {
      "image/png": "[encoded data removed]",
      "text/plain": [
       "<Figure size 720x288 with 1 Axes>"
      ]
     },
     "metadata": {
      "needs_background": "light"
     },
     "output_type": "display_data"
    },
    {
     "data": {
      "image/png": "[encoded data removed]",
      "text/plain": [
       "<Figure size 720x288 with 1 Axes>"
      ]
     },
     "metadata": {
      "needs_background": "light"
     },
     "output_type": "display_data"
    },
    {
     "data": {
      "image/png": "[encoded data removed]",
      "text/plain": [
       "<Figure size 720x288 with 1 Axes>"
      ]
     },
     "metadata": {
      "needs_background": "light"
     },
     "output_type": "display_data"
    },
    {
     "data": {
      "image/png": "[encoded data removed]",
      "text/plain": [
       "<Figure size 720x288 with 1 Axes>"
      ]
     },
     "metadata": {
      "needs_background": "light"
     },
     "output_type": "display_data"
    },
    {
     "data": {
      "image/png": "[encoded data removed]",
      "text/plain": [
       "<Figure size 720x288 with 1 Axes>"
      ]
     },
     "metadata": {
      "needs_background": "light"
     },
     "output_type": "display_data"
    },
    {
     "data": {
      "image/png": "[encoded data removed]",
      "text/plain": [
       "<Figure size 720x288 with 1 Axes>"
      ]
     },
     "metadata": {
      "needs_background": "light"
     },
     "output_type": "display_data"
    },
    {
     "data": {
      "image/png": "[encoded data removed]",
      "text/plain": [
       "<Figure size 720x288 with 1 Axes>"
      ]
     },
     "metadata": {
      "needs_background": "light"
     },
     "output_type": "display_data"
    },
    {
     "data": {
      "image/png": "[encoded data removed]",
      "text/plain": [
       "<Figure size 720x288 with 1 Axes>"
      ]
     },
     "metadata": {
      "needs_background": "light"
     },
     "output_type": "display_data"
    },
    {
     "data": {
      "image/png": "[encoded data removed]",
      "text/plain": [
       "<Figure size 720x288 with 1 Axes>"
      ]
     },
     "metadata": {
      "needs_background": "light"
     },
     "output_type": "display_data"
    },
    {
     "data": {
      "image/png": "[encoded data removed]",
      "text/plain": [
       "<Figure size 720x288 with 1 Axes>"
      ]
     },
     "metadata": {
      "needs_background": "light"
     },
     "output_type": "display_data"
    },
    {
     "data": {
      "image/png": "[encoded data removed]",
      "text/plain": [
       "<Figure size 720x288 with 1 Axes>"
      ]
     },
     "metadata": {
      "needs_background": "light"
     },
     "output_type": "display_data"
    },
    {
     "data": {
      "image/png": "[encoded data removed]",
      "text/plain": [
       "<Figure size 720x288 with 1 Axes>"
      ]
     },
     "metadata": {
      "needs_background": "light"
     },
     "output_type": "display_data"
    },
    {
     "data": {
      "image/png": "[encoded data removed]",
      "text/plain": [
       "<Figure size 720x288 with 1 Axes>"
      ]
     },
     "metadata": {
      "needs_background": "light"
     },
     "output_type": "display_data"
    },
    {
     "data": {
      "image/png": "[encoded data removed]",
      "text/plain": [
       "<Figure size 720x288 with 1 Axes>"
      ]
     },
     "metadata": {
      "needs_background": "light"
     },
     "output_type": "display_data"
    }
   ],
   "source": [
    "# Ниже составлены графики плотности распределения значений для нечисловых значений \n",
    "list_col_n = ['school', 'sex', 'address', 'famsize', 'pstatus', 'mjob', 'fjob',\n",
    "       'reason', 'guardian', 'schoolsup', 'famsup', 'paid', 'activities',\n",
    "       'nursery', 'higher', 'internet', 'romantic']\n",
    "\n",
    "for i in range(0,len(list_col_n)):\n",
    "    get_boxplot (stud_math, list_col_n[i])"
   ]
  },
  {
   "cell_type": "markdown",
   "metadata": {},
   "source": [
    "Наименее значимые данные содержатся в колонках famsize, pstatus, romantic"
   ]
  },
  {
   "cell_type": "code",
   "execution_count": 92,
   "metadata": {},
   "outputs": [
    {
     "name": "stdout",
     "output_type": "stream",
     "text": [
      "Найдены статистически значимые различия для колонки address\n",
      "Найдены статистически значимые различия для колонки mjob\n",
      "Найдены статистически значимые различия для колонки fjob\n",
      "Найдены статистически значимые различия для колонки schoolsup\n"
     ]
    }
   ],
   "source": [
    "list_col_n = ['school', 'sex', 'address', 'famsize', 'pstatus', 'mjob', 'fjob',\n",
    "       'reason', 'guardian', 'schoolsup', 'famsup', 'paid', 'activities',\n",
    "       'nursery', 'higher', 'internet', 'romantic']\n",
    "\n",
    "for i in range(0,len(list_col_n)):\n",
    "    get_stat_dif(stud_math, list_col_n[i])"
   ]
  },
  {
   "cell_type": "markdown",
   "metadata": {},
   "source": [
    "# Результат:\n",
    "### 1. На первом этапе была проведена оценка качества заполнения. В первую очередь просмотрена результирующая колонка и колонки с пропусками\n",
    "### 2. Проведен корреляционный анализ с результирующей колонкой и показателями между собой. Наименее значимые по итогам показатели содержатся в колонках: \"failures\" и \"absences\" \n",
    "### Из нечисловых показателей как статистически значимые были выделены \"address\", \"mjob\", \"fjob\", \"schoolsup\"."
   ]
  }
 ],
 "metadata": {
  "kernelspec": {
   "display_name": "Python 3",
   "language": "python",
   "name": "python3"
  },
  "language_info": {
   "codemirror_mode": {
    "name": "ipython",
    "version": 3
   },
   "file_extension": ".py",
   "mimetype": "text/x-python",
   "name": "python",
   "nbconvert_exporter": "python",
   "pygments_lexer": "ipython3",
   "version": "3.7.6"
  }
 },
 "nbformat": 4,
 "nbformat_minor": 4
}
