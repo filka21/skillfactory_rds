{
 "cells": [
  {
   "cell_type": "code",
   "execution_count": 11,
   "metadata": {
    "_cell_guid": "b1076dfc-b9ad-4769-8c92-a6c4dae69d19",
    "_uuid": "8f2839f25d086af736a60e9eeb907d3b93b6e0e5"
   },
   "outputs": [],
   "source": [
    "import numpy as np\n",
    "import pandas as pd\n",
    "import seaborn as sns\n",
    "import matplotlib.pyplot as plt\n",
    "import os\n",
    "from collections import Counter\n"
   ]
  },
  {
   "cell_type": "code",
   "execution_count": 14,
   "metadata": {},
   "outputs": [
    {
     "data": {
      "text/html": [
       "<div>\n",
       "<style scoped>\n",
       "    .dataframe tbody tr th:only-of-type {\n",
       "        vertical-align: middle;\n",
       "    }\n",
       "\n",
       "    .dataframe tbody tr th {\n",
       "        vertical-align: top;\n",
       "    }\n",
       "\n",
       "    .dataframe thead th {\n",
       "        text-align: right;\n",
       "    }\n",
       "</style>\n",
       "<table border=\"1\" class=\"dataframe\">\n",
       "  <thead>\n",
       "    <tr style=\"text-align: right;\">\n",
       "      <th></th>\n",
       "      <th>imdb_id</th>\n",
       "      <th>popularity</th>\n",
       "      <th>budget</th>\n",
       "      <th>revenue</th>\n",
       "      <th>original_title</th>\n",
       "      <th>cast</th>\n",
       "      <th>director</th>\n",
       "      <th>tagline</th>\n",
       "      <th>overview</th>\n",
       "      <th>runtime</th>\n",
       "      <th>genres</th>\n",
       "      <th>production_companies</th>\n",
       "      <th>release_date</th>\n",
       "      <th>vote_count</th>\n",
       "      <th>vote_average</th>\n",
       "      <th>release_year</th>\n",
       "    </tr>\n",
       "  </thead>\n",
       "  <tbody>\n",
       "    <tr>\n",
       "      <th>0</th>\n",
       "      <td>tt0369610</td>\n",
       "      <td>32.985763</td>\n",
       "      <td>150000000</td>\n",
       "      <td>1513528810</td>\n",
       "      <td>Jurassic World</td>\n",
       "      <td>Chris Pratt|Bryce Dallas Howard|Irrfan Khan|Vi...</td>\n",
       "      <td>Colin Trevorrow</td>\n",
       "      <td>The park is open.</td>\n",
       "      <td>Twenty-two years after the events of Jurassic ...</td>\n",
       "      <td>124</td>\n",
       "      <td>Action|Adventure|Science Fiction|Thriller</td>\n",
       "      <td>Universal Studios|Amblin Entertainment|Legenda...</td>\n",
       "      <td>6/9/2015</td>\n",
       "      <td>5562</td>\n",
       "      <td>6.5</td>\n",
       "      <td>2015</td>\n",
       "    </tr>\n",
       "    <tr>\n",
       "      <th>1</th>\n",
       "      <td>tt1392190</td>\n",
       "      <td>28.419936</td>\n",
       "      <td>150000000</td>\n",
       "      <td>378436354</td>\n",
       "      <td>Mad Max: Fury Road</td>\n",
       "      <td>Tom Hardy|Charlize Theron|Hugh Keays-Byrne|Nic...</td>\n",
       "      <td>George Miller</td>\n",
       "      <td>What a Lovely Day.</td>\n",
       "      <td>An apocalyptic story set in the furthest reach...</td>\n",
       "      <td>120</td>\n",
       "      <td>Action|Adventure|Science Fiction|Thriller</td>\n",
       "      <td>Village Roadshow Pictures|Kennedy Miller Produ...</td>\n",
       "      <td>5/13/2015</td>\n",
       "      <td>6185</td>\n",
       "      <td>7.1</td>\n",
       "      <td>2015</td>\n",
       "    </tr>\n",
       "    <tr>\n",
       "      <th>2</th>\n",
       "      <td>tt2908446</td>\n",
       "      <td>13.112507</td>\n",
       "      <td>110000000</td>\n",
       "      <td>295238201</td>\n",
       "      <td>Insurgent</td>\n",
       "      <td>Shailene Woodley|Theo James|Kate Winslet|Ansel...</td>\n",
       "      <td>Robert Schwentke</td>\n",
       "      <td>One Choice Can Destroy You</td>\n",
       "      <td>Beatrice Prior must confront her inner demons ...</td>\n",
       "      <td>119</td>\n",
       "      <td>Adventure|Science Fiction|Thriller</td>\n",
       "      <td>Summit Entertainment|Mandeville Films|Red Wago...</td>\n",
       "      <td>3/18/2015</td>\n",
       "      <td>2480</td>\n",
       "      <td>6.3</td>\n",
       "      <td>2015</td>\n",
       "    </tr>\n",
       "  </tbody>\n",
       "</table>\n",
       "</div>"
      ],
      "text/plain": [
       "     imdb_id  popularity     budget     revenue      original_title  \\\n",
       "0  tt0369610   32.985763  150000000  1513528810      Jurassic World   \n",
       "1  tt1392190   28.419936  150000000   378436354  Mad Max: Fury Road   \n",
       "2  tt2908446   13.112507  110000000   295238201           Insurgent   \n",
       "\n",
       "                                                cast          director  \\\n",
       "0  Chris Pratt|Bryce Dallas Howard|Irrfan Khan|Vi...   Colin Trevorrow   \n",
       "1  Tom Hardy|Charlize Theron|Hugh Keays-Byrne|Nic...     George Miller   \n",
       "2  Shailene Woodley|Theo James|Kate Winslet|Ansel...  Robert Schwentke   \n",
       "\n",
       "                      tagline  \\\n",
       "0           The park is open.   \n",
       "1          What a Lovely Day.   \n",
       "2  One Choice Can Destroy You   \n",
       "\n",
       "                                            overview  runtime  \\\n",
       "0  Twenty-two years after the events of Jurassic ...      124   \n",
       "1  An apocalyptic story set in the furthest reach...      120   \n",
       "2  Beatrice Prior must confront her inner demons ...      119   \n",
       "\n",
       "                                      genres  \\\n",
       "0  Action|Adventure|Science Fiction|Thriller   \n",
       "1  Action|Adventure|Science Fiction|Thriller   \n",
       "2         Adventure|Science Fiction|Thriller   \n",
       "\n",
       "                                production_companies release_date  vote_count  \\\n",
       "0  Universal Studios|Amblin Entertainment|Legenda...     6/9/2015        5562   \n",
       "1  Village Roadshow Pictures|Kennedy Miller Produ...    5/13/2015        6185   \n",
       "2  Summit Entertainment|Mandeville Films|Red Wago...    3/18/2015        2480   \n",
       "\n",
       "   vote_average  release_year  \n",
       "0           6.5          2015  \n",
       "1           7.1          2015  \n",
       "2           6.3          2015  "
      ]
     },
     "execution_count": 14,
     "metadata": {},
     "output_type": "execute_result"
    }
   ],
   "source": [
    "data = pd.read_csv('data.csv')\n",
    "data.head(3)"
   ]
  },
  {
   "cell_type": "code",
   "execution_count": 15,
   "metadata": {},
   "outputs": [
    {
     "data": {
      "text/plain": [
       "1890"
      ]
     },
     "execution_count": 15,
     "metadata": {},
     "output_type": "execute_result"
    }
   ],
   "source": [
    "len(data)"
   ]
  },
  {
   "cell_type": "markdown",
   "metadata": {},
   "source": [
    "# Предобработка датасета"
   ]
  },
  {
   "cell_type": "code",
   "execution_count": 69,
   "metadata": {},
   "outputs": [],
   "source": [
    "answer_ls = [] # создадим список с ответами. сюда будем добавлять ответы по мере прохождения теста\n",
    "# сюда можем вписать создание новых колонок в датасете"
   ]
  },
  {
   "cell_type": "markdown",
   "metadata": {},
   "source": [
    "# 1. У какого фильма из списка самый большой бюджет?\n",
    "Варианты ответов:\n",
    "1. The Dark Knight Rises (tt1345836)\n",
    "2. Spider-Man 3 (tt0413300)\n",
    "3. Avengers: Age of Ultron (tt2395427)\n",
    "4. The Warrior's Way\t(tt1032751)\n",
    "5. Pirates of the Caribbean: On Stranger Tides (tt1298650)"
   ]
  },
  {
   "cell_type": "code",
   "execution_count": 17,
   "metadata": {},
   "outputs": [
    {
     "data": {
      "text/plain": [
       "The Warrior's Way    1\n",
       "Name: original_title, dtype: int64"
      ]
     },
     "execution_count": 17,
     "metadata": {},
     "output_type": "execute_result"
    }
   ],
   "source": [
    "\n",
    "data[data['budget']== data['budget'].max()].original_title.value_counts()"
   ]
  },
  {
   "cell_type": "code",
   "execution_count": 70,
   "metadata": {},
   "outputs": [
    {
     "name": "stdout",
     "output_type": "stream",
     "text": [
      "[4]\n"
     ]
    }
   ],
   "source": [
    "# тут вводим ваш ответ и добавлем в его список ответов (сейчас для примера стоит \"1\")\n",
    "answer_ls.append(4)\n",
    "print(answer_ls)"
   ]
  },
  {
   "cell_type": "markdown",
   "metadata": {},
   "source": [
    "# 2. Какой из фильмов самый длительный (в минутах)\n",
    "1. The Lord of the Rings: The Return of the King\t(tt0167260)\n",
    "2. Gods and Generals\t(tt0279111)\n",
    "3. King Kong\t(tt0360717)\n",
    "4. Pearl Harbor\t(tt0213149)\n",
    "5. Alexander\t(tt0346491)"
   ]
  },
  {
   "cell_type": "code",
   "execution_count": 18,
   "metadata": {},
   "outputs": [
    {
     "data": {
      "text/plain": [
       "Gods and Generals    1\n",
       "Name: original_title, dtype: int64"
      ]
     },
     "execution_count": 18,
     "metadata": {},
     "output_type": "execute_result"
    }
   ],
   "source": [
    "#runtime\n",
    "data[data['runtime']== data['runtime'].max()].original_title.value_counts()"
   ]
  },
  {
   "cell_type": "code",
   "execution_count": 71,
   "metadata": {},
   "outputs": [
    {
     "name": "stdout",
     "output_type": "stream",
     "text": [
      "[4, 2]\n"
     ]
    }
   ],
   "source": [
    "answer_ls.append(2)\n",
    "print(answer_ls)"
   ]
  },
  {
   "cell_type": "markdown",
   "metadata": {},
   "source": [
    "# 3. Какой из фильмов самый короткий (в минутах)\n",
    "Варианты ответов:\n",
    "\n",
    "1. Home on the Range\ttt0299172\n",
    "2. The Jungle Book 2\ttt0283426\n",
    "3. Winnie the Pooh\ttt1449283\n",
    "4. Corpse Bride\ttt0121164\n",
    "5. Hoodwinked!\ttt0443536"
   ]
  },
  {
   "cell_type": "code",
   "execution_count": 19,
   "metadata": {},
   "outputs": [
    {
     "data": {
      "text/plain": [
       "Winnie the Pooh    1\n",
       "Name: original_title, dtype: int64"
      ]
     },
     "execution_count": 19,
     "metadata": {},
     "output_type": "execute_result"
    }
   ],
   "source": [
    "data[data['runtime']== data['runtime'].min()].original_title.value_counts()"
   ]
  },
  {
   "cell_type": "code",
   "execution_count": 72,
   "metadata": {},
   "outputs": [
    {
     "name": "stdout",
     "output_type": "stream",
     "text": [
      "[4, 2, 3]\n"
     ]
    }
   ],
   "source": [
    "answer_ls.append(3)\n",
    "print(answer_ls)"
   ]
  },
  {
   "cell_type": "markdown",
   "metadata": {},
   "source": [
    "# 4. Средняя длительность фильма?\n",
    "\n",
    "Варианты ответов:\n",
    "1. 115\n",
    "2. 110\n",
    "3. 105\n",
    "4. 120\n",
    "5. 100\n"
   ]
  },
  {
   "cell_type": "code",
   "execution_count": 20,
   "metadata": {},
   "outputs": [
    {
     "data": {
      "text/plain": [
       "110.0"
      ]
     },
     "execution_count": 20,
     "metadata": {},
     "output_type": "execute_result"
    }
   ],
   "source": [
    "round(data['runtime'].mean(),0)"
   ]
  },
  {
   "cell_type": "code",
   "execution_count": 73,
   "metadata": {},
   "outputs": [
    {
     "name": "stdout",
     "output_type": "stream",
     "text": [
      "[4, 2, 3, 2]\n"
     ]
    }
   ],
   "source": [
    "answer_ls.append(2)\n",
    "print(answer_ls)"
   ]
  },
  {
   "cell_type": "markdown",
   "metadata": {},
   "source": [
    "# 5. Средняя длительность фильма по медиане?\n",
    "Варианты ответов:\n",
    "1. 106\n",
    "2. 112\n",
    "3. 101\n",
    "4. 120\n",
    "5. 115\n",
    "\n",
    "\n"
   ]
  },
  {
   "cell_type": "code",
   "execution_count": 21,
   "metadata": {},
   "outputs": [
    {
     "data": {
      "text/plain": [
       "106.0"
      ]
     },
     "execution_count": 21,
     "metadata": {},
     "output_type": "execute_result"
    }
   ],
   "source": [
    "round(data['runtime'].median(),0)"
   ]
  },
  {
   "cell_type": "code",
   "execution_count": 74,
   "metadata": {},
   "outputs": [
    {
     "name": "stdout",
     "output_type": "stream",
     "text": [
      "[4, 2, 3, 2, 1]\n"
     ]
    }
   ],
   "source": [
    "answer_ls.append(1)\n",
    "print(answer_ls)"
   ]
  },
  {
   "cell_type": "markdown",
   "metadata": {},
   "source": [
    "# 6. Какой самый прибыльный фильм?\n",
    "Варианты ответов:\n",
    "1. The Avengers\ttt0848228\n",
    "2. Minions\ttt2293640\n",
    "3. Star Wars: The Force Awakens\ttt2488496\n",
    "4. Furious 7\ttt2820852\n",
    "5. Avatar\ttt0499549"
   ]
  },
  {
   "cell_type": "code",
   "execution_count": 22,
   "metadata": {},
   "outputs": [
    {
     "data": {
      "text/plain": [
       "Avatar    1\n",
       "Name: original_title, dtype: int64"
      ]
     },
     "execution_count": 22,
     "metadata": {},
     "output_type": "execute_result"
    }
   ],
   "source": [
    "#revenue\n",
    "data[data['revenue']== data['revenue'].max()].original_title.value_counts()"
   ]
  },
  {
   "cell_type": "code",
   "execution_count": 75,
   "metadata": {},
   "outputs": [
    {
     "name": "stdout",
     "output_type": "stream",
     "text": [
      "[4, 2, 3, 2, 1, 5]\n"
     ]
    }
   ],
   "source": [
    "answer_ls.append(5)\n",
    "print(answer_ls)"
   ]
  },
  {
   "cell_type": "markdown",
   "metadata": {},
   "source": [
    "# 7. Какой фильм самый убыточный?\n",
    "Варианты ответов:\n",
    "1. Supernova tt0134983\n",
    "2. The Warrior's Way tt1032751\n",
    "3. Flushed Away\ttt0424095\n",
    "4. The Adventures of Pluto Nash\ttt0180052\n",
    "5. The Lone Ranger\ttt1210819"
   ]
  },
  {
   "cell_type": "code",
   "execution_count": 23,
   "metadata": {},
   "outputs": [
    {
     "data": {
      "text/plain": [
       " The Adventures of Pluto Nash    1\n",
       "Name: film, dtype: int64"
      ]
     },
     "execution_count": 23,
     "metadata": {},
     "output_type": "execute_result"
    }
   ],
   "source": [
    "a= data[data['original_title']=='Supernova'].revenue.sum()\n",
    "b =data[data['original_title']==\"The Warrior's Way\"].revenue.sum()\n",
    "c =data[data['original_title']=='Flushed Away'].revenue.sum()\n",
    "d =data[data['original_title']==\"The Adventures of Pluto Nash\"].revenue.sum()\n",
    "e =data[data['original_title']=='The Lone Ranger'].revenue.sum()\n",
    "list_small = [a,b,c,d,e]\n",
    "df_small = pd.DataFrame({'film': \"Supernova, The Warrior's Way, Flushed Away, The Adventures of Pluto Nash, The Lone Ranger\".split(','),\n",
    "                         'revenue': [a, b, c, d, e]}, \n",
    "                  index = [1, 2, 3, 4, 5])\n",
    "df_small[df_small['revenue']==df_small['revenue'].min()].film.value_counts()\n",
    "#df_small.groupby(by = [\"revenue\"])['film'].sum()"
   ]
  },
  {
   "cell_type": "code",
   "execution_count": 106,
   "metadata": {},
   "outputs": [],
   "source": [
    "#data2=data.query('original_title in [\"Supernova\", \"Flushed Away\", \"The Adventures of Pluto Nash\",\"The Lone Ranger\",\"The Warriors Way\"]')\n",
    "#data2"
   ]
  },
  {
   "cell_type": "code",
   "execution_count": 76,
   "metadata": {},
   "outputs": [
    {
     "name": "stdout",
     "output_type": "stream",
     "text": [
      "[4, 2, 3, 2, 1, 5, 4]\n"
     ]
    }
   ],
   "source": [
    "answer_ls.append(4)\n",
    "print(answer_ls)"
   ]
  },
  {
   "cell_type": "markdown",
   "metadata": {},
   "source": [
    "# 8. Сколько всего фильмов в прибыли?\n",
    "Варианты ответов:\n",
    "1. 1478\n",
    "2. 1520\n",
    "3. 1241\n",
    "4. 1135\n",
    "5. 1398\n"
   ]
  },
  {
   "cell_type": "code",
   "execution_count": 24,
   "metadata": {},
   "outputs": [
    {
     "data": {
      "text/plain": [
       "1478"
      ]
     },
     "execution_count": 24,
     "metadata": {},
     "output_type": "execute_result"
    }
   ],
   "source": [
    "def rev_bud(x):\n",
    "    y = x['revenue'] - x['budget']\n",
    "    return y\n",
    "data['income'] = data.apply(rev_bud, axis =1)\n",
    "data.head(10)\n",
    "data[data['income']>0].income.count()\n"
   ]
  },
  {
   "cell_type": "code",
   "execution_count": 77,
   "metadata": {},
   "outputs": [
    {
     "name": "stdout",
     "output_type": "stream",
     "text": [
      "[4, 2, 3, 2, 1, 5, 4, 1]\n"
     ]
    }
   ],
   "source": [
    "answer_ls.append(1)\n",
    "print(answer_ls)"
   ]
  },
  {
   "cell_type": "markdown",
   "metadata": {},
   "source": [
    "# 9. Самый прибыльный фильм в 2008 году?\n",
    "Варианты ответов:\n",
    "1. Madagascar: Escape 2 Africa\ttt0479952\n",
    "2. Iron Man\ttt0371746\n",
    "3. Kung Fu Panda\ttt0441773\n",
    "4. The Dark Knight\ttt0468569\n",
    "5. Mamma Mia!\ttt0795421"
   ]
  },
  {
   "cell_type": "code",
   "execution_count": 25,
   "metadata": {},
   "outputs": [
    {
     "data": {
      "text/html": [
       "<div>\n",
       "<style scoped>\n",
       "    .dataframe tbody tr th:only-of-type {\n",
       "        vertical-align: middle;\n",
       "    }\n",
       "\n",
       "    .dataframe tbody tr th {\n",
       "        vertical-align: top;\n",
       "    }\n",
       "\n",
       "    .dataframe thead th {\n",
       "        text-align: right;\n",
       "    }\n",
       "</style>\n",
       "<table border=\"1\" class=\"dataframe\">\n",
       "  <thead>\n",
       "    <tr style=\"text-align: right;\">\n",
       "      <th></th>\n",
       "      <th>imdb_id</th>\n",
       "      <th>popularity</th>\n",
       "      <th>budget</th>\n",
       "      <th>revenue</th>\n",
       "      <th>original_title</th>\n",
       "      <th>cast</th>\n",
       "      <th>director</th>\n",
       "      <th>tagline</th>\n",
       "      <th>overview</th>\n",
       "      <th>runtime</th>\n",
       "      <th>genres</th>\n",
       "      <th>production_companies</th>\n",
       "      <th>release_date</th>\n",
       "      <th>vote_count</th>\n",
       "      <th>vote_average</th>\n",
       "      <th>release_year</th>\n",
       "      <th>income</th>\n",
       "    </tr>\n",
       "  </thead>\n",
       "  <tbody>\n",
       "    <tr>\n",
       "      <th>600</th>\n",
       "      <td>tt0468569</td>\n",
       "      <td>8.466668</td>\n",
       "      <td>185000000</td>\n",
       "      <td>1001921825</td>\n",
       "      <td>The Dark Knight</td>\n",
       "      <td>Christian Bale|Michael Caine|Heath Ledger|Aaro...</td>\n",
       "      <td>Christopher Nolan</td>\n",
       "      <td>Why So Serious?</td>\n",
       "      <td>Batman raises the stakes in his war on crime. ...</td>\n",
       "      <td>152</td>\n",
       "      <td>Drama|Action|Crime|Thriller</td>\n",
       "      <td>DC Comics|Legendary Pictures|Warner Bros.|Syncopy</td>\n",
       "      <td>7/16/2008</td>\n",
       "      <td>8432</td>\n",
       "      <td>8.1</td>\n",
       "      <td>2008</td>\n",
       "      <td>816921825</td>\n",
       "    </tr>\n",
       "  </tbody>\n",
       "</table>\n",
       "</div>"
      ],
      "text/plain": [
       "       imdb_id  popularity     budget     revenue   original_title  \\\n",
       "600  tt0468569    8.466668  185000000  1001921825  The Dark Knight   \n",
       "\n",
       "                                                  cast           director  \\\n",
       "600  Christian Bale|Michael Caine|Heath Ledger|Aaro...  Christopher Nolan   \n",
       "\n",
       "             tagline                                           overview  \\\n",
       "600  Why So Serious?  Batman raises the stakes in his war on crime. ...   \n",
       "\n",
       "     runtime                       genres  \\\n",
       "600      152  Drama|Action|Crime|Thriller   \n",
       "\n",
       "                                  production_companies release_date  \\\n",
       "600  DC Comics|Legendary Pictures|Warner Bros.|Syncopy    7/16/2008   \n",
       "\n",
       "     vote_count  vote_average  release_year     income  \n",
       "600        8432           8.1          2008  816921825  "
      ]
     },
     "metadata": {},
     "output_type": "display_data"
    }
   ],
   "source": [
    "income_2008 = data[data.release_year == 2008].income.max()\n",
    "display(data[(data.income == income_2008)])\n"
   ]
  },
  {
   "cell_type": "code",
   "execution_count": 78,
   "metadata": {},
   "outputs": [
    {
     "name": "stdout",
     "output_type": "stream",
     "text": [
      "[4, 2, 3, 2, 1, 5, 4, 1, 4]\n"
     ]
    }
   ],
   "source": [
    "answer_ls.append(4)\n",
    "print(answer_ls)"
   ]
  },
  {
   "cell_type": "markdown",
   "metadata": {},
   "source": [
    "# 10. Самый убыточный фильм за период с 2012 по 2014 (включительно)?\n",
    "Варианты ответов:\n",
    "1. Winter's Tale\ttt1837709\n",
    "2. Stolen\ttt1656186\n",
    "3. Broken City\ttt1235522\n",
    "4. Upside Down\ttt1374992\n",
    "5. The Lone Ranger\ttt1210819\n"
   ]
  },
  {
   "cell_type": "code",
   "execution_count": 26,
   "metadata": {},
   "outputs": [
    {
     "data": {
      "text/html": [
       "<div>\n",
       "<style scoped>\n",
       "    .dataframe tbody tr th:only-of-type {\n",
       "        vertical-align: middle;\n",
       "    }\n",
       "\n",
       "    .dataframe tbody tr th {\n",
       "        vertical-align: top;\n",
       "    }\n",
       "\n",
       "    .dataframe thead th {\n",
       "        text-align: right;\n",
       "    }\n",
       "</style>\n",
       "<table border=\"1\" class=\"dataframe\">\n",
       "  <thead>\n",
       "    <tr style=\"text-align: right;\">\n",
       "      <th></th>\n",
       "      <th>imdb_id</th>\n",
       "      <th>popularity</th>\n",
       "      <th>budget</th>\n",
       "      <th>revenue</th>\n",
       "      <th>original_title</th>\n",
       "      <th>cast</th>\n",
       "      <th>director</th>\n",
       "      <th>tagline</th>\n",
       "      <th>overview</th>\n",
       "      <th>runtime</th>\n",
       "      <th>genres</th>\n",
       "      <th>production_companies</th>\n",
       "      <th>release_date</th>\n",
       "      <th>vote_count</th>\n",
       "      <th>vote_average</th>\n",
       "      <th>release_year</th>\n",
       "      <th>income</th>\n",
       "    </tr>\n",
       "  </thead>\n",
       "  <tbody>\n",
       "    <tr>\n",
       "      <th>1246</th>\n",
       "      <td>tt1210819</td>\n",
       "      <td>1.21451</td>\n",
       "      <td>255000000</td>\n",
       "      <td>89289910</td>\n",
       "      <td>The Lone Ranger</td>\n",
       "      <td>Johnny Depp|Armie Hammer|William Fichtner|Hele...</td>\n",
       "      <td>Gore Verbinski</td>\n",
       "      <td>Never Take Off the Mask</td>\n",
       "      <td>The Texas Rangers chase down a gang of outlaws...</td>\n",
       "      <td>149</td>\n",
       "      <td>Action|Adventure|Western</td>\n",
       "      <td>Walt Disney Pictures|Jerry Bruckheimer Films|I...</td>\n",
       "      <td>7/3/2013</td>\n",
       "      <td>1607</td>\n",
       "      <td>6.0</td>\n",
       "      <td>2013</td>\n",
       "      <td>-165710090</td>\n",
       "    </tr>\n",
       "  </tbody>\n",
       "</table>\n",
       "</div>"
      ],
      "text/plain": [
       "        imdb_id  popularity     budget   revenue   original_title  \\\n",
       "1246  tt1210819     1.21451  255000000  89289910  The Lone Ranger   \n",
       "\n",
       "                                                   cast        director  \\\n",
       "1246  Johnny Depp|Armie Hammer|William Fichtner|Hele...  Gore Verbinski   \n",
       "\n",
       "                      tagline  \\\n",
       "1246  Never Take Off the Mask   \n",
       "\n",
       "                                               overview  runtime  \\\n",
       "1246  The Texas Rangers chase down a gang of outlaws...      149   \n",
       "\n",
       "                        genres  \\\n",
       "1246  Action|Adventure|Western   \n",
       "\n",
       "                                   production_companies release_date  \\\n",
       "1246  Walt Disney Pictures|Jerry Bruckheimer Films|I...     7/3/2013   \n",
       "\n",
       "      vote_count  vote_average  release_year     income  \n",
       "1246        1607           6.0          2013 -165710090  "
      ]
     },
     "metadata": {},
     "output_type": "display_data"
    },
    {
     "data": {
      "text/plain": [
       "-165710090"
      ]
     },
     "execution_count": 26,
     "metadata": {},
     "output_type": "execute_result"
    }
   ],
   "source": [
    "income_2012_2014 = data[(data.release_year >= 2012) & (data.release_year <= 2014)].income.min()\n",
    "display(data[(data.income == income_2012_2014)])\n",
    "income_2012_2014"
   ]
  },
  {
   "cell_type": "code",
   "execution_count": 79,
   "metadata": {},
   "outputs": [],
   "source": [
    "answer_ls.append(5)"
   ]
  },
  {
   "cell_type": "markdown",
   "metadata": {},
   "source": [
    "# 11. Какого жанра фильмов больше всего?\n",
    "Варианты ответов:\n",
    "1. Action\n",
    "2. Adventure\n",
    "3. Drama\n",
    "4. Comedy\n",
    "5. Thriller"
   ]
  },
  {
   "cell_type": "code",
   "execution_count": 27,
   "metadata": {},
   "outputs": [
    {
     "data": {
      "text/plain": [
       "Comedy    141\n",
       "Name: genres, dtype: int64"
      ]
     },
     "metadata": {},
     "output_type": "display_data"
    }
   ],
   "source": [
    "s = data['genres'].value_counts()\n",
    "display(s[0:1])\n"
   ]
  },
  {
   "cell_type": "code",
   "execution_count": 80,
   "metadata": {},
   "outputs": [
    {
     "name": "stdout",
     "output_type": "stream",
     "text": [
      "[4, 2, 3, 2, 1, 5, 4, 1, 4, 5, 4]\n"
     ]
    }
   ],
   "source": [
    "answer_ls.append(4)\n",
    "print(answer_ls)"
   ]
  },
  {
   "cell_type": "markdown",
   "metadata": {},
   "source": [
    "# 12. Какого жанра среди прибыльных фильмов больше всего?\n",
    "Варианты ответов:\n",
    "1. Drama\n",
    "2. Comedy\n",
    "3. Action\n",
    "4. Thriller\n",
    "5. Adventure"
   ]
  },
  {
   "cell_type": "code",
   "execution_count": 28,
   "metadata": {},
   "outputs": [
    {
     "data": {
      "text/plain": [
       "Comedy                                     121\n",
       "Drama                                       70\n",
       "Comedy|Romance                              52\n",
       "Drama|Romance                               38\n",
       "Horror|Thriller                             31\n",
       "                                          ... \n",
       "Thriller|Action|Fantasy|Horror               1\n",
       "Action|Thriller|Science Fiction|Mystery      1\n",
       "Comedy|Family|Fantasy|Science Fiction        1\n",
       "Family|Fantasy|Adventure                     1\n",
       "Crime|Adventure|Action|Comedy|Thriller       1\n",
       "Name: genres, Length: 548, dtype: int64"
      ]
     },
     "execution_count": 28,
     "metadata": {},
     "output_type": "execute_result"
    }
   ],
   "source": [
    "s = data[data['income'] >0].genres.value_counts()\n",
    "s"
   ]
  },
  {
   "cell_type": "code",
   "execution_count": 81,
   "metadata": {},
   "outputs": [
    {
     "name": "stdout",
     "output_type": "stream",
     "text": [
      "[4, 2, 3, 2, 1, 5, 4, 1, 4, 5, 4, 2]\n"
     ]
    }
   ],
   "source": [
    "answer_ls.append(2)\n",
    "print(answer_ls)"
   ]
  },
  {
   "cell_type": "markdown",
   "metadata": {},
   "source": [
    "# 13. Кто из режиссеров снял больше всего фильмов?\n",
    "Варианты ответов:\n",
    "1. Steven Spielberg\n",
    "2. Ridley Scott \n",
    "3. Steven Soderbergh\n",
    "4. Christopher Nolan\n",
    "5. Clint Eastwood"
   ]
  },
  {
   "cell_type": "code",
   "execution_count": 29,
   "metadata": {},
   "outputs": [
    {
     "data": {
      "text/plain": [
       "director\n",
       "Aaron Seltzer|Jason Friedberg       1\n",
       "Liz Friedlander                     1\n",
       "Louis Leterrier|Corey Yuen Kwai     1\n",
       "Mabrouk El Mechri                   1\n",
       "Marcel Langenegger                  1\n",
       "                                   ..\n",
       "Steven Spielberg                   10\n",
       "Shawn Levy                         10\n",
       "Clint Eastwood                     12\n",
       "Ridley Scott                       12\n",
       "Steven Soderbergh                  13\n",
       "Name: original_title, Length: 958, dtype: int64"
      ]
     },
     "execution_count": 29,
     "metadata": {},
     "output_type": "execute_result"
    }
   ],
   "source": [
    "s= data.groupby(by = ['director'])['original_title'].count()\n",
    "s.sort_values()"
   ]
  },
  {
   "cell_type": "code",
   "execution_count": 82,
   "metadata": {},
   "outputs": [],
   "source": [
    "answer_ls.append(1)"
   ]
  },
  {
   "cell_type": "markdown",
   "metadata": {},
   "source": [
    "# 14. Кто из режиссеров снял больше всего Прибыльных фильмов?\n",
    "Варианты ответов:\n",
    "1. Steven Soderbergh\n",
    "2. Clint Eastwood\n",
    "3. Steven Spielberg\n",
    "4. Ridley Scott\n",
    "5. Christopher Nolan"
   ]
  },
  {
   "cell_type": "code",
   "execution_count": 30,
   "metadata": {},
   "outputs": [
    {
     "data": {
      "text/plain": [
       "director\n",
       "Aaron Seltzer|Jason Friedberg      1\n",
       "Joel Edgerton                      1\n",
       "Joel Coen|Ethan Coen               1\n",
       "Ricky Gervais|Matthew Robinson     1\n",
       "Rob Bowman                         1\n",
       "                                  ..\n",
       "Shawn Levy                         9\n",
       "Clint Eastwood                    10\n",
       "Steven Soderbergh                 10\n",
       "Steven Spielberg                  10\n",
       "Ridley Scott                      12\n",
       "Name: original_title, Length: 774, dtype: int64"
      ]
     },
     "execution_count": 30,
     "metadata": {},
     "output_type": "execute_result"
    }
   ],
   "source": [
    "s1= data[data['income'] > 0].groupby(by = ['director'])['original_title'].count()\n",
    "s1.sort_values()"
   ]
  },
  {
   "cell_type": "code",
   "execution_count": 83,
   "metadata": {},
   "outputs": [],
   "source": [
    "answer_ls.append(4)"
   ]
  },
  {
   "cell_type": "markdown",
   "metadata": {},
   "source": [
    "# 15. Кто из режиссеров принес больше всего прибыли?\n",
    "Варианты ответов:\n",
    "1. Steven Spielberg\n",
    "2. Christopher Nolan\n",
    "3. David Yates\n",
    "4. James Cameron\n",
    "5. Peter Jackson\n"
   ]
  },
  {
   "cell_type": "code",
   "execution_count": 31,
   "metadata": {},
   "outputs": [
    {
     "data": {
      "text/html": [
       "<div>\n",
       "<style scoped>\n",
       "    .dataframe tbody tr th:only-of-type {\n",
       "        vertical-align: middle;\n",
       "    }\n",
       "\n",
       "    .dataframe tbody tr th {\n",
       "        vertical-align: top;\n",
       "    }\n",
       "\n",
       "    .dataframe thead tr th {\n",
       "        text-align: left;\n",
       "    }\n",
       "\n",
       "    .dataframe thead tr:last-of-type th {\n",
       "        text-align: right;\n",
       "    }\n",
       "</style>\n",
       "<table border=\"1\" class=\"dataframe\">\n",
       "  <thead>\n",
       "    <tr>\n",
       "      <th></th>\n",
       "      <th colspan=\"8\" halign=\"left\">popularity</th>\n",
       "      <th colspan=\"2\" halign=\"left\">budget</th>\n",
       "      <th>...</th>\n",
       "      <th colspan=\"2\" halign=\"left\">release_year</th>\n",
       "      <th colspan=\"8\" halign=\"left\">income</th>\n",
       "    </tr>\n",
       "    <tr>\n",
       "      <th></th>\n",
       "      <th>count</th>\n",
       "      <th>mean</th>\n",
       "      <th>std</th>\n",
       "      <th>min</th>\n",
       "      <th>25%</th>\n",
       "      <th>50%</th>\n",
       "      <th>75%</th>\n",
       "      <th>max</th>\n",
       "      <th>count</th>\n",
       "      <th>mean</th>\n",
       "      <th>...</th>\n",
       "      <th>75%</th>\n",
       "      <th>max</th>\n",
       "      <th>count</th>\n",
       "      <th>mean</th>\n",
       "      <th>std</th>\n",
       "      <th>min</th>\n",
       "      <th>25%</th>\n",
       "      <th>50%</th>\n",
       "      <th>75%</th>\n",
       "      <th>max</th>\n",
       "    </tr>\n",
       "    <tr>\n",
       "      <th>director</th>\n",
       "      <th></th>\n",
       "      <th></th>\n",
       "      <th></th>\n",
       "      <th></th>\n",
       "      <th></th>\n",
       "      <th></th>\n",
       "      <th></th>\n",
       "      <th></th>\n",
       "      <th></th>\n",
       "      <th></th>\n",
       "      <th></th>\n",
       "      <th></th>\n",
       "      <th></th>\n",
       "      <th></th>\n",
       "      <th></th>\n",
       "      <th></th>\n",
       "      <th></th>\n",
       "      <th></th>\n",
       "      <th></th>\n",
       "      <th></th>\n",
       "      <th></th>\n",
       "    </tr>\n",
       "  </thead>\n",
       "  <tbody>\n",
       "    <tr>\n",
       "      <th>James Cameron</th>\n",
       "      <td>1.0</td>\n",
       "      <td>9.432768</td>\n",
       "      <td>NaN</td>\n",
       "      <td>9.432768</td>\n",
       "      <td>9.432768</td>\n",
       "      <td>9.432768</td>\n",
       "      <td>9.432768</td>\n",
       "      <td>9.432768</td>\n",
       "      <td>1.0</td>\n",
       "      <td>237000000.0</td>\n",
       "      <td>...</td>\n",
       "      <td>2009.0</td>\n",
       "      <td>2009.0</td>\n",
       "      <td>1.0</td>\n",
       "      <td>2.544506e+09</td>\n",
       "      <td>NaN</td>\n",
       "      <td>2.544506e+09</td>\n",
       "      <td>2.544506e+09</td>\n",
       "      <td>2.544506e+09</td>\n",
       "      <td>2.544506e+09</td>\n",
       "      <td>2.544506e+09</td>\n",
       "    </tr>\n",
       "  </tbody>\n",
       "</table>\n",
       "<p>1 rows × 64 columns</p>\n",
       "</div>"
      ],
      "text/plain": [
       "              popularity                                              \\\n",
       "                   count      mean std       min       25%       50%   \n",
       "director                                                               \n",
       "James Cameron        1.0  9.432768 NaN  9.432768  9.432768  9.432768   \n",
       "\n",
       "                                  budget               ... release_year  \\\n",
       "                    75%       max  count         mean  ...          75%   \n",
       "director                                               ...                \n",
       "James Cameron  9.432768  9.432768    1.0  237000000.0  ...       2009.0   \n",
       "\n",
       "                      income                                                \\\n",
       "                  max  count          mean std           min           25%   \n",
       "director                                                                     \n",
       "James Cameron  2009.0    1.0  2.544506e+09 NaN  2.544506e+09  2.544506e+09   \n",
       "\n",
       "                                                         \n",
       "                        50%           75%           max  \n",
       "director                                                 \n",
       "James Cameron  2.544506e+09  2.544506e+09  2.544506e+09  \n",
       "\n",
       "[1 rows x 64 columns]"
      ]
     },
     "execution_count": 31,
     "metadata": {},
     "output_type": "execute_result"
    }
   ],
   "source": [
    "s2= data[data['income'] == data['income'].max()].groupby(by = ['director']).describe()\n",
    "s2\n",
    "#надо просуммировать прибыль по режисеерам"
   ]
  },
  {
   "cell_type": "code",
   "execution_count": 84,
   "metadata": {},
   "outputs": [],
   "source": [
    "answer_ls.append(4)"
   ]
  },
  {
   "cell_type": "markdown",
   "metadata": {},
   "source": [
    "# 16. Какой актер принес больше всего прибыли?\n",
    "Варианты ответов:\n",
    "1. Emma Watson\n",
    "2. Johnny Depp\n",
    "3. Michelle Rodriguez\n",
    "4. Orlando Bloom\n",
    "5. Rupert Grint"
   ]
  },
  {
   "cell_type": "code",
   "execution_count": 33,
   "metadata": {},
   "outputs": [
    {
     "data": {
      "text/html": [
       "<div>\n",
       "<style scoped>\n",
       "    .dataframe tbody tr th:only-of-type {\n",
       "        vertical-align: middle;\n",
       "    }\n",
       "\n",
       "    .dataframe tbody tr th {\n",
       "        vertical-align: top;\n",
       "    }\n",
       "\n",
       "    .dataframe thead th {\n",
       "        text-align: right;\n",
       "    }\n",
       "</style>\n",
       "<table border=\"1\" class=\"dataframe\">\n",
       "  <thead>\n",
       "    <tr style=\"text-align: right;\">\n",
       "      <th></th>\n",
       "      <th>Summ</th>\n",
       "    </tr>\n",
       "  </thead>\n",
       "  <tbody>\n",
       "    <tr>\n",
       "      <th>Emma Watson</th>\n",
       "      <td>6666245597</td>\n",
       "    </tr>\n",
       "    <tr>\n",
       "      <th>Daniel Radcliffe</th>\n",
       "      <td>6514990281</td>\n",
       "    </tr>\n",
       "    <tr>\n",
       "      <th>Rupert Grint</th>\n",
       "      <td>6408638290</td>\n",
       "    </tr>\n",
       "    <tr>\n",
       "      <th>Ian McKellen</th>\n",
       "      <td>6087375777</td>\n",
       "    </tr>\n",
       "    <tr>\n",
       "      <th>Robert Downey Jr.</th>\n",
       "      <td>5316030161</td>\n",
       "    </tr>\n",
       "    <tr>\n",
       "      <th>...</th>\n",
       "      <td>...</td>\n",
       "    </tr>\n",
       "    <tr>\n",
       "      <th>Elisabeth Harnois</th>\n",
       "      <td>-111007242</td>\n",
       "    </tr>\n",
       "    <tr>\n",
       "      <th>Emilio EchevarrÃ­a</th>\n",
       "      <td>-119180039</td>\n",
       "    </tr>\n",
       "    <tr>\n",
       "      <th>Kate Bosworth</th>\n",
       "      <td>-369455668</td>\n",
       "    </tr>\n",
       "    <tr>\n",
       "      <th>Ti Lung</th>\n",
       "      <td>-413912431</td>\n",
       "    </tr>\n",
       "    <tr>\n",
       "      <th>Jang Dong-gun</th>\n",
       "      <td>-413912431</td>\n",
       "    </tr>\n",
       "  </tbody>\n",
       "</table>\n",
       "<p>3408 rows × 1 columns</p>\n",
       "</div>"
      ],
      "text/plain": [
       "                          Summ\n",
       "Emma Watson         6666245597\n",
       "Daniel Radcliffe    6514990281\n",
       "Rupert Grint        6408638290\n",
       "Ian McKellen        6087375777\n",
       "Robert Downey Jr.   5316030161\n",
       "...                        ...\n",
       "Elisabeth Harnois   -111007242\n",
       "Emilio EchevarrÃ­a  -119180039\n",
       "Kate Bosworth       -369455668\n",
       "Ti Lung             -413912431\n",
       "Jang Dong-gun       -413912431\n",
       "\n",
       "[3408 rows x 1 columns]"
      ]
     },
     "metadata": {},
     "output_type": "display_data"
    }
   ],
   "source": [
    "def actor_revenue(df):\n",
    "    summ = Counter()\n",
    "    for i in range(len(df)):\n",
    "        for j in df.iloc[i].cast.split('|'):\n",
    "            summ[j] += df.iloc[i].income\n",
    "    return pd.DataFrame.from_dict(summ, orient='index', columns = ['Summ'])\n",
    "display(actor_revenue(data).sort_values(by=['Summ'], ascending = False))"
   ]
  },
  {
   "cell_type": "code",
   "execution_count": 85,
   "metadata": {},
   "outputs": [],
   "source": [
    "answer_ls.append(1)"
   ]
  },
  {
   "cell_type": "markdown",
   "metadata": {},
   "source": [
    "# 17. Какой актер принес меньше всего прибыли в 2012 году?\n",
    "Варианты ответов:\n",
    "1. Nicolas Cage\n",
    "2. Danny Huston\n",
    "3. Kirsten Dunst\n",
    "4. Jim Sturgess\n",
    "5. Sami Gayle"
   ]
  },
  {
   "cell_type": "code",
   "execution_count": 34,
   "metadata": {},
   "outputs": [
    {
     "data": {
      "text/html": [
       "<div>\n",
       "<style scoped>\n",
       "    .dataframe tbody tr th:only-of-type {\n",
       "        vertical-align: middle;\n",
       "    }\n",
       "\n",
       "    .dataframe tbody tr th {\n",
       "        vertical-align: top;\n",
       "    }\n",
       "\n",
       "    .dataframe thead th {\n",
       "        text-align: right;\n",
       "    }\n",
       "</style>\n",
       "<table border=\"1\" class=\"dataframe\">\n",
       "  <thead>\n",
       "    <tr style=\"text-align: right;\">\n",
       "      <th></th>\n",
       "      <th>Summ</th>\n",
       "    </tr>\n",
       "  </thead>\n",
       "  <tbody>\n",
       "    <tr>\n",
       "      <th>Chris Hemsworth</th>\n",
       "      <td>1542450773</td>\n",
       "    </tr>\n",
       "    <tr>\n",
       "      <th>Denis Leary</th>\n",
       "      <td>1319460639</td>\n",
       "    </tr>\n",
       "    <tr>\n",
       "      <th>Robert Downey Jr.</th>\n",
       "      <td>1299557910</td>\n",
       "    </tr>\n",
       "    <tr>\n",
       "      <th>Mark Ruffalo</th>\n",
       "      <td>1299557910</td>\n",
       "    </tr>\n",
       "    <tr>\n",
       "      <th>Scarlett Johansson</th>\n",
       "      <td>1299557910</td>\n",
       "    </tr>\n",
       "    <tr>\n",
       "      <th>...</th>\n",
       "      <td>...</td>\n",
       "    </tr>\n",
       "    <tr>\n",
       "      <th>Malin Ã…kerman</th>\n",
       "      <td>-43733509</td>\n",
       "    </tr>\n",
       "    <tr>\n",
       "      <th>Timothy Spall</th>\n",
       "      <td>-51893525</td>\n",
       "    </tr>\n",
       "    <tr>\n",
       "      <th>James Kidnie</th>\n",
       "      <td>-51893525</td>\n",
       "    </tr>\n",
       "    <tr>\n",
       "      <th>Heidi Hawkins</th>\n",
       "      <td>-51893525</td>\n",
       "    </tr>\n",
       "    <tr>\n",
       "      <th>Kirsten Dunst</th>\n",
       "      <td>-68109207</td>\n",
       "    </tr>\n",
       "  </tbody>\n",
       "</table>\n",
       "<p>466 rows × 1 columns</p>\n",
       "</div>"
      ],
      "text/plain": [
       "                          Summ\n",
       "Chris Hemsworth     1542450773\n",
       "Denis Leary         1319460639\n",
       "Robert Downey Jr.   1299557910\n",
       "Mark Ruffalo        1299557910\n",
       "Scarlett Johansson  1299557910\n",
       "...                        ...\n",
       "Malin Ã…kerman       -43733509\n",
       "Timothy Spall        -51893525\n",
       "James Kidnie         -51893525\n",
       "Heidi Hawkins        -51893525\n",
       "Kirsten Dunst        -68109207\n",
       "\n",
       "[466 rows x 1 columns]"
      ]
     },
     "metadata": {},
     "output_type": "display_data"
    }
   ],
   "source": [
    "display(actor_revenue(data[data.release_year == 2012]).sort_values(by=['Summ'], ascending = False))"
   ]
  },
  {
   "cell_type": "code",
   "execution_count": 86,
   "metadata": {},
   "outputs": [],
   "source": [
    "answer_ls.append(3)"
   ]
  },
  {
   "cell_type": "markdown",
   "metadata": {},
   "source": [
    "# 18. Какой актер снялся в большем количестве высокобюджетных фильмов? (в фильмах где бюджет выше среднего по данной выборке)\n",
    "Варианты ответов:\n",
    "1. Tom Cruise\n",
    "2. Mark Wahlberg \n",
    "3. Matt Damon\n",
    "4. Angelina Jolie\n",
    "5. Adam Sandler"
   ]
  },
  {
   "cell_type": "code",
   "execution_count": 37,
   "metadata": {},
   "outputs": [
    {
     "data": {
      "text/html": [
       "<div>\n",
       "<style scoped>\n",
       "    .dataframe tbody tr th:only-of-type {\n",
       "        vertical-align: middle;\n",
       "    }\n",
       "\n",
       "    .dataframe tbody tr th {\n",
       "        vertical-align: top;\n",
       "    }\n",
       "\n",
       "    .dataframe thead th {\n",
       "        text-align: right;\n",
       "    }\n",
       "</style>\n",
       "<table border=\"1\" class=\"dataframe\">\n",
       "  <thead>\n",
       "    <tr style=\"text-align: right;\">\n",
       "      <th></th>\n",
       "      <th>Num</th>\n",
       "    </tr>\n",
       "  </thead>\n",
       "  <tbody>\n",
       "    <tr>\n",
       "      <th>Matt Damon</th>\n",
       "      <td>18</td>\n",
       "    </tr>\n",
       "    <tr>\n",
       "      <th>Adam Sandler</th>\n",
       "      <td>17</td>\n",
       "    </tr>\n",
       "    <tr>\n",
       "      <th>Angelina Jolie</th>\n",
       "      <td>16</td>\n",
       "    </tr>\n",
       "    <tr>\n",
       "      <th>Tom Cruise</th>\n",
       "      <td>15</td>\n",
       "    </tr>\n",
       "    <tr>\n",
       "      <th>Samuel L. Jackson</th>\n",
       "      <td>15</td>\n",
       "    </tr>\n",
       "    <tr>\n",
       "      <th>...</th>\n",
       "      <td>...</td>\n",
       "    </tr>\n",
       "    <tr>\n",
       "      <th>Jon Bernthal</th>\n",
       "      <td>1</td>\n",
       "    </tr>\n",
       "    <tr>\n",
       "      <th>Tyler Perry</th>\n",
       "      <td>1</td>\n",
       "    </tr>\n",
       "    <tr>\n",
       "      <th>Cliff Robertson</th>\n",
       "      <td>1</td>\n",
       "    </tr>\n",
       "    <tr>\n",
       "      <th>Carrie Coon</th>\n",
       "      <td>1</td>\n",
       "    </tr>\n",
       "    <tr>\n",
       "      <th>Piper Perabo</th>\n",
       "      <td>1</td>\n",
       "    </tr>\n",
       "  </tbody>\n",
       "</table>\n",
       "<p>1508 rows × 1 columns</p>\n",
       "</div>"
      ],
      "text/plain": [
       "                   Num\n",
       "Matt Damon          18\n",
       "Adam Sandler        17\n",
       "Angelina Jolie      16\n",
       "Tom Cruise          15\n",
       "Samuel L. Jackson   15\n",
       "...                ...\n",
       "Jon Bernthal         1\n",
       "Tyler Perry          1\n",
       "Cliff Robertson      1\n",
       "Carrie Coon          1\n",
       "Piper Perabo         1\n",
       "\n",
       "[1508 rows x 1 columns]"
      ]
     },
     "metadata": {},
     "output_type": "display_data"
    }
   ],
   "source": [
    "def film_n (x):\n",
    "    y = 1\n",
    "    return y\n",
    "data['film_n'] = data.apply(film_n, axis =1)\n",
    "def actor_2 (df):\n",
    "    num = Counter()\n",
    "    for i in range(len(df)):\n",
    "        for j in df.iloc[i].cast.split('|'):\n",
    "            num[j] += df.iloc[i].film_n\n",
    "    return pd.DataFrame.from_dict(num, orient='index', columns = ['Num'])\n",
    "display(actor_2(data[data['budget']>data['budget'].mean()]).sort_values(by=['Num'], ascending = False))"
   ]
  },
  {
   "cell_type": "code",
   "execution_count": 87,
   "metadata": {},
   "outputs": [],
   "source": [
    "answer_ls.append(3)"
   ]
  },
  {
   "cell_type": "markdown",
   "metadata": {},
   "source": [
    "# 19. В фильмах какого жанра больше всего снимался Nicolas Cage?  \n",
    "Варианты ответа:\n",
    "1. Drama\n",
    "2. Action\n",
    "3. Thriller\n",
    "4. Adventure\n",
    "5. Crime"
   ]
  },
  {
   "cell_type": "code",
   "execution_count": 38,
   "metadata": {},
   "outputs": [
    {
     "data": {
      "text/plain": [
       "[('Action', 17),\n",
       " ('Thriller', 15),\n",
       " ('Drama', 12),\n",
       " ('Crime', 10),\n",
       " ('Fantasy', 8),\n",
       " ('Adventure', 7),\n",
       " ('Comedy', 6),\n",
       " ('Science Fiction', 4),\n",
       " ('Mystery', 3),\n",
       " ('Animation', 3),\n",
       " ('Family', 3),\n",
       " ('History', 2),\n",
       " ('War', 1),\n",
       " ('Horror', 1),\n",
       " ('Romance', 1)]"
      ]
     },
     "metadata": {},
     "output_type": "display_data"
    }
   ],
   "source": [
    "count_genres = Counter()\n",
    "for x in data.loc[data['cast'].map(lambda x: True if 'Nicolas Cage' in x else False)]['genres'].str.split('|'):\n",
    "    count_genres+=Counter(x)\n",
    "display(count_genres.most_common())"
   ]
  },
  {
   "cell_type": "code",
   "execution_count": 88,
   "metadata": {},
   "outputs": [],
   "source": [
    "answer_ls.append(2)"
   ]
  },
  {
   "cell_type": "markdown",
   "metadata": {},
   "source": [
    "# 20. Какая студия сняла больше всего фильмов?\n",
    "Варианты ответа:\n",
    "1. Universal Pictures (Universal)\n",
    "2. Paramount Pictures\n",
    "3. Columbia Pictures\n",
    "4. Warner Bros\n",
    "5. Twentieth Century Fox Film Corporation"
   ]
  },
  {
   "cell_type": "code",
   "execution_count": 39,
   "metadata": {},
   "outputs": [
    {
     "data": {
      "text/html": [
       "<div>\n",
       "<style scoped>\n",
       "    .dataframe tbody tr th:only-of-type {\n",
       "        vertical-align: middle;\n",
       "    }\n",
       "\n",
       "    .dataframe tbody tr th {\n",
       "        vertical-align: top;\n",
       "    }\n",
       "\n",
       "    .dataframe thead th {\n",
       "        text-align: right;\n",
       "    }\n",
       "</style>\n",
       "<table border=\"1\" class=\"dataframe\">\n",
       "  <thead>\n",
       "    <tr style=\"text-align: right;\">\n",
       "      <th></th>\n",
       "      <th>Num</th>\n",
       "    </tr>\n",
       "  </thead>\n",
       "  <tbody>\n",
       "    <tr>\n",
       "      <th>Universal Pictures</th>\n",
       "      <td>173</td>\n",
       "    </tr>\n",
       "    <tr>\n",
       "      <th>Warner Bros.</th>\n",
       "      <td>168</td>\n",
       "    </tr>\n",
       "    <tr>\n",
       "      <th>Paramount Pictures</th>\n",
       "      <td>122</td>\n",
       "    </tr>\n",
       "    <tr>\n",
       "      <th>Columbia Pictures</th>\n",
       "      <td>117</td>\n",
       "    </tr>\n",
       "    <tr>\n",
       "      <th>Twentieth Century Fox Film Corporation</th>\n",
       "      <td>109</td>\n",
       "    </tr>\n",
       "    <tr>\n",
       "      <th>...</th>\n",
       "      <td>...</td>\n",
       "    </tr>\n",
       "    <tr>\n",
       "      <th>Ten Thirteen Productions</th>\n",
       "      <td>1</td>\n",
       "    </tr>\n",
       "    <tr>\n",
       "      <th>Outlander Productions</th>\n",
       "      <td>1</td>\n",
       "    </tr>\n",
       "    <tr>\n",
       "      <th>Rocklin / Faust</th>\n",
       "      <td>1</td>\n",
       "    </tr>\n",
       "    <tr>\n",
       "      <th>Cohen/Pearl Productions</th>\n",
       "      <td>1</td>\n",
       "    </tr>\n",
       "    <tr>\n",
       "      <th>Nora Ephron Productions</th>\n",
       "      <td>1</td>\n",
       "    </tr>\n",
       "  </tbody>\n",
       "</table>\n",
       "<p>1772 rows × 1 columns</p>\n",
       "</div>"
      ],
      "text/plain": [
       "                                        Num\n",
       "Universal Pictures                      173\n",
       "Warner Bros.                            168\n",
       "Paramount Pictures                      122\n",
       "Columbia Pictures                       117\n",
       "Twentieth Century Fox Film Corporation  109\n",
       "...                                     ...\n",
       "Ten Thirteen Productions                  1\n",
       "Outlander Productions                     1\n",
       "Rocklin / Faust                           1\n",
       "Cohen/Pearl Productions                   1\n",
       "Nora Ephron Productions                   1\n",
       "\n",
       "[1772 rows x 1 columns]"
      ]
     },
     "metadata": {},
     "output_type": "display_data"
    }
   ],
   "source": [
    "def company_1 (df):\n",
    "    num = Counter()\n",
    "    for i in range(len(df)):\n",
    "        for j in df.iloc[i].production_companies.split('|'):\n",
    "            num[j] += df.iloc[i].film_n\n",
    "    return pd.DataFrame.from_dict(num, orient='index', columns = ['Num'])\n",
    "display(company_1(data).sort_values(by=['Num'], ascending = False))"
   ]
  },
  {
   "cell_type": "code",
   "execution_count": 89,
   "metadata": {},
   "outputs": [],
   "source": [
    "answer_ls.append(1)"
   ]
  },
  {
   "cell_type": "markdown",
   "metadata": {},
   "source": [
    "# 21. Какая студия сняла больше всего фильмов в 2015 году?\n",
    "Варианты ответа:\n",
    "1. Universal Pictures\n",
    "2. Paramount Pictures\n",
    "3. Columbia Pictures\n",
    "4. Warner Bros\n",
    "5. Twentieth Century Fox Film Corporation"
   ]
  },
  {
   "cell_type": "code",
   "execution_count": 41,
   "metadata": {},
   "outputs": [
    {
     "data": {
      "text/html": [
       "<div>\n",
       "<style scoped>\n",
       "    .dataframe tbody tr th:only-of-type {\n",
       "        vertical-align: middle;\n",
       "    }\n",
       "\n",
       "    .dataframe tbody tr th {\n",
       "        vertical-align: top;\n",
       "    }\n",
       "\n",
       "    .dataframe thead th {\n",
       "        text-align: right;\n",
       "    }\n",
       "</style>\n",
       "<table border=\"1\" class=\"dataframe\">\n",
       "  <thead>\n",
       "    <tr style=\"text-align: right;\">\n",
       "      <th></th>\n",
       "      <th>Num</th>\n",
       "    </tr>\n",
       "  </thead>\n",
       "  <tbody>\n",
       "    <tr>\n",
       "      <th>Warner Bros.</th>\n",
       "      <td>12</td>\n",
       "    </tr>\n",
       "    <tr>\n",
       "      <th>Universal Pictures</th>\n",
       "      <td>10</td>\n",
       "    </tr>\n",
       "    <tr>\n",
       "      <th>Twentieth Century Fox Film Corporation</th>\n",
       "      <td>8</td>\n",
       "    </tr>\n",
       "    <tr>\n",
       "      <th>Paramount Pictures</th>\n",
       "      <td>7</td>\n",
       "    </tr>\n",
       "    <tr>\n",
       "      <th>Columbia Pictures</th>\n",
       "      <td>7</td>\n",
       "    </tr>\n",
       "    <tr>\n",
       "      <th>...</th>\n",
       "      <td>...</td>\n",
       "    </tr>\n",
       "    <tr>\n",
       "      <th>Versus Pictures</th>\n",
       "      <td>1</td>\n",
       "    </tr>\n",
       "    <tr>\n",
       "      <th>DreamWorks Animation</th>\n",
       "      <td>1</td>\n",
       "    </tr>\n",
       "    <tr>\n",
       "      <th>Killer Films</th>\n",
       "      <td>1</td>\n",
       "    </tr>\n",
       "    <tr>\n",
       "      <th>Number 9 Films</th>\n",
       "      <td>1</td>\n",
       "    </tr>\n",
       "    <tr>\n",
       "      <th>Allspark Pictures</th>\n",
       "      <td>1</td>\n",
       "    </tr>\n",
       "  </tbody>\n",
       "</table>\n",
       "<p>246 rows × 1 columns</p>\n",
       "</div>"
      ],
      "text/plain": [
       "                                        Num\n",
       "Warner Bros.                             12\n",
       "Universal Pictures                       10\n",
       "Twentieth Century Fox Film Corporation    8\n",
       "Paramount Pictures                        7\n",
       "Columbia Pictures                         7\n",
       "...                                     ...\n",
       "Versus Pictures                           1\n",
       "DreamWorks Animation                      1\n",
       "Killer Films                              1\n",
       "Number 9 Films                            1\n",
       "Allspark Pictures                         1\n",
       "\n",
       "[246 rows x 1 columns]"
      ]
     },
     "metadata": {},
     "output_type": "display_data"
    }
   ],
   "source": [
    "display(company_1(data[data['release_year'] == 2015]).sort_values(by=['Num'], ascending = False))"
   ]
  },
  {
   "cell_type": "code",
   "execution_count": 90,
   "metadata": {},
   "outputs": [],
   "source": [
    "answer_ls.append(4)"
   ]
  },
  {
   "cell_type": "markdown",
   "metadata": {},
   "source": [
    "# 22. Какая студия заработала больше всего денег в жанре комедий за все время?\n",
    "Варианты ответа:\n",
    "1. Warner Bros\n",
    "2. Universal Pictures (Universal)\n",
    "3. Columbia Pictures\n",
    "4. Paramount Pictures\n",
    "5. Walt Disney"
   ]
  },
  {
   "cell_type": "code",
   "execution_count": 42,
   "metadata": {},
   "outputs": [
    {
     "data": {
      "text/html": [
       "<div>\n",
       "<style scoped>\n",
       "    .dataframe tbody tr th:only-of-type {\n",
       "        vertical-align: middle;\n",
       "    }\n",
       "\n",
       "    .dataframe tbody tr th {\n",
       "        vertical-align: top;\n",
       "    }\n",
       "\n",
       "    .dataframe thead th {\n",
       "        text-align: right;\n",
       "    }\n",
       "</style>\n",
       "<table border=\"1\" class=\"dataframe\">\n",
       "  <thead>\n",
       "    <tr style=\"text-align: right;\">\n",
       "      <th></th>\n",
       "      <th>Summ</th>\n",
       "    </tr>\n",
       "  </thead>\n",
       "  <tbody>\n",
       "    <tr>\n",
       "      <th>Columbia Pictures</th>\n",
       "      <td>1140891136</td>\n",
       "    </tr>\n",
       "    <tr>\n",
       "      <th>Warner Bros.</th>\n",
       "      <td>1108301566</td>\n",
       "    </tr>\n",
       "    <tr>\n",
       "      <th>Universal Pictures</th>\n",
       "      <td>1006415624</td>\n",
       "    </tr>\n",
       "    <tr>\n",
       "      <th>Twentieth Century Fox Film Corporation</th>\n",
       "      <td>973359761</td>\n",
       "    </tr>\n",
       "    <tr>\n",
       "      <th>Green Hat Films</th>\n",
       "      <td>857726677</td>\n",
       "    </tr>\n",
       "    <tr>\n",
       "      <th>...</th>\n",
       "      <td>...</td>\n",
       "    </tr>\n",
       "    <tr>\n",
       "      <th>Gracie Films</th>\n",
       "      <td>-24958633</td>\n",
       "    </tr>\n",
       "    <tr>\n",
       "      <th>Ingenious Media</th>\n",
       "      <td>-33551615</td>\n",
       "    </tr>\n",
       "    <tr>\n",
       "      <th>Sunswept Entertainment</th>\n",
       "      <td>-33551615</td>\n",
       "    </tr>\n",
       "    <tr>\n",
       "      <th>Deuce Three Productions</th>\n",
       "      <td>-33551615</td>\n",
       "    </tr>\n",
       "    <tr>\n",
       "      <th>Patalex Productions</th>\n",
       "      <td>-46604061</td>\n",
       "    </tr>\n",
       "  </tbody>\n",
       "</table>\n",
       "<p>213 rows × 1 columns</p>\n",
       "</div>"
      ],
      "text/plain": [
       "                                              Summ\n",
       "Columbia Pictures                       1140891136\n",
       "Warner Bros.                            1108301566\n",
       "Universal Pictures                      1006415624\n",
       "Twentieth Century Fox Film Corporation   973359761\n",
       "Green Hat Films                          857726677\n",
       "...                                            ...\n",
       "Gracie Films                             -24958633\n",
       "Ingenious Media                          -33551615\n",
       "Sunswept Entertainment                   -33551615\n",
       "Deuce Three Productions                  -33551615\n",
       "Patalex Productions                      -46604061\n",
       "\n",
       "[213 rows x 1 columns]"
      ]
     },
     "metadata": {},
     "output_type": "display_data"
    }
   ],
   "source": [
    "def company_2 (df):\n",
    "    summ = Counter()\n",
    "    for i in range(len(df)):\n",
    "        for j in df.iloc[i].production_companies.split('|'):\n",
    "            summ[j] += df.iloc[i].income      \n",
    "    return pd.DataFrame.from_dict(summ, orient='index', columns = ['Summ'])\n",
    "display(company_2(data[data['genres']=='Comedy']).sort_values(by=['Summ'], ascending = False))"
   ]
  },
  {
   "cell_type": "code",
   "execution_count": 91,
   "metadata": {},
   "outputs": [],
   "source": [
    "answer_ls.append(3)"
   ]
  },
  {
   "cell_type": "markdown",
   "metadata": {},
   "source": [
    "# 23. Какая студия заработала больше всего денег в 2012 году?\n",
    "Варианты ответа:\n",
    "1. Universal Pictures (Universal)\n",
    "2. Warner Bros\n",
    "3. Columbia Pictures\n",
    "4. Paramount Pictures\n",
    "5. Lucasfilm"
   ]
  },
  {
   "cell_type": "code",
   "execution_count": 43,
   "metadata": {},
   "outputs": [
    {
     "data": {
      "text/html": [
       "<div>\n",
       "<style scoped>\n",
       "    .dataframe tbody tr th:only-of-type {\n",
       "        vertical-align: middle;\n",
       "    }\n",
       "\n",
       "    .dataframe tbody tr th {\n",
       "        vertical-align: top;\n",
       "    }\n",
       "\n",
       "    .dataframe thead th {\n",
       "        text-align: right;\n",
       "    }\n",
       "</style>\n",
       "<table border=\"1\" class=\"dataframe\">\n",
       "  <thead>\n",
       "    <tr style=\"text-align: right;\">\n",
       "      <th></th>\n",
       "      <th>Summ</th>\n",
       "    </tr>\n",
       "  </thead>\n",
       "  <tbody>\n",
       "    <tr>\n",
       "      <th>Columbia Pictures</th>\n",
       "      <td>2501406608</td>\n",
       "    </tr>\n",
       "    <tr>\n",
       "      <th>Universal Pictures</th>\n",
       "      <td>1981011579</td>\n",
       "    </tr>\n",
       "    <tr>\n",
       "      <th>Marvel Studios</th>\n",
       "      <td>1299557910</td>\n",
       "    </tr>\n",
       "    <tr>\n",
       "      <th>Warner Bros.</th>\n",
       "      <td>1258020056</td>\n",
       "    </tr>\n",
       "    <tr>\n",
       "      <th>Relativity Media</th>\n",
       "      <td>1032593938</td>\n",
       "    </tr>\n",
       "    <tr>\n",
       "      <th>...</th>\n",
       "      <td>...</td>\n",
       "    </tr>\n",
       "    <tr>\n",
       "      <th>Onyx Films</th>\n",
       "      <td>-51893525</td>\n",
       "    </tr>\n",
       "    <tr>\n",
       "      <th>Jouror Productions</th>\n",
       "      <td>-51893525</td>\n",
       "    </tr>\n",
       "    <tr>\n",
       "      <th>Studio 37</th>\n",
       "      <td>-51893525</td>\n",
       "    </tr>\n",
       "    <tr>\n",
       "      <th>Transfilm</th>\n",
       "      <td>-51893525</td>\n",
       "    </tr>\n",
       "    <tr>\n",
       "      <th>France 2 CinÃ©ma</th>\n",
       "      <td>-82545651</td>\n",
       "    </tr>\n",
       "  </tbody>\n",
       "</table>\n",
       "<p>236 rows × 1 columns</p>\n",
       "</div>"
      ],
      "text/plain": [
       "                          Summ\n",
       "Columbia Pictures   2501406608\n",
       "Universal Pictures  1981011579\n",
       "Marvel Studios      1299557910\n",
       "Warner Bros.        1258020056\n",
       "Relativity Media    1032593938\n",
       "...                        ...\n",
       "Onyx Films           -51893525\n",
       "Jouror Productions   -51893525\n",
       "Studio 37            -51893525\n",
       "Transfilm            -51893525\n",
       "France 2 CinÃ©ma     -82545651\n",
       "\n",
       "[236 rows x 1 columns]"
      ]
     },
     "metadata": {},
     "output_type": "display_data"
    }
   ],
   "source": [
    "display(company_2(data[data['release_year']==2012]).sort_values(by=['Summ'], ascending = False))"
   ]
  },
  {
   "cell_type": "code",
   "execution_count": 92,
   "metadata": {},
   "outputs": [],
   "source": [
    "answer_ls.append(3)"
   ]
  },
  {
   "cell_type": "markdown",
   "metadata": {},
   "source": [
    "# 24. Самый убыточный фильм от Paramount Pictures\n",
    "Варианты ответа:\n",
    "\n",
    "1. K-19: The Widowmaker tt0267626\n",
    "2. Next tt0435705\n",
    "3. Twisted tt0315297\n",
    "4. The Love Guru tt0811138\n",
    "5. The Fighter tt0964517"
   ]
  },
  {
   "cell_type": "code",
   "execution_count": 93,
   "metadata": {},
   "outputs": [
    {
     "name": "stdout",
     "output_type": "stream",
     "text": [
      "[('Transformers: Dark of the Moon', 928746996), ('Transformers: Revenge of the Fallen', 686297228), ('Indiana Jones and the Kingdom of the Crystal Skull', 601636033), ('Transformers', 559709780), ('Mission: Impossible - Ghost Protocol', 549713380), ('Mission: Impossible - Rogue Nation', 532330139), ('War of the Worlds', 459739379), ('Interstellar', 456752480), ('Mission: Impossible II', 421388105), ('Teenage Mutant Ninja Turtles', 352200000), ('World War Z', 331865000), ('What Women Want', 304111707), ('The Wolf of Wall Street', 292000694), ('Terminator Genisys', 285603537), ('Star Trek Into Darkness', 277365246), ('Mission: Impossible III', 247850012), ('The Adventures of Tintin', 241940071), ('Noah', 237637473), ('The SpongeBob Movie: Sponge Out of Water', 237594032), ('Star Trek', 235680446), ('Shutter Island', 214804195), ('True Grit', 214276927), ('Little Fockers', 210650585), ('Super 8', 210095987), ('Paranormal Activity 3', 200703818), (\"Daddy's Home\", 190360392), ('The Curious Case of Benjamin Button', 183932083), ('Hansel & Gretel: Witch Hunters', 174803475), ('The Last Airbender', 168502923), ('Lara Croft: Tomb Raider', 159703340), ('Jack Reacher', 158340595), ('Collateral', 152764291), ('Cloverfield', 145764026), ('Hercules', 143400000), ('Up in the Air', 138670000), ('Paranormal Activity 4', 137817992), ('Jackass Presents: Bad Grandpa', 136831537), ('Vanilla Sky', 135388341), ('G.I. Joe: The Rise of Cobra', 127469017), ('How to Lose a Guy in 10 Days', 127371441), ('Beowulf', 125735876), ('Anchorman 2: The Legend Continues', 123649015), ('No Strings Attached', 122780440), ('The Italian Job', 116070171), ('The Dictator', 114379533), ('Mean Girls', 112042871), ('Rango', 110724603), ('The SpongeBob SquarePants Movie', 110161792), ('The Longest Yard', 108320568), ('The Big Short', 105346506), ('World Trade Center', 99945894), ('Disturbia', 97760134), ('The School of Rock', 96282949), ('Dreamgirls', 84937680), ('The Hours', 83846072), ('The Spiderwick Chronicles', 72839667), (\"Lemony Snicket's A Series of Unfortunate Events\", 69073645), ('Paranormal Activity: The Ghost Dimension', 68099553), ('Stardust', 65560026), ('Jackass Number Two', 61778712), ('Lara Croft Tomb Raider: The Cradle of Life', 61505388), ('Shaft', 61196498), ('Pain & Gain', 61175291), ('Jackass: The Movie', 59282312), ('Watchmen', 55258983), ('Without a Paddle', 50631118), ('Changing Lanes', 49935764), ('Crossroads', 49141030), ('Nacho Libre', 48197993), ('Four Brothers', 47374674), ('Coach Carter', 46669806), ('Along Came a Spider', 45178561), ('We Were Soldiers', 39660784), ('Failure to Launch', 38715192), ('Rat Race', 37498534), ('Paycheck', 36269812), ('Transformers: Age of Extinction', 35500000), ('Shooter', 34696996), ('Zoolander', 32780981), ('Yours, Mine & Ours', 27028752), ('Enemy at the Gates', 26976270), ('Barnyard', 21779000), ('Katy Perry: Part of Me', 20726956), ('Project Almanac', 20248241), ('Zodiac', 19785914), ('Team America: World Police', 18907422), ('Dinner for Schmucks', 17387857), ('The Manchurian Candidate', 16105964), ('Hugo', 15770160), ('Extremely Loud & Incredibly Close', 15247881), ('The Core', 14208267), ('The Gambler', 14171130), ('Clockstoppers', 12793283), ('The Stepford Wives', 12000000), ('Rules of Engagement', 11000000), ('Young Adult', 10939027), ('Hardball', 8222729), ('Star Trek: Nemesis', 7312826), (\"Get Rich or Die Tryin'\", 6442528), ('Bad News Bears', 4252847), ('The Score', 3069884), ('Fun Size', -2582638), ('Elizabethtown', -4965111), ('The Four Feathers', -5117355), ('Last Holiday', -6600039), ('The Weather Man', -7517225), ('Jack Ryan: Shadow Recruit', -9450893), ('Ã†on Flux', -9695999), ('Sahara', -10730514), ('Sky Captain and the World of Tomorrow', -12041304), ('Serving Sara', -12069815), ('Suspect Zero', -14000000), ('Abandon', -14280643), ('The Fighter', -15809131), ('A Thousand Words', -17955723), ('The Love Guru', -20180936), ('Domestic Disturbance', -20750706), ('Twisted', -24805000), ('Alfie', -46604061), ('Next', -51788987), ('Timeline', -60519261), ('K-19: The Widowmaker', -64831034)]\n"
     ]
    }
   ],
   "source": [
    "c = Counter()\n",
    "for i in range(0, len(data)):\n",
    "    if 'Paramount Pictures' in data['production_companies'].iloc[i]:\n",
    "        c[data['original_title'].iloc[i]]+=data.iloc[i]['income']\n",
    "print(c.most_common()) "
   ]
  },
  {
   "cell_type": "code",
   "execution_count": 94,
   "metadata": {},
   "outputs": [],
   "source": [
    "answer_ls.append(1)"
   ]
  },
  {
   "cell_type": "markdown",
   "metadata": {},
   "source": [
    "# 25. Какой Самый прибыльный год (заработали больше всего)?\n",
    "Варианты ответа:\n",
    "1. 2014\n",
    "2. 2008\n",
    "3. 2012\n",
    "4. 2002\n",
    "5. 2015"
   ]
  },
  {
   "cell_type": "code",
   "execution_count": 44,
   "metadata": {},
   "outputs": [
    {
     "data": {
      "text/plain": [
       "release_year\n",
       "2000    10664099805\n",
       "2001    13017764865\n",
       "2002    14136361487\n",
       "2003    14346123312\n",
       "2004    15663430720\n",
       "2005    15309425558\n",
       "2006    14775042320\n",
       "2007    18162406801\n",
       "2008    18252781990\n",
       "2009    20261791024\n",
       "2010    21082292530\n",
       "2011    22676791872\n",
       "2012    23079001687\n",
       "2013    23213799791\n",
       "2014    23405862953\n",
       "2015    25449202382\n",
       "Name: revenue, dtype: int64"
      ]
     },
     "execution_count": 44,
     "metadata": {},
     "output_type": "execute_result"
    }
   ],
   "source": [
    "data.groupby(by = [\"release_year\"])['revenue'].sum()"
   ]
  },
  {
   "cell_type": "code",
   "execution_count": 51,
   "metadata": {},
   "outputs": [
    {
     "data": {
      "text/plain": [
       "release_date\n",
       "2015    18668572378\n",
       "2014    16397812953\n",
       "2012    16077001687\n",
       "2013    15243179791\n",
       "2011    14730241341\n",
       "2009    13423744372\n",
       "2010    13117292530\n",
       "2008    11663881990\n",
       "2007    11565911801\n",
       "2004     9634180720\n",
       "2003     9228823312\n",
       "2002     9002361487\n",
       "2005     8981925558\n",
       "2006     8691077320\n",
       "2001     7950614865\n",
       "2000     6101399805\n",
       "Name: income, dtype: int64"
      ]
     },
     "execution_count": 51,
     "metadata": {},
     "output_type": "execute_result"
    }
   ],
   "source": [
    "data.groupby([data['release_date'].dt.year]).agg('sum')['income'].sort_values(ascending=False)"
   ]
  },
  {
   "cell_type": "code",
   "execution_count": 95,
   "metadata": {},
   "outputs": [],
   "source": [
    "answer_ls.append(5)"
   ]
  },
  {
   "cell_type": "markdown",
   "metadata": {},
   "source": [
    "# 26. Какой Самый прибыльный год для студии Warner Bros?\n",
    "Варианты ответа:\n",
    "1. 2014\n",
    "2. 2008\n",
    "3. 2012\n",
    "4. 2010\n",
    "5. 2015"
   ]
  },
  {
   "cell_type": "code",
   "execution_count": 67,
   "metadata": {},
   "outputs": [
    {
     "data": {
      "text/plain": [
       "[(2014, 2336068186), (2007, 2284053561), (2008, 2160649265)]"
      ]
     },
     "execution_count": 67,
     "metadata": {},
     "output_type": "execute_result"
    }
   ],
   "source": [
    "d = Counter()\n",
    "for i in range(0, len(data)): \n",
    "    if 'Warner Bros. Pictures' in data['production_companies'].iloc[i] or 'Warner Bros.' in data['production_companies'].iloc[i] or 'Warner Bros. Animation' in data['production_companies'].iloc[i] :\n",
    "           if  data.iloc[i]['income'] > 0:\n",
    "                d[data['year'].iloc[i]]+=data.iloc[i]['income']\n",
    "d.most_common(3)"
   ]
  },
  {
   "cell_type": "code",
   "execution_count": 96,
   "metadata": {},
   "outputs": [],
   "source": [
    "answer_ls.append(1)"
   ]
  },
  {
   "cell_type": "markdown",
   "metadata": {},
   "source": [
    "# 27. В каком месяце за все годы суммарно вышло больше всего фильмов?\n",
    "Варианты ответа:\n",
    "1. Январь\n",
    "2. Июнь\n",
    "3. Декабрь\n",
    "4. Сентябрь\n",
    "5. Май"
   ]
  },
  {
   "cell_type": "code",
   "execution_count": 48,
   "metadata": {},
   "outputs": [
    {
     "data": {
      "text/plain": [
       "release_date\n",
       "1     110\n",
       "2     135\n",
       "3     156\n",
       "4     149\n",
       "5     140\n",
       "6     147\n",
       "7     142\n",
       "8     161\n",
       "9     227\n",
       "10    186\n",
       "11    146\n",
       "12    191\n",
       "Name: income, dtype: int64"
      ]
     },
     "execution_count": 48,
     "metadata": {},
     "output_type": "execute_result"
    }
   ],
   "source": [
    "data['release_date'] = pd.to_datetime(data['release_date'])\n",
    "data.groupby(by = [data['release_date'].dt.month])['income'].count()"
   ]
  },
  {
   "cell_type": "code",
   "execution_count": 97,
   "metadata": {},
   "outputs": [],
   "source": [
    "answer_ls.append(4)"
   ]
  },
  {
   "cell_type": "markdown",
   "metadata": {},
   "source": [
    "# 28. Сколько суммарно вышло фильмов летом? (за июнь, июль, август)\n",
    "Варианты ответа:\n",
    "1. 345\n",
    "2. 450\n",
    "3. 478\n",
    "4. 523\n",
    "5. 381"
   ]
  },
  {
   "cell_type": "code",
   "execution_count": 54,
   "metadata": {},
   "outputs": [
    {
     "data": {
      "text/plain": [
       "450"
      ]
     },
     "execution_count": 54,
     "metadata": {},
     "output_type": "execute_result"
    }
   ],
   "source": [
    "data['release_month'] = pd.to_datetime(data.release_date).apply(lambda x: x.month)\n",
    "len(data[data.release_month.isin([6, 7, 8])])"
   ]
  },
  {
   "cell_type": "code",
   "execution_count": 98,
   "metadata": {},
   "outputs": [],
   "source": [
    "answer_ls.append(2)"
   ]
  },
  {
   "cell_type": "markdown",
   "metadata": {},
   "source": [
    "# 29. Какой режисер выпускает (суммарно по годам) больше всего фильмов зимой?\n",
    "Варианты ответов:\n",
    "1. Steven Soderbergh\n",
    "2. Christopher Nolan\n",
    "3. Clint Eastwood\n",
    "4. Ridley Scott\n",
    "5. Peter Jackson"
   ]
  },
  {
   "cell_type": "code",
   "execution_count": 55,
   "metadata": {},
   "outputs": [
    {
     "data": {
      "text/html": [
       "<div>\n",
       "<style scoped>\n",
       "    .dataframe tbody tr th:only-of-type {\n",
       "        vertical-align: middle;\n",
       "    }\n",
       "\n",
       "    .dataframe tbody tr th {\n",
       "        vertical-align: top;\n",
       "    }\n",
       "\n",
       "    .dataframe thead th {\n",
       "        text-align: right;\n",
       "    }\n",
       "</style>\n",
       "<table border=\"1\" class=\"dataframe\">\n",
       "  <thead>\n",
       "    <tr style=\"text-align: right;\">\n",
       "      <th></th>\n",
       "      <th>film_n</th>\n",
       "    </tr>\n",
       "  </thead>\n",
       "  <tbody>\n",
       "    <tr>\n",
       "      <th>Peter Jackson</th>\n",
       "      <td>7</td>\n",
       "    </tr>\n",
       "    <tr>\n",
       "      <th>Clint Eastwood</th>\n",
       "      <td>6</td>\n",
       "    </tr>\n",
       "    <tr>\n",
       "      <th>Steven Soderbergh</th>\n",
       "      <td>6</td>\n",
       "    </tr>\n",
       "    <tr>\n",
       "      <th>Martin Scorsese</th>\n",
       "      <td>4</td>\n",
       "    </tr>\n",
       "    <tr>\n",
       "      <th>Shawn Levy</th>\n",
       "      <td>4</td>\n",
       "    </tr>\n",
       "    <tr>\n",
       "      <th>...</th>\n",
       "      <td>...</td>\n",
       "    </tr>\n",
       "    <tr>\n",
       "      <th>Iain Softley</th>\n",
       "      <td>1</td>\n",
       "    </tr>\n",
       "    <tr>\n",
       "      <th>Anne Fletcher</th>\n",
       "      <td>1</td>\n",
       "    </tr>\n",
       "    <tr>\n",
       "      <th>David Frankel</th>\n",
       "      <td>1</td>\n",
       "    </tr>\n",
       "    <tr>\n",
       "      <th>Peyton Reed</th>\n",
       "      <td>1</td>\n",
       "    </tr>\n",
       "    <tr>\n",
       "      <th>Diane Keaton</th>\n",
       "      <td>1</td>\n",
       "    </tr>\n",
       "  </tbody>\n",
       "</table>\n",
       "<p>359 rows × 1 columns</p>\n",
       "</div>"
      ],
      "text/plain": [
       "                   film_n\n",
       "Peter Jackson           7\n",
       "Clint Eastwood          6\n",
       "Steven Soderbergh       6\n",
       "Martin Scorsese         4\n",
       "Shawn Levy              4\n",
       "...                   ...\n",
       "Iain Softley            1\n",
       "Anne Fletcher           1\n",
       "David Frankel           1\n",
       "Peyton Reed             1\n",
       "Diane Keaton            1\n",
       "\n",
       "[359 rows x 1 columns]"
      ]
     },
     "metadata": {},
     "output_type": "display_data"
    }
   ],
   "source": [
    "def director (df):\n",
    "    director = Counter() \n",
    "    for i in range(len(df)):\n",
    "        for j in df.iloc[i].director.split('|'):\n",
    "              #if data5['release_month'] = 12:\n",
    "                director[j] += df.iloc[i].film_n\n",
    "        \n",
    "    return pd.DataFrame.from_dict(director, orient='index', columns = ['film_n'])\n",
    "display(director(data[(data['release_month']== 12)|(data['release_month']== 1) | (data['release_month']== 2)]).sort_values(by=['film_n'], ascending = False))\n"
   ]
  },
  {
   "cell_type": "code",
   "execution_count": 99,
   "metadata": {},
   "outputs": [],
   "source": [
    "answer_ls.append(5)"
   ]
  },
  {
   "cell_type": "markdown",
   "metadata": {},
   "source": [
    "# 30. Какой месяц чаще всего по годам самый прибыльный?\n",
    "Варианты ответа:\n",
    "1. Январь\n",
    "2. Июнь\n",
    "3. Декабрь\n",
    "4. Сентябрь\n",
    "5. Май"
   ]
  },
  {
   "cell_type": "code",
   "execution_count": 56,
   "metadata": {},
   "outputs": [
    {
     "data": {
      "text/html": [
       "<div>\n",
       "<style scoped>\n",
       "    .dataframe tbody tr th:only-of-type {\n",
       "        vertical-align: middle;\n",
       "    }\n",
       "\n",
       "    .dataframe tbody tr th {\n",
       "        vertical-align: top;\n",
       "    }\n",
       "\n",
       "    .dataframe thead tr th {\n",
       "        text-align: left;\n",
       "    }\n",
       "\n",
       "    .dataframe thead tr:last-of-type th {\n",
       "        text-align: right;\n",
       "    }\n",
       "</style>\n",
       "<table border=\"1\" class=\"dataframe\">\n",
       "  <thead>\n",
       "    <tr>\n",
       "      <th></th>\n",
       "      <th colspan=\"13\" halign=\"left\">sum</th>\n",
       "    </tr>\n",
       "    <tr>\n",
       "      <th>release_month</th>\n",
       "      <th>1</th>\n",
       "      <th>2</th>\n",
       "      <th>3</th>\n",
       "      <th>4</th>\n",
       "      <th>5</th>\n",
       "      <th>6</th>\n",
       "      <th>7</th>\n",
       "      <th>8</th>\n",
       "      <th>9</th>\n",
       "      <th>10</th>\n",
       "      <th>11</th>\n",
       "      <th>12</th>\n",
       "      <th>All</th>\n",
       "    </tr>\n",
       "    <tr>\n",
       "      <th>year</th>\n",
       "      <th></th>\n",
       "      <th></th>\n",
       "      <th></th>\n",
       "      <th></th>\n",
       "      <th></th>\n",
       "      <th></th>\n",
       "      <th></th>\n",
       "      <th></th>\n",
       "      <th></th>\n",
       "      <th></th>\n",
       "      <th></th>\n",
       "      <th></th>\n",
       "      <th></th>\n",
       "    </tr>\n",
       "  </thead>\n",
       "  <tbody>\n",
       "    <tr>\n",
       "      <th>2000</th>\n",
       "      <td>-26344591</td>\n",
       "      <td>310137593</td>\n",
       "      <td>490709929</td>\n",
       "      <td>124362846</td>\n",
       "      <td>1382722190</td>\n",
       "      <td>517315528</td>\n",
       "      <td>563809888</td>\n",
       "      <td>264018332</td>\n",
       "      <td>175306761</td>\n",
       "      <td>399938512</td>\n",
       "      <td>487934818</td>\n",
       "      <td>1411487999</td>\n",
       "      <td>6101399805</td>\n",
       "    </tr>\n",
       "    <tr>\n",
       "      <th>2001</th>\n",
       "      <td>127876758</td>\n",
       "      <td>178360689</td>\n",
       "      <td>396218262</td>\n",
       "      <td>659725033</td>\n",
       "      <td>767934975</td>\n",
       "      <td>780612105</td>\n",
       "      <td>873718941</td>\n",
       "      <td>726979609</td>\n",
       "      <td>21874909</td>\n",
       "      <td>146204533</td>\n",
       "      <td>1567240927</td>\n",
       "      <td>1703868124</td>\n",
       "      <td>7950614865</td>\n",
       "    </tr>\n",
       "    <tr>\n",
       "      <th>2002</th>\n",
       "      <td>13657034</td>\n",
       "      <td>557847442</td>\n",
       "      <td>832386092</td>\n",
       "      <td>343737203</td>\n",
       "      <td>1421928692</td>\n",
       "      <td>747704475</td>\n",
       "      <td>629306797</td>\n",
       "      <td>579318434</td>\n",
       "      <td>417267245</td>\n",
       "      <td>420527680</td>\n",
       "      <td>1190606216</td>\n",
       "      <td>1848074177</td>\n",
       "      <td>9002361487</td>\n",
       "    </tr>\n",
       "    <tr>\n",
       "      <th>2003</th>\n",
       "      <td>145423503</td>\n",
       "      <td>422979087</td>\n",
       "      <td>160261385</td>\n",
       "      <td>479653942</td>\n",
       "      <td>2000292657</td>\n",
       "      <td>406445507</td>\n",
       "      <td>1356384641</td>\n",
       "      <td>444992536</td>\n",
       "      <td>503313816</td>\n",
       "      <td>837090991</td>\n",
       "      <td>609390731</td>\n",
       "      <td>1862594516</td>\n",
       "      <td>9228823312</td>\n",
       "    </tr>\n",
       "    <tr>\n",
       "      <th>2004</th>\n",
       "      <td>223449403</td>\n",
       "      <td>727540831</td>\n",
       "      <td>307233119</td>\n",
       "      <td>275005057</td>\n",
       "      <td>2412578839</td>\n",
       "      <td>1294266591</td>\n",
       "      <td>834850950</td>\n",
       "      <td>332763539</td>\n",
       "      <td>475369751</td>\n",
       "      <td>593314410</td>\n",
       "      <td>1050846495</td>\n",
       "      <td>1106961735</td>\n",
       "      <td>9634180720</td>\n",
       "    </tr>\n",
       "    <tr>\n",
       "      <th>2005</th>\n",
       "      <td>419099490</td>\n",
       "      <td>506931359</td>\n",
       "      <td>440128754</td>\n",
       "      <td>178673498</td>\n",
       "      <td>1575566228</td>\n",
       "      <td>1193230558</td>\n",
       "      <td>870215460</td>\n",
       "      <td>266644459</td>\n",
       "      <td>995622427</td>\n",
       "      <td>154493344</td>\n",
       "      <td>1027204825</td>\n",
       "      <td>1354115156</td>\n",
       "      <td>8981925558</td>\n",
       "    </tr>\n",
       "    <tr>\n",
       "      <th>2006</th>\n",
       "      <td>138996816</td>\n",
       "      <td>317624889</td>\n",
       "      <td>799504296</td>\n",
       "      <td>361121653</td>\n",
       "      <td>985092012</td>\n",
       "      <td>2098059770</td>\n",
       "      <td>242337901</td>\n",
       "      <td>429249082</td>\n",
       "      <td>451456811</td>\n",
       "      <td>826087838</td>\n",
       "      <td>1106305898</td>\n",
       "      <td>935240354</td>\n",
       "      <td>8691077320</td>\n",
       "    </tr>\n",
       "    <tr>\n",
       "      <th>2007</th>\n",
       "      <td>91188025</td>\n",
       "      <td>500661304</td>\n",
       "      <td>714586308</td>\n",
       "      <td>143245753</td>\n",
       "      <td>2042169546</td>\n",
       "      <td>2764341802</td>\n",
       "      <td>747619985</td>\n",
       "      <td>881421482</td>\n",
       "      <td>435838557</td>\n",
       "      <td>516228592</td>\n",
       "      <td>896805244</td>\n",
       "      <td>1831805203</td>\n",
       "      <td>11565911801</td>\n",
       "    </tr>\n",
       "    <tr>\n",
       "      <th>2008</th>\n",
       "      <td>440344541</td>\n",
       "      <td>987454669</td>\n",
       "      <td>251671904</td>\n",
       "      <td>720571689</td>\n",
       "      <td>1744305931</td>\n",
       "      <td>1943384763</td>\n",
       "      <td>1791301749</td>\n",
       "      <td>325382603</td>\n",
       "      <td>339476350</td>\n",
       "      <td>1145762453</td>\n",
       "      <td>847289768</td>\n",
       "      <td>1126935570</td>\n",
       "      <td>11663881990</td>\n",
       "    </tr>\n",
       "    <tr>\n",
       "      <th>2009</th>\n",
       "      <td>996529660</td>\n",
       "      <td>326413800</td>\n",
       "      <td>1276096794</td>\n",
       "      <td>651749767</td>\n",
       "      <td>1435747314</td>\n",
       "      <td>1520284741</td>\n",
       "      <td>1202339588</td>\n",
       "      <td>803565587</td>\n",
       "      <td>393041320</td>\n",
       "      <td>836577088</td>\n",
       "      <td>558158975</td>\n",
       "      <td>3423239738</td>\n",
       "      <td>13423744372</td>\n",
       "    </tr>\n",
       "    <tr>\n",
       "      <th>2010</th>\n",
       "      <td>233051923</td>\n",
       "      <td>671341193</td>\n",
       "      <td>1471122239</td>\n",
       "      <td>841530415</td>\n",
       "      <td>1105092975</td>\n",
       "      <td>2449561498</td>\n",
       "      <td>1567485183</td>\n",
       "      <td>971023396</td>\n",
       "      <td>1091274243</td>\n",
       "      <td>1080204976</td>\n",
       "      <td>736020890</td>\n",
       "      <td>899583599</td>\n",
       "      <td>13117292530</td>\n",
       "    </tr>\n",
       "    <tr>\n",
       "      <th>2011</th>\n",
       "      <td>591644835</td>\n",
       "      <td>642751509</td>\n",
       "      <td>1443419914</td>\n",
       "      <td>1507477958</td>\n",
       "      <td>1917491757</td>\n",
       "      <td>1524706926</td>\n",
       "      <td>2331661017</td>\n",
       "      <td>667283164</td>\n",
       "      <td>733166385</td>\n",
       "      <td>968743489</td>\n",
       "      <td>859313689</td>\n",
       "      <td>1542580698</td>\n",
       "      <td>14730241341</td>\n",
       "    </tr>\n",
       "    <tr>\n",
       "      <th>2012</th>\n",
       "      <td>381045653</td>\n",
       "      <td>573073426</td>\n",
       "      <td>1459834347</td>\n",
       "      <td>1767272417</td>\n",
       "      <td>1140614925</td>\n",
       "      <td>2965481705</td>\n",
       "      <td>940512033</td>\n",
       "      <td>702588445</td>\n",
       "      <td>1308166465</td>\n",
       "      <td>1320250459</td>\n",
       "      <td>2412991475</td>\n",
       "      <td>1105170337</td>\n",
       "      <td>16077001687</td>\n",
       "    </tr>\n",
       "    <tr>\n",
       "      <th>2013</th>\n",
       "      <td>449051535</td>\n",
       "      <td>509981099</td>\n",
       "      <td>970223425</td>\n",
       "      <td>1423545114</td>\n",
       "      <td>1724496337</td>\n",
       "      <td>2411922008</td>\n",
       "      <td>1192996016</td>\n",
       "      <td>590070005</td>\n",
       "      <td>1165693297</td>\n",
       "      <td>1042812263</td>\n",
       "      <td>2047380217</td>\n",
       "      <td>1715008475</td>\n",
       "      <td>15243179791</td>\n",
       "    </tr>\n",
       "    <tr>\n",
       "      <th>2014</th>\n",
       "      <td>541637085</td>\n",
       "      <td>736685970</td>\n",
       "      <td>1768873778</td>\n",
       "      <td>795767674</td>\n",
       "      <td>2279978281</td>\n",
       "      <td>1176264662</td>\n",
       "      <td>1611081683</td>\n",
       "      <td>1163610627</td>\n",
       "      <td>596366679</td>\n",
       "      <td>1764509467</td>\n",
       "      <td>2043956761</td>\n",
       "      <td>1919080286</td>\n",
       "      <td>16397812953</td>\n",
       "    </tr>\n",
       "    <tr>\n",
       "      <th>2015</th>\n",
       "      <td>630233784</td>\n",
       "      <td>884789565</td>\n",
       "      <td>937945994</td>\n",
       "      <td>2602565518</td>\n",
       "      <td>1103503482</td>\n",
       "      <td>3757679861</td>\n",
       "      <td>1552273188</td>\n",
       "      <td>491699146</td>\n",
       "      <td>1775686025</td>\n",
       "      <td>942161764</td>\n",
       "      <td>1212708544</td>\n",
       "      <td>2777325507</td>\n",
       "      <td>18668572378</td>\n",
       "    </tr>\n",
       "    <tr>\n",
       "      <th>All</th>\n",
       "      <td>5396885454</td>\n",
       "      <td>8854574425</td>\n",
       "      <td>13720216540</td>\n",
       "      <td>12876005537</td>\n",
       "      <td>25039516141</td>\n",
       "      <td>27551262500</td>\n",
       "      <td>18307895020</td>\n",
       "      <td>9640610446</td>\n",
       "      <td>10878921041</td>\n",
       "      <td>12994907859</td>\n",
       "      <td>18654155473</td>\n",
       "      <td>26563071474</td>\n",
       "      <td>190478021910</td>\n",
       "    </tr>\n",
       "  </tbody>\n",
       "</table>\n",
       "</div>"
      ],
      "text/plain": [
       "                      sum                                                     \\\n",
       "release_month           1           2            3            4            5   \n",
       "year                                                                           \n",
       "2000            -26344591   310137593    490709929    124362846   1382722190   \n",
       "2001            127876758   178360689    396218262    659725033    767934975   \n",
       "2002             13657034   557847442    832386092    343737203   1421928692   \n",
       "2003            145423503   422979087    160261385    479653942   2000292657   \n",
       "2004            223449403   727540831    307233119    275005057   2412578839   \n",
       "2005            419099490   506931359    440128754    178673498   1575566228   \n",
       "2006            138996816   317624889    799504296    361121653    985092012   \n",
       "2007             91188025   500661304    714586308    143245753   2042169546   \n",
       "2008            440344541   987454669    251671904    720571689   1744305931   \n",
       "2009            996529660   326413800   1276096794    651749767   1435747314   \n",
       "2010            233051923   671341193   1471122239    841530415   1105092975   \n",
       "2011            591644835   642751509   1443419914   1507477958   1917491757   \n",
       "2012            381045653   573073426   1459834347   1767272417   1140614925   \n",
       "2013            449051535   509981099    970223425   1423545114   1724496337   \n",
       "2014            541637085   736685970   1768873778    795767674   2279978281   \n",
       "2015            630233784   884789565    937945994   2602565518   1103503482   \n",
       "All            5396885454  8854574425  13720216540  12876005537  25039516141   \n",
       "\n",
       "                                                                               \\\n",
       "release_month            6            7           8            9           10   \n",
       "year                                                                            \n",
       "2000             517315528    563809888   264018332    175306761    399938512   \n",
       "2001             780612105    873718941   726979609     21874909    146204533   \n",
       "2002             747704475    629306797   579318434    417267245    420527680   \n",
       "2003             406445507   1356384641   444992536    503313816    837090991   \n",
       "2004            1294266591    834850950   332763539    475369751    593314410   \n",
       "2005            1193230558    870215460   266644459    995622427    154493344   \n",
       "2006            2098059770    242337901   429249082    451456811    826087838   \n",
       "2007            2764341802    747619985   881421482    435838557    516228592   \n",
       "2008            1943384763   1791301749   325382603    339476350   1145762453   \n",
       "2009            1520284741   1202339588   803565587    393041320    836577088   \n",
       "2010            2449561498   1567485183   971023396   1091274243   1080204976   \n",
       "2011            1524706926   2331661017   667283164    733166385    968743489   \n",
       "2012            2965481705    940512033   702588445   1308166465   1320250459   \n",
       "2013            2411922008   1192996016   590070005   1165693297   1042812263   \n",
       "2014            1176264662   1611081683  1163610627    596366679   1764509467   \n",
       "2015            3757679861   1552273188   491699146   1775686025    942161764   \n",
       "All            27551262500  18307895020  9640610446  10878921041  12994907859   \n",
       "\n",
       "                                                       \n",
       "release_month           11           12           All  \n",
       "year                                                   \n",
       "2000             487934818   1411487999    6101399805  \n",
       "2001            1567240927   1703868124    7950614865  \n",
       "2002            1190606216   1848074177    9002361487  \n",
       "2003             609390731   1862594516    9228823312  \n",
       "2004            1050846495   1106961735    9634180720  \n",
       "2005            1027204825   1354115156    8981925558  \n",
       "2006            1106305898    935240354    8691077320  \n",
       "2007             896805244   1831805203   11565911801  \n",
       "2008             847289768   1126935570   11663881990  \n",
       "2009             558158975   3423239738   13423744372  \n",
       "2010             736020890    899583599   13117292530  \n",
       "2011             859313689   1542580698   14730241341  \n",
       "2012            2412991475   1105170337   16077001687  \n",
       "2013            2047380217   1715008475   15243179791  \n",
       "2014            2043956761   1919080286   16397812953  \n",
       "2015            1212708544   2777325507   18668572378  \n",
       "All            18654155473  26563071474  190478021910  "
      ]
     },
     "execution_count": 56,
     "metadata": {},
     "output_type": "execute_result"
    }
   ],
   "source": [
    "data['year'] = pd.to_datetime(data.release_date).apply(lambda x: x.year)\n",
    "test = data.pivot_table(values = 'income', index = 'year', columns = 'release_month', aggfunc = [\"sum\"], margins = True)\n",
    "test"
   ]
  },
  {
   "cell_type": "code",
   "execution_count": 100,
   "metadata": {},
   "outputs": [],
   "source": [
    "answer_ls.append(3)"
   ]
  },
  {
   "cell_type": "markdown",
   "metadata": {},
   "source": [
    "# 31. Названия фильмов какой студии в среднем самые длинные по количеству символов?\n",
    "Варианты ответа:\n",
    "1. Universal Pictures (Universal)\n",
    "2. Warner Bros\n",
    "3. Jim Henson Company, The\n",
    "4. Paramount Pictures\n",
    "5. Four By Two Productions"
   ]
  },
  {
   "cell_type": "code",
   "execution_count": 59,
   "metadata": {},
   "outputs": [
    {
     "data": {
      "text/html": [
       "<div>\n",
       "<style scoped>\n",
       "    .dataframe tbody tr th:only-of-type {\n",
       "        vertical-align: middle;\n",
       "    }\n",
       "\n",
       "    .dataframe tbody tr th {\n",
       "        vertical-align: top;\n",
       "    }\n",
       "\n",
       "    .dataframe thead th {\n",
       "        text-align: right;\n",
       "    }\n",
       "</style>\n",
       "<table border=\"1\" class=\"dataframe\">\n",
       "  <thead>\n",
       "    <tr style=\"text-align: right;\">\n",
       "      <th></th>\n",
       "      <th>0</th>\n",
       "    </tr>\n",
       "  </thead>\n",
       "  <tbody>\n",
       "    <tr>\n",
       "      <th>Four By Two Productions</th>\n",
       "      <td>83</td>\n",
       "    </tr>\n",
       "    <tr>\n",
       "      <th>Jim Henson Company, The</th>\n",
       "      <td>59</td>\n",
       "    </tr>\n",
       "    <tr>\n",
       "      <th>Dos Corazones</th>\n",
       "      <td>47</td>\n",
       "    </tr>\n",
       "    <tr>\n",
       "      <th>Museum Canada Productions</th>\n",
       "      <td>46</td>\n",
       "    </tr>\n",
       "    <tr>\n",
       "      <th>Polsky Films</th>\n",
       "      <td>46</td>\n",
       "    </tr>\n",
       "    <tr>\n",
       "      <th>...</th>\n",
       "      <td>...</td>\n",
       "    </tr>\n",
       "    <tr>\n",
       "      <th>Berlanti Productions</th>\n",
       "      <td>3</td>\n",
       "    </tr>\n",
       "    <tr>\n",
       "      <th>Everest Entertainment</th>\n",
       "      <td>3</td>\n",
       "    </tr>\n",
       "    <tr>\n",
       "      <th>Global Entertainment Group</th>\n",
       "      <td>2</td>\n",
       "    </tr>\n",
       "    <tr>\n",
       "      <th>Ixtlan Productions</th>\n",
       "      <td>2</td>\n",
       "    </tr>\n",
       "    <tr>\n",
       "      <th>XM2 Productions</th>\n",
       "      <td>2</td>\n",
       "    </tr>\n",
       "  </tbody>\n",
       "</table>\n",
       "<p>1772 rows × 1 columns</p>\n",
       "</div>"
      ],
      "text/plain": [
       "                             0\n",
       "Four By Two Productions     83\n",
       "Jim Henson Company, The     59\n",
       "Dos Corazones               47\n",
       "Museum Canada Productions   46\n",
       "Polsky Films                46\n",
       "...                         ..\n",
       "Berlanti Productions         3\n",
       "Everest Entertainment        3\n",
       "Global Entertainment Group   2\n",
       "Ixtlan Productions           2\n",
       "XM2 Productions              2\n",
       "\n",
       "[1772 rows x 1 columns]"
      ]
     },
     "execution_count": 59,
     "metadata": {},
     "output_type": "execute_result"
    }
   ],
   "source": [
    "data['nlen'] = data.original_title.apply(len)\n",
    "\n",
    "def counter(movie_bd, x):\n",
    "    data_plot=movie_bd[x].str.cat(sep='|')\n",
    "    dat=pd.Series(data_plot.split('|'))\n",
    "    info=dat.value_counts(ascending=False)\n",
    "    return info\n",
    "sum_gen = counter(data,'production_companies')\n",
    "for gen in sum_gen.index:\n",
    "    sum_gen[gen] = data['nlen'][data['production_companies'].map(lambda x: True if gen in x else False)].mean()\n",
    "sum_gen = pd.DataFrame(sum_gen).sort_values(0, ascending=False)\n",
    "sum_gen"
   ]
  },
  {
   "cell_type": "code",
   "execution_count": 101,
   "metadata": {},
   "outputs": [],
   "source": [
    "answer_ls.append(5)"
   ]
  },
  {
   "cell_type": "markdown",
   "metadata": {},
   "source": [
    "# 32. Названия фильмов какой студии в среднем самые длинные по количеству слов?\n",
    "Варианты ответа:\n",
    "1. Universal Pictures (Universal)\n",
    "2. Warner Bros\n",
    "3. Jim Henson Company, The\n",
    "4. Paramount Pictures\n",
    "5. Four By Two Productions"
   ]
  },
  {
   "cell_type": "code",
   "execution_count": 61,
   "metadata": {},
   "outputs": [
    {
     "data": {
      "text/html": [
       "<div>\n",
       "<style scoped>\n",
       "    .dataframe tbody tr th:only-of-type {\n",
       "        vertical-align: middle;\n",
       "    }\n",
       "\n",
       "    .dataframe tbody tr th {\n",
       "        vertical-align: top;\n",
       "    }\n",
       "\n",
       "    .dataframe thead th {\n",
       "        text-align: right;\n",
       "    }\n",
       "</style>\n",
       "<table border=\"1\" class=\"dataframe\">\n",
       "  <thead>\n",
       "    <tr style=\"text-align: right;\">\n",
       "      <th></th>\n",
       "      <th>0</th>\n",
       "    </tr>\n",
       "  </thead>\n",
       "  <tbody>\n",
       "    <tr>\n",
       "      <th>Four By Two Productions</th>\n",
       "      <td>12</td>\n",
       "    </tr>\n",
       "    <tr>\n",
       "      <th>Jim Henson Company, The</th>\n",
       "      <td>10</td>\n",
       "    </tr>\n",
       "    <tr>\n",
       "      <th>Polsky Films</th>\n",
       "      <td>9</td>\n",
       "    </tr>\n",
       "    <tr>\n",
       "      <th>The Saul Zaentz Company</th>\n",
       "      <td>9</td>\n",
       "    </tr>\n",
       "    <tr>\n",
       "      <th>Dos Corazones</th>\n",
       "      <td>9</td>\n",
       "    </tr>\n",
       "    <tr>\n",
       "      <th>...</th>\n",
       "      <td>...</td>\n",
       "    </tr>\n",
       "    <tr>\n",
       "      <th>ApolloMedia Distribution</th>\n",
       "      <td>1</td>\n",
       "    </tr>\n",
       "    <tr>\n",
       "      <th>Film 44</th>\n",
       "      <td>1</td>\n",
       "    </tr>\n",
       "    <tr>\n",
       "      <th>Alpha Core</th>\n",
       "      <td>1</td>\n",
       "    </tr>\n",
       "    <tr>\n",
       "      <th>Fat Free</th>\n",
       "      <td>1</td>\n",
       "    </tr>\n",
       "    <tr>\n",
       "      <th>Sideways Productions Inc.</th>\n",
       "      <td>1</td>\n",
       "    </tr>\n",
       "  </tbody>\n",
       "</table>\n",
       "<p>1772 rows × 1 columns</p>\n",
       "</div>"
      ],
      "text/plain": [
       "                            0\n",
       "Four By Two Productions    12\n",
       "Jim Henson Company, The    10\n",
       "Polsky Films                9\n",
       "The Saul Zaentz Company     9\n",
       "Dos Corazones               9\n",
       "...                        ..\n",
       "ApolloMedia Distribution    1\n",
       "Film 44                     1\n",
       "Alpha Core                  1\n",
       "Fat Free                    1\n",
       "Sideways Productions Inc.   1\n",
       "\n",
       "[1772 rows x 1 columns]"
      ]
     },
     "execution_count": 61,
     "metadata": {},
     "output_type": "execute_result"
    }
   ],
   "source": [
    "data['wlen'] = data.original_title.apply(lambda x: len(x.split()))\n",
    "\n",
    "def counter(movie_bd, x):\n",
    "    data_plot=movie_bd[x].str.cat(sep='|')\n",
    "    dat=pd.Series(data_plot.split('|'))\n",
    "    info=dat.value_counts(ascending=False)\n",
    "    return info\n",
    "sum_gen = counter(data,'production_companies')\n",
    "for gen in sum_gen.index:\n",
    "    sum_gen[gen] = data['wlen'][data['production_companies'].map(lambda x: True if gen in x else False)].mean()\n",
    "sum_gen = pd.DataFrame(sum_gen).sort_values(0, ascending=False)\n",
    "sum_gen"
   ]
  },
  {
   "cell_type": "code",
   "execution_count": 102,
   "metadata": {},
   "outputs": [],
   "source": [
    "answer_ls.append(5)"
   ]
  },
  {
   "cell_type": "markdown",
   "metadata": {},
   "source": [
    "# 33. Сколько разных слов используется в названиях фильмов?(без учета регистра)\n",
    "Варианты ответа:\n",
    "1. 6540\n",
    "2. 1002\n",
    "3. 2461\n",
    "4. 28304\n",
    "5. 3432"
   ]
  },
  {
   "cell_type": "code",
   "execution_count": 103,
   "metadata": {},
   "outputs": [],
   "source": [
    "answer_ls.append(3)"
   ]
  },
  {
   "cell_type": "markdown",
   "metadata": {},
   "source": [
    "# 34. Какие фильмы входят в 1 процент лучших по рейтингу?\n",
    "Варианты ответа:\n",
    "1. Inside Out, Gone Girl, 12 Years a Slave\n",
    "2. BloodRayne, The Adventures of Rocky & Bullwinkle\n",
    "3. The Lord of the Rings: The Return of the King\n",
    "4. 300, Lucky Number Slevin"
   ]
  },
  {
   "cell_type": "code",
   "execution_count": 62,
   "metadata": {},
   "outputs": [
    {
     "data": {
      "text/plain": [
       "600                                       The Dark Knight\n",
       "125                                    The Imitation Game\n",
       "9                                              Inside Out\n",
       "118                                          Interstellar\n",
       "34                                                   Room\n",
       "1082        The Lord of the Rings: The Return of the King\n",
       "873                                           The Pianist\n",
       "1801                                              Memento\n",
       "1192                                     12 Years a Slave\n",
       "128                                             Gone Girl\n",
       "138                              The Grand Budapest Hotel\n",
       "119                               Guardians of the Galaxy\n",
       "1184                              The Wolf of Wall Street\n",
       "370                                             Inception\n",
       "316                                              3 Idiots\n",
       "1564                Eternal Sunshine of the Spotless Mind\n",
       "497     The Lord of the Rings: The Fellowship of the Ring\n",
       "28                                              Spotlight\n",
       "1214                                   Dallas Buyers Club\n",
       "Name: original_title, dtype: object"
      ]
     },
     "execution_count": 62,
     "metadata": {},
     "output_type": "execute_result"
    }
   ],
   "source": [
    "data.sort_values(by='vote_average', ascending=False).head(int(len(data)*0.01)+1)['original_title']"
   ]
  },
  {
   "cell_type": "code",
   "execution_count": 104,
   "metadata": {},
   "outputs": [],
   "source": [
    "answer_ls.append(1)"
   ]
  },
  {
   "cell_type": "markdown",
   "metadata": {},
   "source": [
    "# 35. Какие актеры чаще всего снимаются в одном фильме вместе\n",
    "Варианты ответа:\n",
    "1. Johnny Depp & Helena Bonham Carter\n",
    "2. Hugh Jackman & Ian McKellen\n",
    "3. Vin Diesel & Paul Walker\n",
    "4. Adam Sandler & Kevin James\n",
    "5. Daniel Radcliffe & Rupert Grint"
   ]
  },
  {
   "cell_type": "code",
   "execution_count": 63,
   "metadata": {},
   "outputs": [
    {
     "data": {
      "text/plain": [
       "[(('Daniel Radcliffe', 'Rupert Grint'), 8),\n",
       " (('Daniel Radcliffe', 'Emma Watson'), 8),\n",
       " (('Rupert Grint', 'Emma Watson'), 7),\n",
       " (('Ben Stiller', 'Owen Wilson'), 6),\n",
       " (('Johnny Depp', 'Helena Bonham Carter'), 6)]"
      ]
     },
     "execution_count": 63,
     "metadata": {},
     "output_type": "execute_result"
    }
   ],
   "source": [
    "import itertools\n",
    "import collections\n",
    "\n",
    "_actors=collections.Counter()\n",
    "for i, d in data.iterrows():\n",
    "    _a = d.cast.split('|')\n",
    "    _actors.update([ x for x in itertools.combinations(_a, 2)])\n",
    "_actors.most_common(5)"
   ]
  },
  {
   "cell_type": "code",
   "execution_count": 105,
   "metadata": {},
   "outputs": [],
   "source": [
    "answer_ls.append(5)"
   ]
  },
  {
   "cell_type": "markdown",
   "metadata": {},
   "source": [
    "# 36. У какого из режиссеров выше вероятность выпустить фильм в прибыли? (5 баллов)101\n",
    "Варианты ответа:\n",
    "1. Quentin Tarantino\n",
    "2. Steven Soderbergh\n",
    "3. Robert Rodriguez\n",
    "4. Christopher Nolan\n",
    "5. Clint Eastwood"
   ]
  },
  {
   "cell_type": "code",
   "execution_count": null,
   "metadata": {},
   "outputs": [],
   "source": [
    "answer_ls.append(1)"
   ]
  },
  {
   "cell_type": "markdown",
   "metadata": {},
   "source": [
    "# Submission"
   ]
  },
  {
   "cell_type": "code",
   "execution_count": 106,
   "metadata": {},
   "outputs": [
    {
     "data": {
      "text/plain": [
       "35"
      ]
     },
     "execution_count": 106,
     "metadata": {},
     "output_type": "execute_result"
    }
   ],
   "source": [
    "len(answer_ls)"
   ]
  },
  {
   "cell_type": "code",
   "execution_count": 107,
   "metadata": {},
   "outputs": [
    {
     "data": {
      "text/html": [
       "<div>\n",
       "<style scoped>\n",
       "    .dataframe tbody tr th:only-of-type {\n",
       "        vertical-align: middle;\n",
       "    }\n",
       "\n",
       "    .dataframe tbody tr th {\n",
       "        vertical-align: top;\n",
       "    }\n",
       "\n",
       "    .dataframe thead th {\n",
       "        text-align: right;\n",
       "    }\n",
       "</style>\n",
       "<table border=\"1\" class=\"dataframe\">\n",
       "  <thead>\n",
       "    <tr style=\"text-align: right;\">\n",
       "      <th></th>\n",
       "      <th>Id</th>\n",
       "      <th>Answer</th>\n",
       "    </tr>\n",
       "  </thead>\n",
       "  <tbody>\n",
       "    <tr>\n",
       "      <th>0</th>\n",
       "      <td>1</td>\n",
       "      <td>4</td>\n",
       "    </tr>\n",
       "    <tr>\n",
       "      <th>1</th>\n",
       "      <td>2</td>\n",
       "      <td>2</td>\n",
       "    </tr>\n",
       "    <tr>\n",
       "      <th>2</th>\n",
       "      <td>3</td>\n",
       "      <td>3</td>\n",
       "    </tr>\n",
       "    <tr>\n",
       "      <th>3</th>\n",
       "      <td>4</td>\n",
       "      <td>2</td>\n",
       "    </tr>\n",
       "    <tr>\n",
       "      <th>4</th>\n",
       "      <td>5</td>\n",
       "      <td>1</td>\n",
       "    </tr>\n",
       "    <tr>\n",
       "      <th>5</th>\n",
       "      <td>6</td>\n",
       "      <td>5</td>\n",
       "    </tr>\n",
       "    <tr>\n",
       "      <th>6</th>\n",
       "      <td>7</td>\n",
       "      <td>4</td>\n",
       "    </tr>\n",
       "    <tr>\n",
       "      <th>7</th>\n",
       "      <td>8</td>\n",
       "      <td>1</td>\n",
       "    </tr>\n",
       "    <tr>\n",
       "      <th>8</th>\n",
       "      <td>9</td>\n",
       "      <td>4</td>\n",
       "    </tr>\n",
       "    <tr>\n",
       "      <th>9</th>\n",
       "      <td>10</td>\n",
       "      <td>5</td>\n",
       "    </tr>\n",
       "    <tr>\n",
       "      <th>10</th>\n",
       "      <td>11</td>\n",
       "      <td>4</td>\n",
       "    </tr>\n",
       "    <tr>\n",
       "      <th>11</th>\n",
       "      <td>12</td>\n",
       "      <td>2</td>\n",
       "    </tr>\n",
       "    <tr>\n",
       "      <th>12</th>\n",
       "      <td>13</td>\n",
       "      <td>1</td>\n",
       "    </tr>\n",
       "    <tr>\n",
       "      <th>13</th>\n",
       "      <td>14</td>\n",
       "      <td>4</td>\n",
       "    </tr>\n",
       "    <tr>\n",
       "      <th>14</th>\n",
       "      <td>15</td>\n",
       "      <td>4</td>\n",
       "    </tr>\n",
       "    <tr>\n",
       "      <th>15</th>\n",
       "      <td>16</td>\n",
       "      <td>1</td>\n",
       "    </tr>\n",
       "    <tr>\n",
       "      <th>16</th>\n",
       "      <td>17</td>\n",
       "      <td>3</td>\n",
       "    </tr>\n",
       "    <tr>\n",
       "      <th>17</th>\n",
       "      <td>18</td>\n",
       "      <td>3</td>\n",
       "    </tr>\n",
       "    <tr>\n",
       "      <th>18</th>\n",
       "      <td>19</td>\n",
       "      <td>2</td>\n",
       "    </tr>\n",
       "    <tr>\n",
       "      <th>19</th>\n",
       "      <td>20</td>\n",
       "      <td>1</td>\n",
       "    </tr>\n",
       "    <tr>\n",
       "      <th>20</th>\n",
       "      <td>21</td>\n",
       "      <td>4</td>\n",
       "    </tr>\n",
       "    <tr>\n",
       "      <th>21</th>\n",
       "      <td>22</td>\n",
       "      <td>3</td>\n",
       "    </tr>\n",
       "    <tr>\n",
       "      <th>22</th>\n",
       "      <td>23</td>\n",
       "      <td>3</td>\n",
       "    </tr>\n",
       "    <tr>\n",
       "      <th>23</th>\n",
       "      <td>24</td>\n",
       "      <td>1</td>\n",
       "    </tr>\n",
       "    <tr>\n",
       "      <th>24</th>\n",
       "      <td>25</td>\n",
       "      <td>5</td>\n",
       "    </tr>\n",
       "    <tr>\n",
       "      <th>25</th>\n",
       "      <td>26</td>\n",
       "      <td>1</td>\n",
       "    </tr>\n",
       "    <tr>\n",
       "      <th>26</th>\n",
       "      <td>27</td>\n",
       "      <td>4</td>\n",
       "    </tr>\n",
       "    <tr>\n",
       "      <th>27</th>\n",
       "      <td>28</td>\n",
       "      <td>2</td>\n",
       "    </tr>\n",
       "    <tr>\n",
       "      <th>28</th>\n",
       "      <td>29</td>\n",
       "      <td>5</td>\n",
       "    </tr>\n",
       "    <tr>\n",
       "      <th>29</th>\n",
       "      <td>30</td>\n",
       "      <td>3</td>\n",
       "    </tr>\n",
       "    <tr>\n",
       "      <th>30</th>\n",
       "      <td>31</td>\n",
       "      <td>5</td>\n",
       "    </tr>\n",
       "    <tr>\n",
       "      <th>31</th>\n",
       "      <td>32</td>\n",
       "      <td>5</td>\n",
       "    </tr>\n",
       "    <tr>\n",
       "      <th>32</th>\n",
       "      <td>33</td>\n",
       "      <td>3</td>\n",
       "    </tr>\n",
       "    <tr>\n",
       "      <th>33</th>\n",
       "      <td>34</td>\n",
       "      <td>1</td>\n",
       "    </tr>\n",
       "    <tr>\n",
       "      <th>34</th>\n",
       "      <td>35</td>\n",
       "      <td>5</td>\n",
       "    </tr>\n",
       "  </tbody>\n",
       "</table>\n",
       "</div>"
      ],
      "text/plain": [
       "    Id  Answer\n",
       "0    1       4\n",
       "1    2       2\n",
       "2    3       3\n",
       "3    4       2\n",
       "4    5       1\n",
       "5    6       5\n",
       "6    7       4\n",
       "7    8       1\n",
       "8    9       4\n",
       "9   10       5\n",
       "10  11       4\n",
       "11  12       2\n",
       "12  13       1\n",
       "13  14       4\n",
       "14  15       4\n",
       "15  16       1\n",
       "16  17       3\n",
       "17  18       3\n",
       "18  19       2\n",
       "19  20       1\n",
       "20  21       4\n",
       "21  22       3\n",
       "22  23       3\n",
       "23  24       1\n",
       "24  25       5\n",
       "25  26       1\n",
       "26  27       4\n",
       "27  28       2\n",
       "28  29       5\n",
       "29  30       3\n",
       "30  31       5\n",
       "31  32       5\n",
       "32  33       3\n",
       "33  34       1\n",
       "34  35       5"
      ]
     },
     "execution_count": 107,
     "metadata": {},
     "output_type": "execute_result"
    }
   ],
   "source": [
    "pd.DataFrame({'Id':range(1,len(answer_ls)+1), 'Answer':answer_ls}, columns=['Id', 'Answer'])"
   ]
  },
  {
   "cell_type": "code",
   "execution_count": null,
   "metadata": {},
   "outputs": [],
   "source": []
  }
 ],
 "metadata": {
  "kernelspec": {
   "display_name": "Python 3",
   "language": "python",
   "name": "python3"
  },
  "language_info": {
   "codemirror_mode": {
    "name": "ipython",
    "version": 3
   },
   "file_extension": ".py",
   "mimetype": "text/x-python",
   "name": "python",
   "nbconvert_exporter": "python",
   "pygments_lexer": "ipython3",
   "version": "3.7.6"
  }
 },
 "nbformat": 4,
 "nbformat_minor": 4
}
